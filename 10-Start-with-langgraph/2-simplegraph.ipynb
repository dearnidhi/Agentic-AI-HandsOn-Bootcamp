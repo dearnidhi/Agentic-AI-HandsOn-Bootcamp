{
 "cells": [
  {
   "cell_type": "markdown",
   "metadata": {},
   "source": [
    "# Build a Simple Workflow or Graph Using LangGraph\n",
    "\n",
    "We will implement a simple workflow using the **LangGraph** framework. This workflow models a **morning routine** and demonstrates how **nodes**, **edges**, **state**, and **conditional logic** work together in a graph.\n",
    "\n",
    "## 1️⃣ Understanding the Workflow\n",
    "\n",
    "Our workflow looks like this:\n",
    "\n"
   ]
  },
  {
   "cell_type": "markdown",
   "metadata": {},
   "source": [
    "[Start Morning] --> [Decision: Coffee or Jog] --> [Coffee or Jog Node] --> [End]"
   ]
  },
  {
   "cell_type": "markdown",
   "metadata": {},
   "source": [
    "\n",
    "### Components:\n",
    "\n",
    "- **Nodes:** Represent tasks (Python functions).  \n",
    "- **Edges:** Define the flow between nodes.  \n",
    "- **Conditional Edges:** Decide which path to take based on conditions.  \n",
    "- **State:** Holds information that flows between nodes.  \n",
    "- **State Graph:** Represents the structure of the entire graph.  \n"
   ]
  },
  {
   "cell_type": "markdown",
   "metadata": {},
   "source": [
    "#### State\n",
    "First, define the State of the graph.\n",
    "\n",
    "The State schema serves as the input schema for all Nodes and Edges in the graph.\n",
    "\n",
    "Let's use the TypedDict class from python's typing module as our schema, which provides type hints for the keys."
   ]
  },
  {
   "cell_type": "code",
   "execution_count": 4,
   "metadata": {},
   "outputs": [],
   "source": [
    "# Step 1: Define the State\n",
    "from typing_extensions import TypedDict\n",
    "\n",
    "class State(TypedDict):\n",
    "    routine_info: str"
   ]
  },
  {
   "cell_type": "markdown",
   "metadata": {},
   "source": [
    "TypeDict allows us to define a dictionary with specific keys and types, which helps in type-checking and structuring our state."
   ]
  },
  {
   "cell_type": "markdown",
   "metadata": {},
   "source": [
    "#### Nodes\n",
    "Nodes are Python functions where the first argument is the state object."
   ]
  },
  {
   "cell_type": "code",
   "execution_count": 5,
   "metadata": {},
   "outputs": [],
   "source": [
    "# Step 2: Define Nodes\n",
    "def start_morning(state: State):\n",
    "    print(\"Start Morning Routine node has been called\")\n",
    "    return {\"routine_info\": state['routine_info'] + \" Woke up\"}\n",
    "\n",
    "def coffee(state: State):\n",
    "    print(\"Coffee node has been called\")\n",
    "    return {\"routine_info\": state['routine_info'] + \" Drank Coffee\"}\n",
    "\n",
    "def jog(state: State):\n",
    "    print(\"Jog node has been called\")\n",
    "    return {\"routine_info\": state['routine_info'] + \" Went for Jog\"}"
   ]
  },
  {
   "cell_type": "code",
   "execution_count": 9,
   "metadata": {},
   "outputs": [],
   "source": [
    "# Step 3: Conditional Function\n",
    "import random\n",
    "from typing import Literal\n",
    "def morning_choice(state:State)->Literal['coffee', 'jog']:\n",
    "    if random.random()> 0.5:\n",
    "        return \"coffee\"\n",
    "    else:\n",
    "        return \"jog\"\n"
   ]
  },
  {
   "cell_type": "markdown",
   "metadata": {},
   "source": [
    "# Graph Construction with LangGraph\n",
    "\n",
    "we build a graph workflow using the components defined earlier. The **StateGraph** class is the main graph class that we will use to create and manage the workflow.\n",
    "\n",
    "---\n",
    "\n",
    "## Steps for Graph Construction\n",
    "\n",
    "1. **Initialize the Graph**  \n",
    "   - We start by creating an instance of the `StateGraph` class.  \n",
    "   - The `State` class, which we defined earlier, is passed as the schema to define the structure of the graph’s state.\n",
    "\n",
    "2. **Add Nodes and Edges**  \n",
    "   - Nodes are Python functions that perform specific tasks in the workflow.  \n",
    "   - Edges connect the nodes and define the flow of execution.  \n",
    "   - Conditional edges can be used to create branching logic, allowing different paths based on certain conditions.\n",
    "\n",
    "3. **Special Nodes**  \n",
    "   - **START Node**: A special node that acts as the entry point of the graph. It sends the initial input or state into the graph.  \n",
    "   - **END Node**: A special node representing the termination of the workflow. When the execution reaches this node, the workflow ends.\n",
    "\n",
    "4. **Compile the Graph**  \n",
    "   - Compiling the graph performs basic checks to ensure there are no structural issues, such as unconnected nodes or invalid edges.  \n",
    "   - This step ensures the workflow is ready for execution.\n",
    "\n",
    "5. **Visualize the Graph**  \n",
    "   - After the graph is constructed, it can be visualized as a **Mermaid diagram** to clearly see the workflow structure and flow between nodes.\n",
    "\n"
   ]
  },
  {
   "cell_type": "code",
   "execution_count": 7,
   "metadata": {},
   "outputs": [
    {
     "name": "stdout",
     "output_type": "stream",
     "text": [
      "Requirement already satisfied: langgraph in c:\\users\\window 11\\desktop\\agentic ai\\venv\\lib\\site-packages (0.6.8)\n",
      "Requirement already satisfied: langgraph-prebuilt<0.7.0,>=0.6.0 in c:\\users\\window 11\\desktop\\agentic ai\\venv\\lib\\site-packages (from langgraph) (0.6.4)\n",
      "Requirement already satisfied: xxhash>=3.5.0 in c:\\users\\window 11\\desktop\\agentic ai\\venv\\lib\\site-packages (from langgraph) (3.6.0)\n",
      "Requirement already satisfied: langchain-core>=0.1 in c:\\users\\window 11\\desktop\\agentic ai\\venv\\lib\\site-packages (from langgraph) (0.3.76)\n",
      "Requirement already satisfied: langgraph-checkpoint<3.0.0,>=2.1.0 in c:\\users\\window 11\\desktop\\agentic ai\\venv\\lib\\site-packages (from langgraph) (2.1.1)\n",
      "Requirement already satisfied: langgraph-sdk<0.3.0,>=0.2.2 in c:\\users\\window 11\\desktop\\agentic ai\\venv\\lib\\site-packages (from langgraph) (0.2.9)\n",
      "Requirement already satisfied: pydantic>=2.7.4 in c:\\users\\window 11\\desktop\\agentic ai\\venv\\lib\\site-packages (from langgraph) (2.11.9)\n",
      "Requirement already satisfied: langsmith>=0.3.45 in c:\\users\\window 11\\desktop\\agentic ai\\venv\\lib\\site-packages (from langchain-core>=0.1->langgraph) (0.4.31)\n",
      "Requirement already satisfied: packaging>=23.2 in c:\\users\\window 11\\desktop\\agentic ai\\venv\\lib\\site-packages (from langchain-core>=0.1->langgraph) (25.0)\n",
      "Requirement already satisfied: jsonpatch<2.0,>=1.33 in c:\\users\\window 11\\desktop\\agentic ai\\venv\\lib\\site-packages (from langchain-core>=0.1->langgraph) (1.33)\n",
      "Requirement already satisfied: PyYAML>=5.3 in c:\\users\\window 11\\desktop\\agentic ai\\venv\\lib\\site-packages (from langchain-core>=0.1->langgraph) (6.0.3)\n",
      "Requirement already satisfied: tenacity!=8.4.0,<10.0.0,>=8.1.0 in c:\\users\\window 11\\desktop\\agentic ai\\venv\\lib\\site-packages (from langchain-core>=0.1->langgraph) (9.1.2)\n",
      "Requirement already satisfied: typing-extensions>=4.7 in c:\\users\\window 11\\desktop\\agentic ai\\venv\\lib\\site-packages (from langchain-core>=0.1->langgraph) (4.15.0)\n",
      "Requirement already satisfied: ormsgpack>=1.10.0 in c:\\users\\window 11\\desktop\\agentic ai\\venv\\lib\\site-packages (from langgraph-checkpoint<3.0.0,>=2.1.0->langgraph) (1.10.0)\n",
      "Requirement already satisfied: orjson>=3.10.1 in c:\\users\\window 11\\desktop\\agentic ai\\venv\\lib\\site-packages (from langgraph-sdk<0.3.0,>=0.2.2->langgraph) (3.11.3)\n",
      "Requirement already satisfied: httpx>=0.25.2 in c:\\users\\window 11\\desktop\\agentic ai\\venv\\lib\\site-packages (from langgraph-sdk<0.3.0,>=0.2.2->langgraph) (0.28.1)\n",
      "Requirement already satisfied: annotated-types>=0.6.0 in c:\\users\\window 11\\desktop\\agentic ai\\venv\\lib\\site-packages (from pydantic>=2.7.4->langgraph) (0.7.0)\n",
      "Requirement already satisfied: typing-inspection>=0.4.0 in c:\\users\\window 11\\desktop\\agentic ai\\venv\\lib\\site-packages (from pydantic>=2.7.4->langgraph) (0.4.1)\n",
      "Requirement already satisfied: pydantic-core==2.33.2 in c:\\users\\window 11\\desktop\\agentic ai\\venv\\lib\\site-packages (from pydantic>=2.7.4->langgraph) (2.33.2)\n",
      "Requirement already satisfied: idna in c:\\users\\window 11\\desktop\\agentic ai\\venv\\lib\\site-packages (from httpx>=0.25.2->langgraph-sdk<0.3.0,>=0.2.2->langgraph) (3.10)\n",
      "Requirement already satisfied: anyio in c:\\users\\window 11\\desktop\\agentic ai\\venv\\lib\\site-packages (from httpx>=0.25.2->langgraph-sdk<0.3.0,>=0.2.2->langgraph) (4.11.0)\n",
      "Requirement already satisfied: httpcore==1.* in c:\\users\\window 11\\desktop\\agentic ai\\venv\\lib\\site-packages (from httpx>=0.25.2->langgraph-sdk<0.3.0,>=0.2.2->langgraph) (1.0.9)\n",
      "Requirement already satisfied: certifi in c:\\users\\window 11\\desktop\\agentic ai\\venv\\lib\\site-packages (from httpx>=0.25.2->langgraph-sdk<0.3.0,>=0.2.2->langgraph) (2025.8.3)\n",
      "Requirement already satisfied: h11>=0.16 in c:\\users\\window 11\\desktop\\agentic ai\\venv\\lib\\site-packages (from httpcore==1.*->httpx>=0.25.2->langgraph-sdk<0.3.0,>=0.2.2->langgraph) (0.16.0)\n",
      "Requirement already satisfied: jsonpointer>=1.9 in c:\\users\\window 11\\desktop\\agentic ai\\venv\\lib\\site-packages (from jsonpatch<2.0,>=1.33->langchain-core>=0.1->langgraph) (3.0.0)\n",
      "Requirement already satisfied: zstandard>=0.23.0 in c:\\users\\window 11\\desktop\\agentic ai\\venv\\lib\\site-packages (from langsmith>=0.3.45->langchain-core>=0.1->langgraph) (0.25.0)\n",
      "Requirement already satisfied: requests>=2.0.0 in c:\\users\\window 11\\desktop\\agentic ai\\venv\\lib\\site-packages (from langsmith>=0.3.45->langchain-core>=0.1->langgraph) (2.32.5)\n",
      "Requirement already satisfied: requests-toolbelt>=1.0.0 in c:\\users\\window 11\\desktop\\agentic ai\\venv\\lib\\site-packages (from langsmith>=0.3.45->langchain-core>=0.1->langgraph) (1.0.0)\n",
      "Requirement already satisfied: urllib3<3,>=1.21.1 in c:\\users\\window 11\\desktop\\agentic ai\\venv\\lib\\site-packages (from requests>=2.0.0->langsmith>=0.3.45->langchain-core>=0.1->langgraph) (2.5.0)\n",
      "Requirement already satisfied: charset_normalizer<4,>=2 in c:\\users\\window 11\\desktop\\agentic ai\\venv\\lib\\site-packages (from requests>=2.0.0->langsmith>=0.3.45->langchain-core>=0.1->langgraph) (3.4.3)\n",
      "Requirement already satisfied: exceptiongroup>=1.0.2 in c:\\users\\window 11\\desktop\\agentic ai\\venv\\lib\\site-packages (from anyio->httpx>=0.25.2->langgraph-sdk<0.3.0,>=0.2.2->langgraph) (1.3.0)\n",
      "Requirement already satisfied: sniffio>=1.1 in c:\\users\\window 11\\desktop\\agentic ai\\venv\\lib\\site-packages (from anyio->httpx>=0.25.2->langgraph-sdk<0.3.0,>=0.2.2->langgraph) (1.3.1)\n",
      "Note: you may need to restart the kernel to use updated packages.\n"
     ]
    },
    {
     "name": "stderr",
     "output_type": "stream",
     "text": [
      "\n",
      "[notice] A new release of pip is available: 23.0.1 -> 25.2\n",
      "[notice] To update, run: python.exe -m pip install --upgrade pip\n"
     ]
    }
   ],
   "source": [
    "pip install langgraph"
   ]
  },
  {
   "cell_type": "code",
   "execution_count": 11,
   "metadata": {},
   "outputs": [
    {
     "data": {
      "image/png": "[encoded data removed]",
      "text/plain": [
       "<IPython.core.display.Image object>"
      ]
     },
     "metadata": {},
     "output_type": "display_data"
    }
   ],
   "source": [
    "\n",
    "# Step 4: Build Graph\n",
    "from langgraph.graph import StateGraph, START, END\n",
    "from IPython.display import Image, display\n",
    "\n",
    "graph = StateGraph(State)\n",
    "\n",
    "# Add nodes\n",
    "graph.add_node(\"start_morning\", start_morning)\n",
    "graph.add_node(\"coffee\", coffee)\n",
    "graph.add_node(\"jog\", jog)\n",
    "\n",
    "# Schedule edges\n",
    "graph.add_edge(START, \"start_morning\")\n",
    "graph.add_conditional_edges(\"start_morning\", morning_choice)\n",
    "graph.add_edge(\"coffee\", END)\n",
    "graph.add_edge(\"jog\", END)\n",
    "\n",
    "# Compile and visualize\n",
    "graph_builder = graph.compile()\n",
    "display(Image(graph_builder.get_graph().draw_mermaid_png()))\n",
    "\n"
   ]
  },
  {
   "cell_type": "code",
   "execution_count": 12,
   "metadata": {},
   "outputs": [
    {
     "name": "stdout",
     "output_type": "stream",
     "text": [
      "Start Morning Routine node has been called\n",
      "Coffee node has been called\n"
     ]
    },
    {
     "data": {
      "text/plain": [
       "{'routine_info': 'Morning routine begins. Woke up Drank Coffee'}"
      ]
     },
     "execution_count": 12,
     "metadata": {},
     "output_type": "execute_result"
    }
   ],
   "source": [
    "\n",
    "# Step 5: Execute\n",
    "graph_builder.invoke({\"routine_info\": \"Morning routine begins.\"})"
   ]
  },
  {
   "cell_type": "markdown",
   "metadata": {},
   "source": [
    "### ✅ What Happens Here\n",
    "\n",
    "start_morning → first node (records “Woke up”).\n",
    "\n",
    "Conditional node → decides between coffee or jog.\n",
    "\n",
    "Each node updates routine_info in the state.\n",
    "\n",
    "Graph execution ends at END node.\n",
    "\n",
    "You can visualize the workflow as a Mermaid diagram."
   ]
  },
  {
   "cell_type": "markdown",
   "metadata": {},
   "source": [
    "### GRAPH Invocation"
   ]
  },
  {
   "cell_type": "code",
   "execution_count": 13,
   "metadata": {},
   "outputs": [
    {
     "name": "stdout",
     "output_type": "stream",
     "text": [
      "Start Morning Routine node has been called\n",
      "Jog node has been called\n"
     ]
    },
    {
     "data": {
      "text/plain": [
       "{'routine_info': 'Hey My name is Nidhi Woke up Went for Jog'}"
      ]
     },
     "execution_count": 13,
     "metadata": {},
     "output_type": "execute_result"
    }
   ],
   "source": [
    "graph_builder.invoke({\"routine_info\":\"Hey My name is Nidhi\"})"
   ]
  }
 ],
 "metadata": {
  "kernelspec": {
   "display_name": "venv",
   "language": "python",
   "name": "python3"
  },
  "language_info": {
   "codemirror_mode": {
    "name": "ipython",
    "version": 3
   },
   "file_extension": ".py",
   "mimetype": "text/x-python",
   "name": "python",
   "nbconvert_exporter": "python",
   "pygments_lexer": "ipython3",
   "version": "3.10.11"
  }
 },
 "nbformat": 4,
 "nbformat_minor": 2
}
