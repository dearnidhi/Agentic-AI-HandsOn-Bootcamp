{
 "cells": [
  {
   "cell_type": "markdown",
   "id": "f94efc2e",
   "metadata": {},
   "source": [
    "\n",
    "\n",
    "# 🧠 Human-in-the-Loop (HITL) – Simple Example\n",
    "\n",
    "## 📘 What HITL Means\n",
    "\n",
    "Human-in-the-Loop (HITL) is when AI does some work, but a human reviews, edits, or approves it before it's finalized. This is useful for tasks where mistakes are costly, like emails, reports, or decisions.\n",
    "\n",
    "## 🎯 HITL Goals\n",
    "\n",
    "| Purpose | Description |\n",
    "|---------|-------------|\n",
    "| 🖊 **Draft Generation** | AI creates an initial draft or answer |\n",
    "| 👀 **Human Review** | Human checks, edits, or approves the AI output |\n",
    "| 🔄 **Iteration** | Human feedback is fed back to AI to improve the draft |\n",
    "| 💾 **Memory Preservation** | AI remembers all messages/feedback for continuity |\n",
    "\n",
    "## ⚙️ Simple Example: Writing a Short Message\n",
    "\n",
    "Imagine you want to send a short message to a friend. AI can draft it, but you want to approve or edit it first.\n",
    "\n",
    "### Workflow Steps\n",
    "\n",
    "1. **Start** → You ask AI: \"Write a message to my friend saying hi.\"\n",
    "2. **AI Drafts Message** → AI suggests: \"Hey! How are you?\"\n",
    "3. **Human Review** → You see the draft and can:\n",
    "   - **Approve** → send as-is\n",
    "   - **Edit** → \"Hey! How's your day going?\"\n",
    "4. **Send Message** → Final message is sent (simulated).\n",
    "5. **End** → Workflow finishes.\n",
    "\n",
    "### Visual Flow\n",
    "\n"
   ]
  },
  {
   "attachments": {
    "image-2.png": {
     "image/png": "[encoded data removed]"
    }
   },
   "cell_type": "markdown",
   "id": "f7ad1b83",
   "metadata": {},
   "source": [
    "![image-2.png](attachment:image-2.png)"
   ]
  },
  {
   "cell_type": "markdown",
   "id": "f00dd997",
   "metadata": {},
   "source": [
    "\n",
    "## ✅ Key Points\n",
    "\n",
    "- AI never sends anything automatically without human approval.\n",
    "- Human feedback can change AI output before sending.\n",
    "- Memory allows AI to remember previous messages and feedback.\n",
    "- Workflow can loop until human is satisfied."
   ]
  },
  {
   "cell_type": "code",
   "execution_count": null,
   "id": "2663aab5-04dd-4ac3-bbf0-6063d85e5629",
   "metadata": {},
   "outputs": [
    {
     "name": "stdout",
     "output_type": "stream",
     "text": [
      "🧠 Friend Message Sender (Human-in-Loop)\n",
      "========================================\n"
     ]
    },
    {
     "name": "stdout",
     "output_type": "stream",
     "text": [
      "\n",
      "What message do you want to send?  say my fiend to hi\n"
     ]
    },
    {
     "name": "stdout",
     "output_type": "stream",
     "text": [
      "\n",
      "🤖 AI Draft: \"Hey, I just wanted to say hi to you on my friend's behalf! They said to give you a shout and hope you're doing well.\"\n",
      "\n",
      "📝 Review Options:\n",
      "1. ✅ Approve and send\n",
      "2. ✏️ Edit message\n",
      "3. 🔄 Regenerate\n"
     ]
    },
    {
     "name": "stdout",
     "output_type": "stream",
     "text": [
      "Choose (1/2/3):  1\n"
     ]
    },
    {
     "name": "stdout",
     "output_type": "stream",
     "text": [
      "✅ Approved: \"Hey, I just wanted to say hi to you on my friend's behalf! They said to give you a shout and hope you're doing well.\"\n",
      "\n",
      "🎉 Final message sent: \"Hey, I just wanted to say hi to you on my friend's behalf! They said to give you a shout and hope you're doing well.\"\n"
     ]
    }
   ],
   "source": [
    "from dotenv import load_dotenv\n",
    "load_dotenv()\n",
    "import os\n",
    "from langchain_groq import ChatGroq\n",
    "from langchain_core.messages import HumanMessage, AIMessage\n",
    "from langgraph.graph import StateGraph, START, END\n",
    "from typing import TypedDict, Literal\n",
    "\n",
    "# Setup\n",
    "os.environ[\"GROQ_API_KEY\"] = os.getenv(\"GROQ_API_KEY\")\n",
    "llm = ChatGroq(model=\"llama-3.1-8b-instant\")\n",
    "\n",
    "# State definition\n",
    "class MessageState(TypedDict):\n",
    "    user_request: str\n",
    "    ai_draft: str\n",
    "    final_message: str\n",
    "    status: Literal[\"draft\", \"review\", \"approved\", \"sent\"]\n",
    "\n",
    "# Nodes\n",
    "def generate_draft(state: MessageState):\n",
    "    \"\"\"AI message draft generate karega\"\"\"\n",
    "    prompt = f\"Write a friendly message: {state['user_request']}. Keep it short and casual.\"\n",
    "    ai_response = llm.invoke([HumanMessage(content=prompt)])\n",
    "    \n",
    "    print(f\"\\n🤖 AI Draft: {ai_response.content}\")\n",
    "    return {\"ai_draft\": ai_response.content, \"status\": \"review\"}\n",
    "\n",
    "def human_review(state: MessageState):\n",
    "    \"\"\"Human review karega\"\"\"\n",
    "    print(f\"\\n📝 Review Options:\")\n",
    "    print(\"1. ✅ Approve and send\")\n",
    "    print(\"2. ✏️ Edit message\")\n",
    "    print(\"3. 🔄 Regenerate\")\n",
    "    \n",
    "    choice = input(\"Choose (1/2/3): \").strip()\n",
    "    \n",
    "    if choice == \"1\":\n",
    "        final_msg = state['ai_draft']\n",
    "        print(f\"✅ Approved: {final_msg}\")\n",
    "        return {\"final_message\": final_msg, \"status\": \"sent\"}\n",
    "    \n",
    "    elif choice == \"2\":\n",
    "        edited = input(\"Enter your edited message: \")\n",
    "        print(f\"✅ Edited and sent: {edited}\")\n",
    "        return {\"final_message\": edited, \"status\": \"sent\"}\n",
    "    \n",
    "    else:  # Regenerate\n",
    "        print(\"🔄 Regenerating...\")\n",
    "        return {\"status\": \"draft\"}\n",
    "\n",
    "# Graph build karo\n",
    "workflow = StateGraph(MessageState)\n",
    "\n",
    "# Nodes add karo\n",
    "workflow.add_node(\"generate\", generate_draft)\n",
    "workflow.add_node(\"review\", human_review)\n",
    "\n",
    "# Edges set karo\n",
    "workflow.add_edge(START, \"generate\")\n",
    "workflow.add_edge(\"generate\", \"review\")\n",
    "\n",
    "def check_approval(state: MessageState):\n",
    "    \"\"\"Check karo human ne approve kiya ya regenerate karna hai\"\"\"\n",
    "    if state[\"status\"] == \"sent\":\n",
    "        return END\n",
    "    else:\n",
    "        return \"generate\"\n",
    "\n",
    "workflow.add_conditional_edges(\n",
    "    \"review\",\n",
    "    check_approval,\n",
    "    {\n",
    "        \"generate\": \"generate\",\n",
    "        END: END\n",
    "    }\n",
    ")\n",
    "\n",
    "# Compile karo\n",
    "app = workflow.compile()\n",
    "\n",
    "# Run karo\n",
    "def send_message_to_friend():\n",
    "    print(\"🧠 Friend Message Sender (Human-in-Loop)\")\n",
    "    print(\"=\" * 40)\n",
    "    \n",
    "    user_input = input(\"\\nWhat message do you want to send? \")\n",
    "    \n",
    "    initial_state = {\n",
    "        \"user_request\": user_input,\n",
    "        \"ai_draft\": \"\",\n",
    "        \"final_message\": \"\", \n",
    "        \"status\": \"draft\"\n",
    "    }\n",
    "    \n",
    "    # Graph run karo\n",
    "    final_state = app.invoke(initial_state)\n",
    "    \n",
    "    print(f\"\\n🎉 Final message sent: {final_state['final_message']}\")\n",
    "\n",
    "# Run the workflow\n",
    "if __name__ == \"__main__\":\n",
    "    send_message_to_friend()"
   ]
  },
  {
   "cell_type": "code",
   "execution_count": 42,
   "id": "2d07eb37-0855-4aaf-aebd-66d6af4e20ee",
   "metadata": {},
   "outputs": [
    {
     "data": {
      "image/png": "[encoded data removed]",
      "text/plain": [
       "<IPython.core.display.Image object>"
      ]
     },
     "metadata": {},
     "output_type": "display_data"
    },
    {
     "name": "stdout",
     "output_type": "stream",
     "text": [
      "📊 Graph visualization displayed!\n"
     ]
    }
   ],
   "source": [
    "from IPython.display import Image, display\n",
    "\n",
    "# Graph dikhao\n",
    "try:\n",
    "    display(Image(app.get_graph().draw_mermaid_png()))\n",
    "    print(\"📊 Graph visualization displayed!\")\n",
    "except:\n",
    "    print(\"Graph display ke liye extra packages chahiye\")"
   ]
  },
  {
   "cell_type": "code",
   "execution_count": null,
   "id": "209be37e-0f9b-4b0d-b93f-011889c3bbb7",
   "metadata": {},
   "outputs": [],
   "source": []
  }
 ],
 "metadata": {
  "kernelspec": {
   "display_name": "Python 3.11 (NvenV)",
   "language": "python",
   "name": "nvenv"
  },
  "language_info": {
   "codemirror_mode": {
    "name": "ipython",
    "version": 3
   },
   "file_extension": ".py",
   "mimetype": "text/x-python",
   "name": "python",
   "nbconvert_exporter": "python",
   "pygments_lexer": "ipython3",
   "version": "3.11.0"
  }
 },
 "nbformat": 4,
 "nbformat_minor": 5
}
