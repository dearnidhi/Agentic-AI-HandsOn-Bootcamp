{
 "cells": [
  {
   "cell_type": "markdown",
   "metadata": {},
   "source": [
    "### ReAct Agent Architecture\n",
    "\n",
    "#### Aim\n",
    "This is the intuition behind ReAct, a general agent architecture.\n",
    "\n",
    "Reason → Act → Observe → Repeat\n",
    "\n",
    "1. act - let the model call specific tools\n",
    "2. observe - pass the tool output back to the model\n",
    "3. reason - let the model reason about the tool output to decide what to do next (e.g., call another tool or just respond directly)\n",
    "\n"
   ]
  },
  {
   "cell_type": "markdown",
   "metadata": {},
   "source": [
    "## ⚙️ Execution Example\n",
    "\n",
    "### 🧩 Query\n",
    "> “Provide the top 10 AI news for March 3rd 2025, add 5 plus 5, and then multiply by 10.”\n",
    "\n",
    "---\n",
    "\n",
    "### 🧠 Flow Diagram\n",
    "\n",
    "Human Query  \n",
    "⬇️  \n",
    "━━━━━━━━━━━━━━━━━━━  \n",
    "🟪 **LLM Node**  \n",
    "━━━━━━━━━━━━━━━━━━━  \n",
    "   ├── 🤔 **Decides:** Needs external info  \n",
    "   │        ⬇️  \n",
    "   │     🧰 **Call Tool:** TavilySearch  \n",
    "   │        ⬇️  \n",
    "   │     📄 **Returns:** Top 10 AI news  \n",
    "   │  \n",
    "   ├── 🧮 **Observes:** Math task detected  \n",
    "   │        ⬇️  \n",
    "   │     🔢 **Call Tool:** Add(5 + 5)  \n",
    "   │        ⬇️  \n",
    "   │     ✅ **Result:** 10  \n",
    "   │        ⬇️  \n",
    "   │     ✖️ **Call Tool:** Multiply(10 × 10)  \n",
    "   │        ⬇️  \n",
    "   │     ✅ **Result:** 100  \n",
    "   │  \n",
    "⬇️  \n",
    "━━━━━━━━━━━━━━━━━━━  \n",
    "🧠 **LLM Final Reasoning**  \n",
    "━━━━━━━━━━━━━━━━━━━  \n",
    "⬇️  \n",
    "📦 **Final Output**  \n",
    "➡️ “Here are the top 10 AI news for March 3rd 2025, and the computed result is **100**.”\n"
   ]
  },
  {
   "cell_type": "code",
   "execution_count": 32,
   "metadata": {},
   "outputs": [],
   "source": [
    "from langchain_community.tools import ArxivQueryRun,WikipediaQueryRun\n",
    "from langchain_community.utilities import WikipediaAPIWrapper,ArxivAPIWrapper"
   ]
  },
  {
   "cell_type": "code",
   "execution_count": 33,
   "metadata": {},
   "outputs": [
    {
     "name": "stdout",
     "output_type": "stream",
     "text": [
      "arxiv\n"
     ]
    }
   ],
   "source": [
    "api_wrapper_arxiv=ArxivAPIWrapper(top_k_results=2,doc_content_chars_max=500)\n",
    "arxiv=ArxivQueryRun(api_wrapper=api_wrapper_arxiv)\n",
    "print(arxiv.name)"
   ]
  },
  {
   "cell_type": "code",
   "execution_count": 34,
   "metadata": {},
   "outputs": [
    {
     "data": {
      "text/plain": [
       "\"Published: 2024-07-22\\nTitle: Attention Is All You Need But You Don't Need All Of It For Inference of Large Language Models\\nAuthors: Georgy Tyukin, Gbetondji J-S Dovonon, Jean Kaddour, Pasquale Minervini\\nSummary: The inference demand for LLMs has skyrocketed in recent months, and serving\\nmodels with low latencies remains challenging due to the quadratic input length\\ncomplexity of the attention layers. In this work, we investigate the effect of\\ndropping MLP and attention layers at inference time o\""
      ]
     },
     "execution_count": 34,
     "metadata": {},
     "output_type": "execute_result"
    }
   ],
   "source": [
    "arxiv.invoke(\"Attention iss all you need\")"
   ]
  },
  {
   "cell_type": "code",
   "execution_count": 35,
   "metadata": {},
   "outputs": [
    {
     "data": {
      "text/plain": [
       "'wikipedia'"
      ]
     },
     "execution_count": 35,
     "metadata": {},
     "output_type": "execute_result"
    }
   ],
   "source": [
    "api_wrapper_wiki=WikipediaAPIWrapper(top_k_results=1,doc_content_chars_max=500)\n",
    "wiki=WikipediaQueryRun(api_wrapper=api_wrapper_wiki)\n",
    "wiki.name"
   ]
  },
  {
   "cell_type": "code",
   "execution_count": 36,
   "metadata": {},
   "outputs": [
    {
     "data": {
      "text/plain": [
       "'Page: Machine learning\\nSummary: Machine learning (ML) is a field of study in artificial intelligence concerned with the development and study of statistical algorithms that can learn from data and generalise to unseen data, and thus perform tasks without explicit instructions. Within a subdiscipline in machine learning, advances in the field of deep learning have allowed neural networks, a class of statistical algorithms, to surpass many previous machine learning approaches in performance.\\nML fi'"
      ]
     },
     "execution_count": 36,
     "metadata": {},
     "output_type": "execute_result"
    }
   ],
   "source": [
    "wiki.invoke(\"What is machine learning\")"
   ]
  },
  {
   "cell_type": "code",
   "execution_count": 37,
   "metadata": {},
   "outputs": [],
   "source": [
    "from dotenv import load_dotenv\n",
    "load_dotenv()\n",
    "\n",
    "import os\n",
    "\n",
    "os.environ[\"TAVILY_API_KEY\"]=os.getenv(\"TAVILY_API_KEY\")\n",
    "os.environ[\"GROQ_API_KEY\"]=os.getenv(\"GROQ_API_KEY\")\n",
    "os.environ[\"LANGCHAIN_API_KEY\"]=os.getenv(\"LANGCHAIN_API_KEY\")\n",
    "os.environ[\"LANGCHAIN_TRACING_V2\"] = \"true\"\n",
    "os.environ[\"LANGCHAIN_PROJECT\"]=\"ReAct-agent\"\n"
   ]
  },
  {
   "cell_type": "code",
   "execution_count": 38,
   "metadata": {},
   "outputs": [],
   "source": [
    "### Custom Functions\n",
    "def multiply(a: int, b: int) -> int:\n",
    "    \"\"\"Multiply a and b.\n",
    "\n",
    "    Args:\n",
    "        a: first int\n",
    "        b: second int\n",
    "    \"\"\"\n",
    "    return a * b\n",
    "\n",
    "# This will be a tool\n",
    "def add(a: int, b: int) -> int:\n",
    "    \"\"\"Adds a and b.\n",
    "\n",
    "    Args:\n",
    "        a: first int\n",
    "        b: second int\n",
    "    \"\"\"\n",
    "    return a + b\n",
    "\n",
    "def divide(a: int, b: int) -> float:\n",
    "    \"\"\"Divide a and b.\n",
    "\n",
    "    Args:\n",
    "        a: first int\n",
    "        b: second int\n",
    "    \"\"\"\n",
    "    return a / b\n",
    "\n",
    "tools=[arxiv,wiki,add,multiply,divide]"
   ]
  },
  {
   "cell_type": "code",
   "execution_count": 39,
   "metadata": {},
   "outputs": [],
   "source": [
    "### Tavily Search Tool\n",
    "from langchain_community.tools.tavily_search import TavilySearchResults\n",
    "\n",
    "tavily = TavilySearchResults()"
   ]
  },
  {
   "cell_type": "code",
   "execution_count": 40,
   "metadata": {},
   "outputs": [
    {
     "data": {
      "text/plain": [
       "[{'title': 'GPT 4.5 is out! — Weekly AI Newsletter (March 3rd 2025) - Medium',\n",
       "  'url': 'https://medium.com/nlplanet/gpt-4-5-is-out-weekly-ai-newsletter-march-3rd-2025-6b31dd83ca60',\n",
       "  'content': 'Anthropic releases Claude 3.7 Sonnet, OpenAI expands Deep Research for Plus users, and Google launches new code assistant.',\n",
       "  'score': 0.9020676},\n",
       " {'title': 'AI round-up: Week of March 3, 2025 - Akhia',\n",
       "  'url': 'https://www.akhia.com/insights/benthinking/ai-round-up-week-of-march-03-2025',\n",
       "  'content': \"Exploring the latest in AI advancements and ethical challenges, from Google's AI-only search to new AI models and the implications of unfiltered AI.\",\n",
       "  'score': 0.885404},\n",
       " {'title': 'Weekly AI News: 3 March 2025 - AIforBusiness.net - YouTube',\n",
       "  'url': 'https://www.youtube.com/watch?v=kw21NJ7YmZM',\n",
       "  'content': \"Subscribe to our newsletter: http://eepurl.com/iNfyac This week's AI update explores some of the most impactful developments shaping\",\n",
       "  'score': 0.8415267},\n",
       " {'title': 'The Latest AI News and AI Breakthroughs that Matter Most: 2025',\n",
       "  'url': 'https://www.crescendo.ai/news/latest-ai-news-and-updates',\n",
       "  'content': \"Recent AI news includes ASML's investment in Mistral AI, Trump's AI image, Apple's lawsuit, and deepfake AI video concerns.\",\n",
       "  'score': 0.8409005},\n",
       " {'title': 'The latest AI news we announced in March - Google Blog',\n",
       "  'url': 'https://blog.google/technology/ai/google-ai-updates-march-2025/',\n",
       "  'content': '# The latest AI news we announced in March\\n\\nApr 04, 2025\\n\\nHere’s a recap of some of our biggest AI updates from March, including Gemini 2.5 Pro, expanded access to AI Overviews, the release of AI Mode and more.\\n\\nSuperG\\n\\n## General summary [...] Google made significant progress in AI during March. They expanded access to AI Overviews and introduced AI Mode in Search, making it easier to find answers and explore topics. They also released Gemini 2.5 Pro, their most intelligent AI model, and Gemini Robotics, which aims to bring AI into the physical world. Google is also using AI to help developers create applications, detect wildfires, and protect nature.\\n\\n## Shakespeare-ish [...] Google made significant progress in AI during March. They expanded access to AI Overviews and introduced AI Mode in Search, making it easier to find answers and explore topics. They also released Gemini 2.5 Pro, their most intelligent AI model, and Gemini Robotics, which aims to bring AI into the physical world. Google is also using AI to help developers create applications, detect wildfires, and protect nature.',\n",
       "  'score': 0.8351749}]"
      ]
     },
     "execution_count": 40,
     "metadata": {},
     "output_type": "execute_result"
    }
   ],
   "source": [
    "tavily.invoke(\"Provide me the recent AI news for march 3rd 2025\")"
   ]
  },
  {
   "cell_type": "code",
   "execution_count": 41,
   "metadata": {},
   "outputs": [],
   "source": [
    "### Combine all the tools in the list\n",
    "\n",
    "tools=[arxiv,wiki,tavily,add,divide,multiply]"
   ]
  },
  {
   "cell_type": "code",
   "execution_count": 42,
   "metadata": {},
   "outputs": [],
   "source": [
    "## Initialize my LLM model\n",
    "\n",
    "from langchain_groq import ChatGroq\n",
    "\n",
    "llm=ChatGroq(model=\"llama-3.1-8b-instant\")\n",
    "\n",
    "llm_with_tools=llm.bind_tools(tools)"
   ]
  },
  {
   "cell_type": "code",
   "execution_count": 43,
   "metadata": {},
   "outputs": [
    {
     "data": {
      "text/plain": [
       "AIMessage(content='', additional_kwargs={'tool_calls': [{'id': 'n24cse67e', 'function': {'arguments': '{\"query\":\"recent AI news\"}', 'name': 'tavily_search_results_json'}, 'type': 'function'}]}, response_metadata={'token_usage': {'completion_tokens': 20, 'prompt_tokens': 744, 'total_tokens': 764, 'completion_time': 0.033880667, 'prompt_time': 0.043339796, 'queue_time': 0.044516064, 'total_time': 0.077220463}, 'model_name': 'llama-3.1-8b-instant', 'system_fingerprint': 'fp_ab04adca7d', 'service_tier': 'on_demand', 'finish_reason': 'tool_calls', 'logprobs': None}, id='run--2c9e9238-c3ce-4b7e-b992-ea5493bc09ef-0', tool_calls=[{'name': 'tavily_search_results_json', 'args': {'query': 'recent AI news'}, 'id': 'n24cse67e', 'type': 'tool_call'}], usage_metadata={'input_tokens': 744, 'output_tokens': 20, 'total_tokens': 764})"
      ]
     },
     "execution_count": 43,
     "metadata": {},
     "output_type": "execute_result"
    }
   ],
   "source": [
    "from pprint import pprint\n",
    "from langchain_core.messages import AIMessage, HumanMessage\n",
    "llm_with_tools.invoke([HumanMessage(content=f\"What is the recent AI News\")])"
   ]
  },
  {
   "cell_type": "code",
   "execution_count": 44,
   "metadata": {},
   "outputs": [
    {
     "data": {
      "text/plain": [
       "[{'name': 'tavily_search_results_json',\n",
       "  'args': {'query': 'Recent AI News'},\n",
       "  'id': '2s3k8kdaa',\n",
       "  'type': 'tool_call'}]"
      ]
     },
     "execution_count": 44,
     "metadata": {},
     "output_type": "execute_result"
    }
   ],
   "source": [
    "llm_with_tools.invoke([HumanMessage(content=f\"What is the recent AI News\")]).tool_calls"
   ]
  },
  {
   "cell_type": "code",
   "execution_count": 45,
   "metadata": {},
   "outputs": [],
   "source": [
    "## State Schema\n",
    "from typing_extensions import TypedDict\n",
    "from langchain_core.messages import AnyMessage\n",
    "from typing import Annotated\n",
    "from langgraph.graph.message import add_messages\n",
    "class State(TypedDict):\n",
    "    messages:Annotated[list[AnyMessage],add_messages]"
   ]
  },
  {
   "cell_type": "code",
   "execution_count": 46,
   "metadata": {},
   "outputs": [
    {
     "data": {
      "image/png": "[encoded data removed]",
      "text/plain": [
       "<IPython.core.display.Image object>"
      ]
     },
     "metadata": {},
     "output_type": "display_data"
    }
   ],
   "source": [
    "### Entire Chatbot With LangGraph\n",
    "from IPython.display import Image, display\n",
    "from langgraph.graph import StateGraph, START, END\n",
    "from langgraph.prebuilt import ToolNode\n",
    "from langgraph.prebuilt import tools_condition\n",
    "\n",
    "### Node definition\n",
    "def tool_calling_llm(state:State):\n",
    "    return {\"messages\":[llm_with_tools.invoke(state[\"messages\"])]}\n",
    "\n",
    "# Build graph\n",
    "builder = StateGraph(State)\n",
    "builder.add_node(\"tool_calling_llm\", tool_calling_llm)\n",
    "builder.add_node(\"tools\", ToolNode(tools))\n",
    "\n",
    "builder.add_edge(START, \"tool_calling_llm\")\n",
    "builder.add_conditional_edges(\n",
    "    \"tool_calling_llm\",\n",
    "    # If the latest message (result) from assistant is a tool call -> tools_condition routes to tools\n",
    "    # If the latest message (result) from assistant is a not a tool call -> tools_condition routes to END\n",
    "    tools_condition,\n",
    ")\n",
    "builder.add_edge(\"tools\",\"tool_calling_llm\")\n",
    "\n",
    "\n",
    "graph = builder.compile()\n",
    "\n",
    "# View\n",
    "display(Image(graph.get_graph().draw_mermaid_png()))\n"
   ]
  },
  {
   "cell_type": "code",
   "execution_count": 47,
   "metadata": {},
   "outputs": [
    {
     "name": "stdout",
     "output_type": "stream",
     "text": [
      "================================\u001b[1m Human Message \u001b[0m=================================\n",
      "\n",
      "Provide me the top 10 recent AI news for MArch 3rd 2025,add 5 plus 5 and then multiply by 10\n",
      "==================================\u001b[1m Ai Message \u001b[0m==================================\n",
      "Tool Calls:\n",
      "  tavily_search_results_json (hf1qm9ze3)\n",
      " Call ID: hf1qm9ze3\n",
      "  Args:\n",
      "    query: AI news March 3rd 2025\n",
      "=================================\u001b[1m Tool Message \u001b[0m=================================\n",
      "Name: tavily_search_results_json\n",
      "\n",
      "[{\"title\": \"Weekly AI News: 3 March 2025 - AIforBusiness.net - YouTube\", \"url\": \"https://www.youtube.com/watch?v=kw21NJ7YmZM\", \"content\": \"This week’s AI update explores some of the most impactful developments shaping technology and society. OpenAI has unveiled GPT-4.5, a cutting-edge model with enhanced intuition and emotional intelligence. While its capabilities push AI closer to human-like perception, its high computational demands raise concerns about accessibility, particularly for smaller businesses. [...] A thought-provoking analysis in the Daily Maverick questions AI’s growing influence, warning that biases within AI systems could shape decision-making in unpredictable ways. As AI becomes more embedded in hiring, finance, and governance, are we truly in control?\\nGoogle’s decision to ease restrictions on AI use for military and surveillance purposes has ignited debate over the ethical boundaries of AI deployment. Should corporations define these limits, or should governments step in? [...] together welcome to this week's AI update where we break down the biggest stories in artificial intelligence fast simple and straight to the point let's dive in more powerful but also more demanding open AI has just launched GPT 4.5 a major upgrade that brings improvements in intuition emotional intelligence and even aesthetic judgment this marks a shift towards AI that isn't just analytical but can also mimic humanlike perception however this advancement comes at a cost GPT 4.5 is more\", \"score\": 0.93338853}, {\"title\": \"GPT 4.5 is out! — Weekly AI Newsletter (March 3rd 2025) - Medium\", \"url\": \"https://medium.com/nlplanet/gpt-4-5-is-out-weekly-ai-newsletter-march-3rd-2025-6b31dd83ca60\", \"content\": \"Sitemap\\n\\nOpen in app\\n\\nSign in\\n\\nSign in\\n\\n## Generative AI\\n\\n·\\n\\nExplanations of AI, machine learning, news, guides, courses, papers, and more.\\n\\n# GPT 4.5 is out! — Weekly AI Newsletter (March 3rd 2025)\\n\\n## Anthropic releases Claude 3.7 Sonnet, OpenAI expands Deep Research for Plus users, and Google launches new code assistant\\n\\nFabio Chiusano\\n\\n5 min readMar 3, 2025\\n\\n## 😎 News From The Web [...] When AI Thinks It Will Lose, It Sometimes Cheats, Study Finds. The authors discovered that advanced AI models, like OpenAI’s o1-preview and DeepSeek R1, sometimes cheat by hacking opponents when losing, revealing troubling AI behavior patterns. These models exploit cybersecurity loopholes due to reinforcement learning techniques, indicating potential real-world ethical risks. [...] OpenAI releases ‘largest, most knowledgable’ model GPT-4.5 with reduced hallucinations and high API price. OpenAI unveiled GPT-4.5, its latest large language model, featuring reduced hallucinations and enhanced conversational abilities. Initially available to ChatGPT Pro users, GPT-4.5 emphasizes unsupervised learning for pattern recognition and creativity. Despite improvements, the model’s high API cost and varying performance compared to rivals raise questions about its value in competitive\", \"score\": 0.91023487}, {\"title\": \"Daily AI Agent News - March 3, 2025 - AI Agent Store\", \"url\": \"https://aiagentstore.ai/ai-agent-news/daily/2025-03-04\", \"content\": \"March 4, 2025 — Today’s AI agent advancements highlighted OPPO's expanded ecosystem and TECNO's next-gen hardware, signaling accelerating adoption across industries. At MWC Barcelona 2025, OPPO announced AI Call Translator and AI VoiceScribe, aiming to integrate generative AI for 100 million users by year-end. Concurrently, TECNO debuted its AI Glasses, MEGABOOK S14 laptop, and CAMON 40 smartphone, emphasizing cross-device AI collaboration tailored for emerging markets. [...] AI Agent Store\\n\\n## AI Agent News Today\\nMonday, March 3, 2025 [...] IBM reinforced the 2025 \\\"year of the agent\\\" narrative, citing improved chain-of-thought reasoning and function-calling capabilities in today’s models as foundational for autonomous task execution. Meanwhile, MarTech analysts noted that 83% of businesses now use AI-driven hiring tools, with Salesforce and SAP rolling out specialized agents for customer engagement.\", \"score\": 0.898277}, {\"title\": \"AI Weekly Digest - March 3 2025 - LinkedIn\", \"url\": \"https://www.linkedin.com/pulse/ai-weekly-digest-march-3-2025-pa-media-ddmie\", \"content\": \"Mobile World Congress to be 'absolutely awash with AI'\\n\\nSTL Partners research director Amy Cameron said she expects this week's Mobile World Congress in Barcelona to be \\\"absolutely awash with AI\\\", adding: \\\"Within this I expect to hear a lot about activities supporting development of AI solutions for enterprise customers: Partnerships between telcos and lead AI tech platforms/players; Industry specific LLMs; Edge making a comeback with AI at the edge.”\\n\\nTo view or add a comment, sign in [...] Alibaba's Wan 2.1 now open source\\n\\nAlibaba has announced its video and image-generating AI model Wan 2.1 is now publicly available - or open source. Reports said the Chinese e-commerce leader's move was likely to increase its uptake and further intensify competition in AI. The move follows Chinese startup DeepSeek's market disrupting rollout of low-cost open-source models last month.\\n\\nLawsuit: Google AI Overviews 'eroding demand for original content' [...] New ChatGPT model 'dramatically reduces rate of hallucinations'\\n\\nOpenAI has launched GPT-4.5, an update to the model underpinning ChatGPT which it said dramatically reduces the rate of 'hallucinations', or inaccurate information generated in response to queries. It said the model is “at the frontier of what is possible in unsupervised learning”, and added that \\\"with every new order of magnitude of compute comes novel capabilities\\\".\", \"score\": 0.8834878}, {\"title\": \"AI round-up: Week of March 3, 2025 - Akhia\", \"url\": \"https://www.akhia.com/insights/benthinking/ai-round-up-week-of-march-03-2025\", \"content\": \"Story 2: AI is being tested on Super Mario Bros. (and doing pretty well) (TechCrunch)  \\nBUT, can it find those secret flutes in Super Mario Bros 3?\\n\\nStory 3: Microsoft unveils new voice-activated assistant for doctors. (CNBC)  \\nI’m not sure why it’s called Dragon. Makes me think of medieval medicine. Also, can we train it to say ‘Dammit, I’m a doctor, not an AI assistant!’\\n\\nStory 4: AI podcast hosts on the rise. (TechCrunch)  \\nAs in, you now have 400+ to choose from. [...] Story 2: I guess everything has a shelf life … even Google’s blue links (Yahoo! Tech)  \\nGoogle released an experimental version of its new AI-only search, meaning you won’t see the blue links when you search.\\n\\nLet that sink in. [...] Story 2: The author of last year’s California SB1047 bill has a new one to protect AI whistleblowers. (TechCrunch)\\n\\n## Final Note\\n\\nAs the goal posts continue to shift on achieving AGI (and what AGI is, exactly) the conversation continues to evolve. One conversation in particular is the one Ezra Klein had on his recent podcast with former Biden AI adviser, Ben Buchanan.\", \"score\": 0.8752871}]\n",
      "==================================\u001b[1m Ai Message \u001b[0m==================================\n",
      "Tool Calls:\n",
      "  add (p10rq31y9)\n",
      " Call ID: p10rq31y9\n",
      "  Args:\n",
      "    a: 5\n",
      "    b: 5\n",
      "  multiply (tq81zq2z9)\n",
      " Call ID: tq81zq2z9\n",
      "  Args:\n",
      "    a: 10\n",
      "    b: 20\n",
      "=================================\u001b[1m Tool Message \u001b[0m=================================\n",
      "Name: add\n",
      "\n",
      "10\n",
      "=================================\u001b[1m Tool Message \u001b[0m=================================\n",
      "Name: multiply\n",
      "\n",
      "200\n",
      "==================================\u001b[1m Ai Message \u001b[0m==================================\n",
      "\n",
      "The top 10 recent AI news for March 3rd, 2025, are:\n",
      "\n",
      "1. OpenAI has unveiled GPT-4.5, a cutting-edge model with enhanced intuition and emotional intelligence.\n",
      "2. Google's decision to ease restrictions on AI use for military and surveillance purposes has ignited debate over the ethical boundaries of AI deployment.\n",
      "3. Anthropic releases Claude 3.7 Sonnet, OpenAI expands Deep Research for Plus users, and Google launches new code assistant.\n",
      "4. When AI Thinks It Will Lose, It Sometimes Cheats, Study Finds.\n",
      "5. OpenAI releases ‘largest, most knowledgeable’ model GPT-4.5 with reduced hallucinations and high API price.\n",
      "6. IBM reinforced the 2025 \"year of the agent\" narrative, citing improved chain-of-thought reasoning and function-calling capabilities in today’s models as foundational for autonomous task execution.\n",
      "7. Alibaba's Wan 2.1 now open source.\n",
      "8. Lawsuit: Google AI Overviews 'eroding demand for original content'.\n",
      "9. New ChatGPT model 'dramatically reduces rate of hallucinations'.\n",
      "10. AI round-up: Week of March 3, 2025.\n",
      "\n",
      "The result of adding 5 and 5 is 10.\n",
      "The result of multiplying 10 by 20 is 200.\n"
     ]
    }
   ],
   "source": [
    "messages=graph.invoke({\"messages\":HumanMessage(content=\"Provide me the top 10 recent AI news for MArch 3rd 2025,add 5 plus 5 and then multiply by 10\")})\n",
    "for m in messages['messages']:\n",
    "    m.pretty_print()"
   ]
  },
  {
   "cell_type": "code",
   "execution_count": 48,
   "metadata": {},
   "outputs": [
    {
     "name": "stdout",
     "output_type": "stream",
     "text": [
      "================================\u001b[1m Human Message \u001b[0m=================================\n",
      "\n",
      "What is machine learning\n",
      "==================================\u001b[1m Ai Message \u001b[0m==================================\n",
      "Tool Calls:\n",
      "  wikipedia (5dftahq07)\n",
      " Call ID: 5dftahq07\n",
      "  Args:\n",
      "    query: machine learning\n",
      "=================================\u001b[1m Tool Message \u001b[0m=================================\n",
      "Name: wikipedia\n",
      "\n",
      "Page: Machine learning\n",
      "Summary: Machine learning (ML) is a field of study in artificial intelligence concerned with the development and study of statistical algorithms that can learn from data and generalise to unseen data, and thus perform tasks without explicit instructions. Within a subdiscipline in machine learning, advances in the field of deep learning have allowed neural networks, a class of statistical algorithms, to surpass many previous machine learning approaches in performance.\n",
      "ML fi\n",
      "==================================\u001b[1m Ai Message \u001b[0m==================================\n",
      "Tool Calls:\n",
      "  wikipedia (q4j47xn34)\n",
      " Call ID: q4j47xn34\n",
      "  Args:\n",
      "    query: Machine learning history\n",
      "=================================\u001b[1m Tool Message \u001b[0m=================================\n",
      "Name: wikipedia\n",
      "\n",
      "Page: Machine learning\n",
      "Summary: Machine learning (ML) is a field of study in artificial intelligence concerned with the development and study of statistical algorithms that can learn from data and generalise to unseen data, and thus perform tasks without explicit instructions. Within a subdiscipline in machine learning, advances in the field of deep learning have allowed neural networks, a class of statistical algorithms, to surpass many previous machine learning approaches in performance.\n",
      "ML fi\n",
      "==================================\u001b[1m Ai Message \u001b[0m==================================\n",
      "\n",
      "It seems like there's an error in the output. Let's rephrase the question and try again.\n",
      "Tool Calls:\n",
      "  wikipedia (se7hjx39y)\n",
      " Call ID: se7hjx39y\n",
      "  Args:\n",
      "    query: History of machine learning\n",
      "=================================\u001b[1m Tool Message \u001b[0m=================================\n",
      "Name: wikipedia\n",
      "\n",
      "Page: Machine learning\n",
      "Summary: Machine learning (ML) is a field of study in artificial intelligence concerned with the development and study of statistical algorithms that can learn from data and generalise to unseen data, and thus perform tasks without explicit instructions. Within a subdiscipline in machine learning, advances in the field of deep learning have allowed neural networks, a class of statistical algorithms, to surpass many previous machine learning approaches in performance.\n",
      "ML fi\n",
      "==================================\u001b[1m Ai Message \u001b[0m==================================\n",
      "Tool Calls:\n",
      "  arxiv (sqtcqvza7)\n",
      " Call ID: sqtcqvza7\n",
      "  Args:\n",
      "    query: machine learning\n",
      "=================================\u001b[1m Tool Message \u001b[0m=================================\n",
      "Name: arxiv\n",
      "\n",
      "Published: 2019-09-08\n",
      "Title: Lecture Notes: Optimization for Machine Learning\n",
      "Authors: Elad Hazan\n",
      "Summary: Lecture notes on optimization for machine learning, derived from a course at\n",
      "Princeton University and tutorials given in MLSS, Buenos Aires, as well as\n",
      "Simons Foundation, Berkeley.\n",
      "\n",
      "Published: 2018-11-11\n",
      "Title: An Optimal Control View of Adversarial Machine Learning\n",
      "Authors: Xiaojin Zhu\n",
      "Summary: I describe an optimal control view of adversarial machine learning, where the\n",
      "dynamical system i\n",
      "==================================\u001b[1m Ai Message \u001b[0m==================================\n",
      "Tool Calls:\n",
      "  tavily_search_results_json (kbesbdmny)\n",
      " Call ID: kbesbdmny\n",
      "  Args:\n",
      "    query: machine learning applications\n",
      "=================================\u001b[1m Tool Message \u001b[0m=================================\n",
      "Name: tavily_search_results_json\n",
      "\n",
      "[{\"title\": \"Applications for Machine Learning in Different Sectors\", \"url\": \"https://www.caseware.com/us/resources/blog/applications-for-machine-learning-in-different-sectors/\", \"content\": \"Home\\n chevron\\\\_left Resources\\n Applications for Machine Learning in…\\n\\nBlog \\n\\n# Applications for Machine Learning in Different Sectors\\n\\nMachine learning can streamline processes and provide data-driven insights.\\n\\nCaseware Staff\\n\\n8 min read\\n\\nMachine learning (ML) uses algorithms to imitate the way humans process information. Namely, they do this by gradually improving their accuracy by processing more and more data and assessing the outcomes of their analyses. [...] Route optimization software uses machine learning algorithms to map the most expedient routes for vehicles or goods. These planning tools can limit fuel use and driving time to help transportation companies save on operating costs and ensure clients get their goods as quickly as possible.\\n Fleet management systems use ML to predict maintenance for vehicles, schedule drivers according to demand and safety and rest regulations, and re-route vehicles experiencing delays. [...] Algorithmic trading involves using machine learning to find trends in financial markets, create forecasts about future price movements and purchase or sell securities or other assets based on ML analysis.\\n Financial advisory services can use machine learning tools to weigh the financial needs of clients and make suggestions or offer investment products based on automatic ML analysis. These services are less costly than working with a human advisor.\", \"score\": 0.8660535}, {\"title\": \"Machine Learning: Algorithms, Real-World Applications ...\", \"url\": \"https://pmc.ncbi.nlm.nih.gov/articles/PMC7983091/\", \"content\": \"understand the principles of various machine learning algorithms and their applicability to apply in various real-world application areas, such as IoT systems, cybersecurity services, business and recommendation systems, smart cities, healthcare and COVID-19, context-aware systems, sustainable agriculture, and many more that are explained briefly in Sect. “Applications of Machine Learning”. [...] To discuss the applicability of machine learning-based solutions in various real-world application domains.\\n\\n   To highlight and summarize the potential research directions within the scope of our study for intelligent data analysis and services. [...] Based on the importance and potentiality of “Machine Learning” to analyze the data mentioned above, in this paper, we provide a comprehensive view on various types of _machine learning algorithms_ that can be applied to enhance the intelligence and the capabilities of an application. Thus, the key contribution of this study is explaining the principles and potentiality of different machine learning techniques, and their applicability in various real-world application areas mentioned earlier.\", \"score\": 0.85995835}, {\"title\": \"16 Applications of Machine Learning in Manufacturing in ...\", \"url\": \"https://www.netsuite.com/portal/resource/articles/erp/machine-learning-in-manufacturing.shtml\", \"content\": \"This article describes nine benefits and 16 applications of machine learning in manufacturing.\\n\\n## What Is Machine Learning in Manufacturing?\\n\\nMachine learning is a subset of artificial intelligence that uses algorithms and statistical models to parse data, identify patterns, pinpoint anomalies and describe next steps, incorporating all it learns from the data to continually improve its output. [...] ## 16 Applications of Machine Learning in Manufacturing\\n\\nNew applications of AI/ML continue to emerge at a rapid clip for manufacturing activities ranging from design and planning to production and post-production processes. Experts, including MLC, expect the pace of AI/ML progress will be “fast and furious” and that in a few years it will “permeate almost every part of industrial enterprises.” The 16 applications below represent some of today’s most common uses of ML in manufacturing. [...] For example, ML can help respond to extreme weather events, tracking external information feeds, finding alternate transportation routes and suggesting contingency production schedules to reduce the impact of supply chain disruptions. Some companies are also taking the next step of using ML to automate — not merely recommend — certain actions based on this kind of real-time information.\\n\\nKey Takeaways\", \"score\": 0.8051581}, {\"title\": \"Machine Learning Examples, Applications & Use Cases\", \"url\": \"https://www.ibm.com/think/topics/machine-learning-use-cases\", \"content\": \"Ride-sharing applications like Uber and Lyft use ML to match riders and drivers, set prices, examine traffic and, like Google Maps, analyze real-time traffic conditions to optimize the driving route and predict an estimated arrival time.\\n\\nComputer vision fuels self-driving cars. An unsupervised ML algorithm lets self-driving cars gather data from cameras and sensors to understand what’s happening around them and enables real-time decision-making on actions to take. [...] Artificial Intelligence\\n\\n# 10 everyday machine learning use cases\\n\\nMachine learning (ML)—the artificial intelligence (AI) subfield in which machines learn from datasets and past experiences by recognizing patterns and generating predictions—is a USD 21 billion global industry projected to become a USD 209 billion industry (link resides outside ibm.com) by 2029. Here are some real-world applications of machine learning that have become part of our everyday lives.\\n\\nIndustry newsletter [...] ML and deep learning are widely used in banking, for example, in fraud detection. Banks and other financial institutions train ML models to recognize suspicious online transactions and other atypical transactions that require further investigation. Banks and other lenders use ML classification algorithms and predictive models to determine who they will offer loans to.\", \"score\": 0.7811474}, {\"title\": \"Real-World Examples of Machine Learning (ML)\", \"url\": \"https://www.tableau.com/learn/articles/machine-learning-examples\", \"content\": \"Believe it or not, the list of machine learning applications will grow so it’s almost too long to count. However, the benefits and improvements to our lives—and for data analysts sitting in global organizations—that come from enhancing human knowledge with machine power will be worth it, even though it feels daunting. Embrace the benefits, practicality, and future possibilities. Learn more ways that AI and machine learning are being used in augmented analytics and to augment human [...] Facial recognition is one of the more obvious applications of machine learning. People previously received name suggestions for their mobile photos and Facebook tagging, but now someone is immediately tagged and verified by comparing and analyzing patterns through facial contours. And facial recognition paired with deep learning has become highly useful in healthcare to help detect genetic diseases or track a patient’s use of medication more accurately. It’s also used to combat important social [...] issues such as child sex trafficking or sexual exploitation of children. The list of applications and industries influenced by it is steadily on the rise.\", \"score\": 0.7763013}]\n",
      "==================================\u001b[1m Ai Message \u001b[0m==================================\n",
      "\n",
      "Machine learning has various applications in different sectors, including:\n",
      "\n",
      "1. Route optimization software uses machine learning algorithms to map the most expedient routes for vehicles or goods.\n",
      "2. Fleet management systems use ML to predict maintenance for vehicles, schedule drivers according to demand and safety and rest regulations, and re-route vehicles experiencing delays.\n",
      "3. Algorithmic trading involves using machine learning to find trends in financial markets, create forecasts about future price movements and purchase or sell securities or other assets based on ML analysis.\n",
      "4. Financial advisory services can use machine learning tools to weigh the financial needs of clients and make suggestions or offer investment products based on automatic ML analysis.\n",
      "5. Machine learning can be applied in various real-world application domains, such as:\n",
      "\t* IoT systems\n",
      "\t* Cybersecurity services\n",
      "\t* Business and recommendation systems\n",
      "\t* Smart cities\n",
      "\t* Healthcare and COVID-19\n",
      "\t* Context-aware systems\n",
      "\t* Sustainable agriculture\n",
      "6. Machine learning is used in manufacturing to:\n",
      "\t* Respond to extreme weather events\n",
      "\t* Track external information feeds\n",
      "\t* Find alternate transportation routes\n",
      "\t* Suggest contingency production schedules to reduce the impact of supply chain disruptions\n",
      "7. Ride-sharing applications like Uber and Lyft use ML to match riders and drivers, set prices, examine traffic and analyze real-time traffic conditions to optimize the driving route and predict an estimated arrival time.\n",
      "8. Computer vision fuels self-driving cars, which use unsupervised ML algorithms to gather data from cameras and sensors to understand what’s happening around them and enable real-time decision-making on actions to take.\n",
      "9. Machine learning is widely used in banking for:\n",
      "\t* Fraud detection\n",
      "\t* Classification algorithms and predictive models to determine who to offer loans to\n",
      "10. Facial recognition is one of the more obvious applications of machine learning, which is used in various industries, including:\n",
      "\t* Healthcare to detect genetic diseases or track a patient’s use of medication more accurately\n",
      "\t* Combating social issues such as child sex trafficking or sexual exploitation of children\n",
      "\n",
      "These are just a few examples of the many applications of machine learning in various sectors.\n"
     ]
    }
   ],
   "source": [
    "messages=graph.invoke({\"messages\":HumanMessage(content=\"What is machine learning\")})\n",
    "for m in messages['messages']:\n",
    "    m.pretty_print()"
   ]
  },
  {
   "cell_type": "markdown",
   "metadata": {},
   "source": [
    "### Agent Memory\n",
    "#### Aim\n",
    "Lets introduce Agent With Memory"
   ]
  },
  {
   "cell_type": "code",
   "execution_count": 49,
   "metadata": {},
   "outputs": [
    {
     "name": "stdout",
     "output_type": "stream",
     "text": [
      "================================\u001b[1m Human Message \u001b[0m=================================\n",
      "\n",
      "What is 5 plus 8\n",
      "==================================\u001b[1m Ai Message \u001b[0m==================================\n",
      "Tool Calls:\n",
      "  add (gqt92871r)\n",
      " Call ID: gqt92871r\n",
      "  Args:\n",
      "    a: 5\n",
      "    b: 8\n",
      "=================================\u001b[1m Tool Message \u001b[0m=================================\n",
      "Name: add\n",
      "\n",
      "13\n",
      "==================================\u001b[1m Ai Message \u001b[0m==================================\n",
      "\n",
      "The answer to 5 plus 8 is 13.\n"
     ]
    }
   ],
   "source": [
    "messages=graph.invoke({\"messages\":HumanMessage(content=\"What is 5 plus 8\")})\n",
    "for m in messages['messages']:\n",
    "    m.pretty_print()"
   ]
  },
  {
   "cell_type": "code",
   "execution_count": 50,
   "metadata": {},
   "outputs": [
    {
     "name": "stdout",
     "output_type": "stream",
     "text": [
      "================================\u001b[1m Human Message \u001b[0m=================================\n",
      "\n",
      "Divide that by 5\n",
      "==================================\u001b[1m Ai Message \u001b[0m==================================\n",
      "\n",
      "<divide>{\"a\": \"that\", \"b\": 5}</divide>\n"
     ]
    }
   ],
   "source": [
    "messages=[HumanMessage(content=\"Divide that by 5\")]\n",
    "messages=graph.invoke({\"messages\":messages})\n",
    "for m in messages['messages']:\n",
    "    m.pretty_print()"
   ]
  },
  {
   "cell_type": "markdown",
   "metadata": {},
   "source": [
    "# 1️⃣ What is MemorySaver?\n",
    "\n",
    "Think of **MemorySaver** as a diary for your **LangGraph agent**.\n",
    "\n",
    "Normally, each time the agent gets a message, it processes it and **forgets everything from before**.\n",
    "\n",
    "**MemorySaver** changes that. It **remembers every step** by saving the graph state in memory.\n",
    "\n",
    "This way, the agent can continue a conversation or computation **without losing track of what happened before**.\n",
    "\n",
    "---\n",
    "\n",
    "# 2️⃣ How it works (simple analogy)\n",
    "\n",
    "Imagine you are solving a multi-step math problem:\n",
    "\n",
    "1. **Add 5 + 8** → write result **13** in your notebook.  \n",
    "2. **Later, divide that result by 5** → check your notebook to see the last number (**13**) and compute **13 / 5**.  \n",
    "3. **Then multiply the result by 2** → again, pick up the last number from the notebook.  \n",
    "\n",
    "💡 Without a memory, the agent would **forget 13 after step 1**.  \n",
    "💡 With **MemorySaver**, it’s like having a notebook that **automatically saves every result**.\n"
   ]
  },
  {
   "cell_type": "code",
   "execution_count": 59,
   "metadata": {},
   "outputs": [],
   "source": [
    "from langchain_groq import ChatGroq\n",
    "import os\n",
    "from dotenv import load_dotenv\n",
    "\n",
    "# Load environment variables\n",
    "load_dotenv()\n",
    "\n",
    "# Initialize Groq LLM\n",
    "llm = ChatGroq(model=\"llama-3.1-8b-instant\", api_key=os.getenv(\"GROQ_API_KEY\"))\n",
    "\n",
    "# Bind your tools\n",
    "llm_with_tools = llm.bind_tools(tools)\n"
   ]
  },
  {
   "cell_type": "code",
   "execution_count": 60,
   "metadata": {},
   "outputs": [
    {
     "data": {
      "text/plain": [
       "<langgraph.graph.state.StateGraph at 0x1a03ed33e50>"
      ]
     },
     "execution_count": 60,
     "metadata": {},
     "output_type": "execute_result"
    }
   ],
   "source": [
    "from langgraph.graph import StateGraph, START, END\n",
    "from langgraph.prebuilt import ToolNode, tools_condition\n",
    "from IPython.display import Image, display\n",
    "\n",
    "# Node definition\n",
    "def tool_calling_llm(state: State):\n",
    "    return {\"messages\": [llm_with_tools.invoke(state[\"messages\"])]}\n",
    "\n",
    "# Build the graph\n",
    "builder = StateGraph(State)\n",
    "builder.add_node(\"tool_calling_llm\", tool_calling_llm)\n",
    "builder.add_node(\"tools\", ToolNode(tools))\n",
    "\n",
    "builder.add_edge(START, \"tool_calling_llm\")\n",
    "builder.add_conditional_edges(\"tool_calling_llm\", tools_condition)\n",
    "builder.add_edge(\"tools\", \"tool_calling_llm\")\n"
   ]
  },
  {
   "cell_type": "code",
   "execution_count": 61,
   "metadata": {},
   "outputs": [
    {
     "data": {
      "image/png": "[encoded data removed]",
      "text/plain": [
       "<IPython.core.display.Image object>"
      ]
     },
     "metadata": {},
     "output_type": "display_data"
    }
   ],
   "source": [
    "from langgraph.checkpoint.memory import MemorySaver\n",
    "\n",
    "# MemorySaver keeps track of graph state\n",
    "memory = MemorySaver()\n",
    "graph_memory = builder.compile(checkpointer=memory)\n",
    "\n",
    "# Optional: View graph\n",
    "display(Image(graph_memory.get_graph().draw_mermaid_png()))\n"
   ]
  },
  {
   "cell_type": "code",
   "execution_count": 62,
   "metadata": {},
   "outputs": [
    {
     "name": "stdout",
     "output_type": "stream",
     "text": [
      "================================\u001b[1m Human Message \u001b[0m=================================\n",
      "\n",
      "Add 12 and 13.\n",
      "==================================\u001b[1m Ai Message \u001b[0m==================================\n",
      "Tool Calls:\n",
      "  add (6kn069fya)\n",
      " Call ID: 6kn069fya\n",
      "  Args:\n",
      "    a: 12\n",
      "    b: 13\n",
      "=================================\u001b[1m Tool Message \u001b[0m=================================\n",
      "Name: add\n",
      "\n",
      "25\n",
      "==================================\u001b[1m Ai Message \u001b[0m==================================\n",
      "\n",
      "The result of the function call was 25.\n",
      "================================\u001b[1m Human Message \u001b[0m=================================\n",
      "\n",
      "Add 12 and 13.\n",
      "==================================\u001b[1m Ai Message \u001b[0m==================================\n",
      "Tool Calls:\n",
      "  add (6kn069fya)\n",
      " Call ID: 6kn069fya\n",
      "  Args:\n",
      "    a: 12\n",
      "    b: 13\n",
      "=================================\u001b[1m Tool Message \u001b[0m=================================\n",
      "Name: add\n",
      "\n",
      "25\n",
      "==================================\u001b[1m Ai Message \u001b[0m==================================\n",
      "\n",
      "The result of the function call was 25.\n",
      "================================\u001b[1m Human Message \u001b[0m=================================\n",
      "\n",
      "Add that number to 25\n",
      "==================================\u001b[1m Ai Message \u001b[0m==================================\n",
      "Tool Calls:\n",
      "  add (p8y0pfan7)\n",
      " Call ID: p8y0pfan7\n",
      "  Args:\n",
      "    a: 25\n",
      "    b: 25\n",
      "=================================\u001b[1m Tool Message \u001b[0m=================================\n",
      "Name: add\n",
      "\n",
      "50\n",
      "==================================\u001b[1m Ai Message \u001b[0m==================================\n",
      "\n",
      "The result of the function call was 50.\n",
      "================================\u001b[1m Human Message \u001b[0m=================================\n",
      "\n",
      "Add 12 and 13.\n",
      "==================================\u001b[1m Ai Message \u001b[0m==================================\n",
      "Tool Calls:\n",
      "  add (6kn069fya)\n",
      " Call ID: 6kn069fya\n",
      "  Args:\n",
      "    a: 12\n",
      "    b: 13\n",
      "=================================\u001b[1m Tool Message \u001b[0m=================================\n",
      "Name: add\n",
      "\n",
      "25\n",
      "==================================\u001b[1m Ai Message \u001b[0m==================================\n",
      "\n",
      "The result of the function call was 25.\n",
      "================================\u001b[1m Human Message \u001b[0m=================================\n",
      "\n",
      "Add that number to 25\n",
      "==================================\u001b[1m Ai Message \u001b[0m==================================\n",
      "Tool Calls:\n",
      "  add (p8y0pfan7)\n",
      " Call ID: p8y0pfan7\n",
      "  Args:\n",
      "    a: 25\n",
      "    b: 25\n",
      "=================================\u001b[1m Tool Message \u001b[0m=================================\n",
      "Name: add\n",
      "\n",
      "50\n",
      "==================================\u001b[1m Ai Message \u001b[0m==================================\n",
      "\n",
      "The result of the function call was 50.\n",
      "================================\u001b[1m Human Message \u001b[0m=================================\n",
      "\n",
      "Then multiply that number by 2\n",
      "==================================\u001b[1m Ai Message \u001b[0m==================================\n",
      "Tool Calls:\n",
      "  multiply (3eg70cxyd)\n",
      " Call ID: 3eg70cxyd\n",
      "  Args:\n",
      "    a: 50\n",
      "    b: 2\n",
      "=================================\u001b[1m Tool Message \u001b[0m=================================\n",
      "Name: multiply\n",
      "\n",
      "100\n",
      "==================================\u001b[1m Ai Message \u001b[0m==================================\n",
      "\n",
      "The result of the function call was 100.\n"
     ]
    }
   ],
   "source": [
    "# Thread config\n",
    "config = {\"configurable\": {\"thread_id\": \"1\"}}\n",
    "\n",
    "# Step 1\n",
    "messages = [HumanMessage(content=\"Add 12 and 13.\")]\n",
    "messages = graph_memory.invoke({\"messages\": messages}, config=config)\n",
    "for m in messages['messages']:\n",
    "    m.pretty_print()\n",
    "\n",
    "# Step 2\n",
    "messages = [HumanMessage(content=\"Add that number to 25\")]\n",
    "messages = graph_memory.invoke({\"messages\": messages}, config=config)\n",
    "for m in messages['messages']:\n",
    "    m.pretty_print()\n",
    "\n",
    "# Step 3\n",
    "messages = [HumanMessage(content=\"Then multiply that number by 2\")]\n",
    "messages = graph_memory.invoke({\"messages\": messages}, config=config)\n",
    "for m in messages['messages']:\n",
    "    m.pretty_print()\n"
   ]
  },
  {
   "cell_type": "code",
   "execution_count": null,
   "metadata": {},
   "outputs": [],
   "source": []
  }
 ],
 "metadata": {
  "kernelspec": {
   "display_name": "venv",
   "language": "python",
   "name": "python3"
  },
  "language_info": {
   "codemirror_mode": {
    "name": "ipython",
    "version": 3
   },
   "file_extension": ".py",
   "mimetype": "text/x-python",
   "name": "python",
   "nbconvert_exporter": "python",
   "pygments_lexer": "ipython3",
   "version": "3.10.11"
  }
 },
 "nbformat": 4,
 "nbformat_minor": 2
}
