{
 "cells": [
  {
   "cell_type": "markdown",
   "metadata": {},
   "source": [
    "#### How to split by character-Character Text Splitter\n",
    "This is the simplest method. This splits based on a given character sequence, which defaults to \"\\n\\n\". Chunk length is measured by number of characters.\n",
    "\n",
    "1. How the text is split: by single character separator.\n",
    "2. How the chunk size is measured: by number of characters.\n"
   ]
  },
  {
   "cell_type": "code",
   "execution_count": 3,
   "metadata": {},
   "outputs": [
    {
     "data": {
      "text/plain": [
       "[Document(metadata={'source': 'Trumpspeech.txt'}, page_content='Tens of thousands gathered Sunday at State Farm Stadium to honor Charlie Kirk, the conservative activist and founder of Turning Point USA, who was tragically shot on September 10, 2025, during a speech at Utah Valley University.\\n\\nU.S. President Donald Trump, Vice President J.D. Vance, and other senior Republican leaders attended the memorial, celebrating Kirk’s contributions to American politics and his influence on young conservatives. In his remarks, Trump called Kirk “a martyr for American freedom” and praised him as a devoted husband, father, and patriot whose legacy would endure.\\n\\nKirk, who started Turning Point USA at the age of 18, was credited with mobilizing thousands of students across the country and helping shape the political landscape for younger voters. Trump highlighted Kirk’s tireless dedication, noting that he often worked without pay, traveling across campuses to spread his conservative message.\\n\\nDuring the memorial, Erica Kirk, Charlie’s widow, forgave the man responsible for her husband’s death, citing her faith. Speakers emphasized Kirk’s commitment to open dialogue, free speech, and religious values, portraying him as a figure who sought to persuade rather than vilify opponents.\\n\\nThe memorial also highlighted global recognition of Kirk’s impact, with commemorations taking place in cities such as Calgary, Seoul, Berlin, and Sydney. Trump announced plans to posthumously award Kirk the Presidential Medal of Freedom, underscoring the administration’s admiration for his work.\\n\\nKirk’s assassination has sparked discussions on security, political violence, and the protection of free speech on college campuses. Authorities have arrested the suspect, who faces capital murder charges, while investigations continue into networks potentially supporting political violence.\\n\\nCharlie Kirk’s legacy, according to Trump and other speakers, will continue to inspire conservatives and young Americans who shared his vision of faith, freedom, and civic engagement.')]"
      ]
     },
     "execution_count": 3,
     "metadata": {},
     "output_type": "execute_result"
    }
   ],
   "source": [
    "from langchain_community.document_loaders import TextLoader\n",
    "\n",
    "loader=TextLoader('Trumpspeech.txt', encoding=\"utf-8\")\n",
    "docs=loader.load()\n",
    "docs"
   ]
  },
  {
   "cell_type": "code",
   "execution_count": 4,
   "metadata": {},
   "outputs": [
    {
     "name": "stderr",
     "output_type": "stream",
     "text": [
      "Created a chunk of size 228, which is longer than the specified 100\n",
      "Created a chunk of size 361, which is longer than the specified 100\n",
      "Created a chunk of size 334, which is longer than the specified 100\n",
      "Created a chunk of size 291, which is longer than the specified 100\n",
      "Created a chunk of size 296, which is longer than the specified 100\n",
      "Created a chunk of size 292, which is longer than the specified 100\n"
     ]
    },
    {
     "data": {
      "text/plain": [
       "[Document(metadata={'source': 'Trumpspeech.txt'}, page_content='Tens of thousands gathered Sunday at State Farm Stadium to honor Charlie Kirk, the conservative activist and founder of Turning Point USA, who was tragically shot on September 10, 2025, during a speech at Utah Valley University.'),\n",
       " Document(metadata={'source': 'Trumpspeech.txt'}, page_content='U.S. President Donald Trump, Vice President J.D. Vance, and other senior Republican leaders attended the memorial, celebrating Kirk’s contributions to American politics and his influence on young conservatives. In his remarks, Trump called Kirk “a martyr for American freedom” and praised him as a devoted husband, father, and patriot whose legacy would endure.'),\n",
       " Document(metadata={'source': 'Trumpspeech.txt'}, page_content='Kirk, who started Turning Point USA at the age of 18, was credited with mobilizing thousands of students across the country and helping shape the political landscape for younger voters. Trump highlighted Kirk’s tireless dedication, noting that he often worked without pay, traveling across campuses to spread his conservative message.'),\n",
       " Document(metadata={'source': 'Trumpspeech.txt'}, page_content='During the memorial, Erica Kirk, Charlie’s widow, forgave the man responsible for her husband’s death, citing her faith. Speakers emphasized Kirk’s commitment to open dialogue, free speech, and religious values, portraying him as a figure who sought to persuade rather than vilify opponents.'),\n",
       " Document(metadata={'source': 'Trumpspeech.txt'}, page_content='The memorial also highlighted global recognition of Kirk’s impact, with commemorations taking place in cities such as Calgary, Seoul, Berlin, and Sydney. Trump announced plans to posthumously award Kirk the Presidential Medal of Freedom, underscoring the administration’s admiration for his work.'),\n",
       " Document(metadata={'source': 'Trumpspeech.txt'}, page_content='Kirk’s assassination has sparked discussions on security, political violence, and the protection of free speech on college campuses. Authorities have arrested the suspect, who faces capital murder charges, while investigations continue into networks potentially supporting political violence.'),\n",
       " Document(metadata={'source': 'Trumpspeech.txt'}, page_content='Charlie Kirk’s legacy, according to Trump and other speakers, will continue to inspire conservatives and young Americans who shared his vision of faith, freedom, and civic engagement.')]"
      ]
     },
     "execution_count": 4,
     "metadata": {},
     "output_type": "execute_result"
    }
   ],
   "source": [
    "from langchain_text_splitters import CharacterTextSplitter\n",
    "text_splitter=CharacterTextSplitter(separator=\"\\n\\n\",chunk_size=100,chunk_overlap=20)\n",
    "text_splitter.split_documents(docs)"
   ]
  },
  {
   "cell_type": "code",
   "execution_count": 5,
   "metadata": {},
   "outputs": [
    {
     "name": "stderr",
     "output_type": "stream",
     "text": [
      "Created a chunk of size 228, which is longer than the specified 100\n",
      "Created a chunk of size 361, which is longer than the specified 100\n",
      "Created a chunk of size 334, which is longer than the specified 100\n",
      "Created a chunk of size 291, which is longer than the specified 100\n",
      "Created a chunk of size 296, which is longer than the specified 100\n",
      "Created a chunk of size 292, which is longer than the specified 100\n"
     ]
    },
    {
     "name": "stdout",
     "output_type": "stream",
     "text": [
      "page_content='Tens of thousands gathered Sunday at State Farm Stadium to honor Charlie Kirk, the conservative activist and founder of Turning Point USA, who was tragically shot on September 10, 2025, during a speech at Utah Valley University.'\n",
      "page_content='U.S. President Donald Trump, Vice President J.D. Vance, and other senior Republican leaders attended the memorial, celebrating Kirk’s contributions to American politics and his influence on young conservatives. In his remarks, Trump called Kirk “a martyr for American freedom” and praised him as a devoted husband, father, and patriot whose legacy would endure.'\n"
     ]
    }
   ],
   "source": [
    "speech=\"\"\n",
    "with open(\"Trumpspeech.txt\", encoding=\"utf-8\") as f:\n",
    "    speech=f.read()\n",
    "\n",
    "\n",
    "text_splitter=CharacterTextSplitter(chunk_size=100,chunk_overlap=20)\n",
    "text=text_splitter.create_documents([speech])\n",
    "print(text[0])\n",
    "print(text[1])"
   ]
  },
  {
   "cell_type": "code",
   "execution_count": null,
   "metadata": {},
   "outputs": [],
   "source": []
  }
 ],
 "metadata": {
  "kernelspec": {
   "display_name": "venv",
   "language": "python",
   "name": "python3"
  },
  "language_info": {
   "codemirror_mode": {
    "name": "ipython",
    "version": 3
   },
   "file_extension": ".py",
   "mimetype": "text/x-python",
   "name": "python",
   "nbconvert_exporter": "python",
   "pygments_lexer": "ipython3",
   "version": "3.10.11"
  }
 },
 "nbformat": 4,
 "nbformat_minor": 2
}
