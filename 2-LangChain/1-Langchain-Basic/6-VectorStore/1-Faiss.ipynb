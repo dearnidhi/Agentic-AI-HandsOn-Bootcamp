{
 "cells": [
  {
   "cell_type": "markdown",
   "metadata": {},
   "source": [
    "#### Faiss\n",
    "Facebook AI Similarity Search (Faiss) is a library for efficient similarity search and clustering of dense vectors. It contains algorithms that search in sets of vectors of any size, up to ones that possibly do not fit in RAM. It also contains supporting code for evaluation and parameter tuning."
   ]
  },
  {
   "cell_type": "code",
   "execution_count": 1,
   "metadata": {},
   "outputs": [],
   "source": [
    "from langchain_community.document_loaders import TextLoader\n",
    "from langchain_community.vectorstores import FAISS\n",
    "from langchain_community.embeddings import OllamaEmbeddings\n",
    "from langchain_text_splitters import CharacterTextSplitter\n",
    "\n",
    "loader=TextLoader(\"speech.txt\")\n",
    "documents=loader.load()\n",
    "text_splitter=CharacterTextSplitter(chunk_size=1000,chunk_overlap=30)\n",
    "docs=text_splitter.split_documents(documents)\n"
   ]
  },
  {
   "cell_type": "code",
   "execution_count": 2,
   "metadata": {},
   "outputs": [
    {
     "data": {
      "text/plain": [
       "[Document(metadata={'source': 'speech.txt'}, page_content='The world must be made safe for democracy. Its peace must be planted upon the tested foundations of political liberty. We have no selfish ends to serve. We desire no conquest, no dominion. We seek no indemnities for ourselves, no material compensation for the sacrifices we shall freely make. We are but one of the champions of the rights of mankind. We shall be satisfied when those rights have been made as secure as the faith and the freedom of nations can make them.\\n\\nJust because we fight without rancor and without selfish object, seeking nothing for ourselves but what we shall wish to share with all free peoples, we shall, I feel confident, conduct our operations as belligerents without passion and ourselves observe with proud punctilio the principles of right and of fair play we profess to be fighting for.\\n\\nâ€¦'),\n",
       " Document(metadata={'source': 'speech.txt'}, page_content='â€¦\\n\\nIt will be all the easier for us to conduct ourselves as belligerents in a high spirit of right and fairness because we act without animus, not in enmity toward a people or with the desire to bring any injury or disadvantage upon them, but only in armed opposition to an irresponsible government which has thrown aside all considerations of humanity and of right and is running amuck. We are, let me say again, the sincere friends of the German people, and shall desire nothing so much as the early reestablishment of intimate relations of mutual advantage between usâ€”however hard it may be for them, for the time being, to believe that this is spoken from our hearts.'),\n",
       " Document(metadata={'source': 'speech.txt'}, page_content='We have borne with their present government through all these bitter months because of that friendshipâ€”exercising a patience and forbearance which would otherwise have been impossible. We shall, happily, still have an opportunity to prove that friendship in our daily attitude and actions toward the millions of men and women of German birth and native sympathy who live among us and share our life, and we shall be proud to prove it toward all who are in fact loyal to their neighbors and to the government in the hour of test. They are, most of them, as true and loyal Americans as if they had never known any other fealty or allegiance. They will be prompt to stand with us in rebuking and restraining the few who may be of a different mind and purpose. If there should be disloyalty, it will be dealt with with a firm hand of stern repression; but, if it lifts its head at all, it will lift it only here and there and without countenance except from a lawless and malignant few.'),\n",
       " Document(metadata={'source': 'speech.txt'}, page_content='It is a distressing and oppressive duty, gentlemen of the Congress, which I have performed in thus addressing you. There are, it may be, many months of fiery trial and sacrifice ahead of us. It is a fearful thing to lead this great peaceful people into war, into the most terrible and disastrous of all wars, civilization itself seeming to be in the balance. But the right is more precious than peace, and we shall fight for the things which we have always carried nearest our heartsâ€”for democracy, for the right of those who submit to authority to have a voice in their own governments, for the rights and liberties of small nations, for a universal dominion of right by such a concert of free peoples as shall bring peace and safety to all nations and make the world itself at last free.'),\n",
       " Document(metadata={'source': 'speech.txt'}, page_content='To such a task we can dedicate our lives and our fortunes, everything that we are and everything that we have, with the pride of those who know that the day has come when America is privileged to spend her blood and her might for the principles that gave her birth and happiness and the peace which she has treasured. God helping her, she can do no other.')]"
      ]
     },
     "execution_count": 2,
     "metadata": {},
     "output_type": "execute_result"
    }
   ],
   "source": [
    "docs"
   ]
  },
  {
   "cell_type": "code",
   "execution_count": 3,
   "metadata": {},
   "outputs": [
    {
     "name": "stderr",
     "output_type": "stream",
     "text": [
      "C:\\Users\\window 11\\AppData\\Local\\Temp\\ipykernel_25332\\4214117037.py:2: LangChainDeprecationWarning: The class `OllamaEmbeddings` was deprecated in LangChain 0.3.1 and will be removed in 1.0.0. An updated version of the class exists in the :class:`~langchain-ollama package and should be used instead. To use it run `pip install -U :class:`~langchain-ollama` and import as `from :class:`~langchain_ollama import OllamaEmbeddings``.\n",
      "  embeddings = OllamaEmbeddings(model=\"all-minilm\")  # correct embedding model\n"
     ]
    }
   ],
   "source": [
    "# 3. Initialize Ollama embeddings (use an embedding model)\n",
    "embeddings = OllamaEmbeddings(model=\"all-minilm\")  # correct embedding model"
   ]
  },
  {
   "cell_type": "code",
   "execution_count": 4,
   "metadata": {},
   "outputs": [],
   "source": [
    "# 4. Create FAISS vector store\n",
    "db = FAISS.from_documents(docs, embeddings)"
   ]
  },
  {
   "cell_type": "code",
   "execution_count": 5,
   "metadata": {},
   "outputs": [
    {
     "data": {
      "text/plain": [
       "'It is a distressing and oppressive duty, gentlemen of the Congress, which I have performed in thus addressing you. There are, it may be, many months of fiery trial and sacrifice ahead of us. It is a fearful thing to lead this great peaceful people into war, into the most terrible and disastrous of all wars, civilization itself seeming to be in the balance. But the right is more precious than peace, and we shall fight for the things which we have always carried nearest our heartsâ€”for democracy, for the right of those who submit to authority to have a voice in their own governments, for the rights and liberties of small nations, for a universal dominion of right by such a concert of free peoples as shall bring peace and safety to all nations and make the world itself at last free.'"
      ]
     },
     "execution_count": 5,
     "metadata": {},
     "output_type": "execute_result"
    }
   ],
   "source": [
    "### querying \n",
    "query=\"How does the speaker describe the desired outcome of the war?\"\n",
    "docs=db.similarity_search(query)\n",
    "docs[0].page_content\n"
   ]
  },
  {
   "cell_type": "markdown",
   "metadata": {},
   "source": [
    "#### As a Retriever\n",
    "We can also convert the vectorstore into a Retriever class. This allows us to easily use it in other LangChain methods, which largely work with retrievers"
   ]
  },
  {
   "cell_type": "code",
   "execution_count": 6,
   "metadata": {},
   "outputs": [
    {
     "data": {
      "text/plain": [
       "'It is a distressing and oppressive duty, gentlemen of the Congress, which I have performed in thus addressing you. There are, it may be, many months of fiery trial and sacrifice ahead of us. It is a fearful thing to lead this great peaceful people into war, into the most terrible and disastrous of all wars, civilization itself seeming to be in the balance. But the right is more precious than peace, and we shall fight for the things which we have always carried nearest our heartsâ€”for democracy, for the right of those who submit to authority to have a voice in their own governments, for the rights and liberties of small nations, for a universal dominion of right by such a concert of free peoples as shall bring peace and safety to all nations and make the world itself at last free.'"
      ]
     },
     "execution_count": 6,
     "metadata": {},
     "output_type": "execute_result"
    }
   ],
   "source": [
    "retriever=db.as_retriever()\n",
    "docs=retriever.invoke(query)\n",
    "docs[0].page_content"
   ]
  },
  {
   "cell_type": "markdown",
   "metadata": {},
   "source": [
    "#### Similarity Search with score\n",
    "There are some FAISS specific methods. One of them is similarity_search_with_score, which allows you to return not only the documents but also the distance score of the query to them. The returned distance score is L2 distance. Therefore, a lower score is better."
   ]
  },
  {
   "cell_type": "code",
   "execution_count": 7,
   "metadata": {},
   "outputs": [
    {
     "data": {
      "text/plain": [
       "[(Document(id='f9853512-5d24-4ae5-8aec-e7a7ded3bbbc', metadata={'source': 'speech.txt'}, page_content='It is a distressing and oppressive duty, gentlemen of the Congress, which I have performed in thus addressing you. There are, it may be, many months of fiery trial and sacrifice ahead of us. It is a fearful thing to lead this great peaceful people into war, into the most terrible and disastrous of all wars, civilization itself seeming to be in the balance. But the right is more precious than peace, and we shall fight for the things which we have always carried nearest our heartsâ€”for democracy, for the right of those who submit to authority to have a voice in their own governments, for the rights and liberties of small nations, for a universal dominion of right by such a concert of free peoples as shall bring peace and safety to all nations and make the world itself at last free.'),\n",
       "  np.float32(16.274529)),\n",
       " (Document(id='5b89acb0-5f70-4632-b142-e2a622461473', metadata={'source': 'speech.txt'}, page_content='The world must be made safe for democracy. Its peace must be planted upon the tested foundations of political liberty. We have no selfish ends to serve. We desire no conquest, no dominion. We seek no indemnities for ourselves, no material compensation for the sacrifices we shall freely make. We are but one of the champions of the rights of mankind. We shall be satisfied when those rights have been made as secure as the faith and the freedom of nations can make them.\\n\\nJust because we fight without rancor and without selfish object, seeking nothing for ourselves but what we shall wish to share with all free peoples, we shall, I feel confident, conduct our operations as belligerents without passion and ourselves observe with proud punctilio the principles of right and of fair play we profess to be fighting for.\\n\\nâ€¦'),\n",
       "  np.float32(16.665442)),\n",
       " (Document(id='83d46039-28bb-46f7-b13b-9b7627381fef', metadata={'source': 'speech.txt'}, page_content='â€¦\\n\\nIt will be all the easier for us to conduct ourselves as belligerents in a high spirit of right and fairness because we act without animus, not in enmity toward a people or with the desire to bring any injury or disadvantage upon them, but only in armed opposition to an irresponsible government which has thrown aside all considerations of humanity and of right and is running amuck. We are, let me say again, the sincere friends of the German people, and shall desire nothing so much as the early reestablishment of intimate relations of mutual advantage between usâ€”however hard it may be for them, for the time being, to believe that this is spoken from our hearts.'),\n",
       "  np.float32(17.357998)),\n",
       " (Document(id='ce719830-5c07-4270-9b5d-dfd4a86e5bf8', metadata={'source': 'speech.txt'}, page_content='We have borne with their present government through all these bitter months because of that friendshipâ€”exercising a patience and forbearance which would otherwise have been impossible. We shall, happily, still have an opportunity to prove that friendship in our daily attitude and actions toward the millions of men and women of German birth and native sympathy who live among us and share our life, and we shall be proud to prove it toward all who are in fact loyal to their neighbors and to the government in the hour of test. They are, most of them, as true and loyal Americans as if they had never known any other fealty or allegiance. They will be prompt to stand with us in rebuking and restraining the few who may be of a different mind and purpose. If there should be disloyalty, it will be dealt with with a firm hand of stern repression; but, if it lifts its head at all, it will lift it only here and there and without countenance except from a lawless and malignant few.'),\n",
       "  np.float32(17.874052))]"
      ]
     },
     "execution_count": 7,
     "metadata": {},
     "output_type": "execute_result"
    }
   ],
   "source": [
    "docs_and_score=db.similarity_search_with_score(query)\n",
    "docs_and_score"
   ]
  },
  {
   "cell_type": "code",
   "execution_count": 8,
   "metadata": {},
   "outputs": [
    {
     "data": {
      "text/plain": [
       "[-0.11196693032979965,\n",
       " 0.3850976824760437,\n",
       " -0.0023530730977654457,\n",
       " 0.03753041848540306,\n",
       " -0.20253591239452362,\n",
       " 0.33467403054237366,\n",
       " 0.2745334208011627,\n",
       " -0.027083933353424072,\n",
       " 0.008105531334877014,\n",
       " 0.07643777132034302,\n",
       " -0.21862584352493286,\n",
       " 0.05448555201292038,\n",
       " 0.10437386482954025,\n",
       " -0.07608292251825333,\n",
       " -0.09918104857206345,\n",
       " 0.05838080868124962,\n",
       " 0.10060198605060577,\n",
       " -0.22312147915363312,\n",
       " 0.018552936613559723,\n",
       " -0.015868425369262695,\n",
       " 0.38620615005493164,\n",
       " 0.32014796137809753,\n",
       " 0.3497629761695862,\n",
       " 0.08051314204931259,\n",
       " 0.21619750559329987,\n",
       " -0.04636823385953903,\n",
       " -0.08678466826677322,\n",
       " 0.23410961031913757,\n",
       " -0.15375205874443054,\n",
       " 0.2016466110944748,\n",
       " 0.11601343750953674,\n",
       " -0.020739689469337463,\n",
       " 0.10615444928407669,\n",
       " 0.11999452859163284,\n",
       " 0.08757881075143814,\n",
       " -0.06987939774990082,\n",
       " -0.16472488641738892,\n",
       " -0.016046833246946335,\n",
       " -0.004996705800294876,\n",
       " -0.11680413037538528,\n",
       " -0.2468029409646988,\n",
       " -0.23050962388515472,\n",
       " 0.11673098057508469,\n",
       " 0.15123248100280762,\n",
       " 0.07953514903783798,\n",
       " -0.015986500307917595,\n",
       " -0.4772127568721771,\n",
       " -0.010239269584417343,\n",
       " 0.056196942925453186,\n",
       " 0.3503137528896332,\n",
       " -0.12414184212684631,\n",
       " -0.05919932201504707,\n",
       " -0.10706659406423569,\n",
       " 0.029151227325201035,\n",
       " 0.1352025270462036,\n",
       " -0.0390210896730423,\n",
       " -0.12022517621517181,\n",
       " 0.014036666601896286,\n",
       " 0.16855356097221375,\n",
       " -0.21357211470603943,\n",
       " -0.30204683542251587,\n",
       " -0.2111501395702362,\n",
       " -0.0736537054181099,\n",
       " 0.25321996212005615,\n",
       " 0.2753029763698578,\n",
       " -0.36398011445999146,\n",
       " 0.22330138087272644,\n",
       " -0.010951248928904533,\n",
       " -0.6077876687049866,\n",
       " -1.3270415365695953e-05,\n",
       " 0.10934577137231827,\n",
       " 0.03180444985628128,\n",
       " 0.13252408802509308,\n",
       " -0.13193440437316895,\n",
       " -0.1597038358449936,\n",
       " -0.20095014572143555,\n",
       " 0.32103750109672546,\n",
       " 0.17881008982658386,\n",
       " 0.3660185635089874,\n",
       " 0.09664471447467804,\n",
       " 0.01895897649228573,\n",
       " 0.21306200325489044,\n",
       " -0.1579740345478058,\n",
       " 0.05951841175556183,\n",
       " 0.2681027054786682,\n",
       " -0.27200695872306824,\n",
       " 0.1323980689048767,\n",
       " -0.1110992282629013,\n",
       " 0.38186150789260864,\n",
       " 0.09343058615922928,\n",
       " -0.5724878907203674,\n",
       " -0.3917626142501831,\n",
       " 0.03570161014795303,\n",
       " 0.3881292939186096,\n",
       " 0.06808824092149734,\n",
       " 0.4319416284561157,\n",
       " 0.1530410796403885,\n",
       " -0.213394433259964,\n",
       " 0.08216078579425812,\n",
       " 0.16850130259990692,\n",
       " 0.45298564434051514,\n",
       " -0.28816407918930054,\n",
       " -0.1038622260093689,\n",
       " -0.6010879874229431,\n",
       " -0.3188258111476898,\n",
       " -0.33049994707107544,\n",
       " -0.5239845514297485,\n",
       " 0.1514473259449005,\n",
       " -0.37471869587898254,\n",
       " -0.12414660304784775,\n",
       " -0.4277471601963043,\n",
       " -0.1596347540616989,\n",
       " 0.19534720480442047,\n",
       " -0.10892566293478012,\n",
       " 0.1678033173084259,\n",
       " 0.15403208136558533,\n",
       " 0.04674883186817169,\n",
       " -0.26130032539367676,\n",
       " -0.16402196884155273,\n",
       " 0.00017574685625731945,\n",
       " 0.09918712824583054,\n",
       " -0.03399733453989029,\n",
       " -0.11111163347959518,\n",
       " 0.08685924112796783,\n",
       " -0.4406270980834961,\n",
       " -0.027639735490083694,\n",
       " 0.05459834262728691,\n",
       " -2.819243055937993e-32,\n",
       " 0.1445768028497696,\n",
       " -0.33572879433631897,\n",
       " 0.003123888745903969,\n",
       " 0.39843738079071045,\n",
       " -0.22453127801418304,\n",
       " -0.21460233628749847,\n",
       " -0.14523732662200928,\n",
       " -0.004297537729144096,\n",
       " 0.20431135594844818,\n",
       " 0.14074771106243134,\n",
       " -0.42000433802604675,\n",
       " 0.05284683406352997,\n",
       " -0.004724415019154549,\n",
       " 0.2917431890964508,\n",
       " -0.12750917673110962,\n",
       " -0.08893436938524246,\n",
       " -0.5481994152069092,\n",
       " 0.4742752015590668,\n",
       " -0.16499294340610504,\n",
       " -0.014392156153917313,\n",
       " -0.0035126442089676857,\n",
       " 0.3723246157169342,\n",
       " -0.03175551816821098,\n",
       " -0.1248689517378807,\n",
       " 0.5225846171379089,\n",
       " -0.10444033145904541,\n",
       " -0.1284157633781433,\n",
       " -0.22450369596481323,\n",
       " -0.2067267894744873,\n",
       " 0.09102281183004379,\n",
       " -0.10023880749940872,\n",
       " 0.11789122223854065,\n",
       " -0.1711050420999527,\n",
       " -0.45124322175979614,\n",
       " 0.22709140181541443,\n",
       " -0.008826268836855888,\n",
       " -0.37408581376075745,\n",
       " 0.09806190431118011,\n",
       " -0.15924789011478424,\n",
       " -0.057393960654735565,\n",
       " -0.05811156705021858,\n",
       " 0.09212253242731094,\n",
       " -0.1766737997531891,\n",
       " 0.19686757028102875,\n",
       " 0.2974722981452942,\n",
       " -0.1303139328956604,\n",
       " -0.3403908312320709,\n",
       " -0.052805345505476,\n",
       " -0.26288720965385437,\n",
       " 0.029323892667889595,\n",
       " 0.04995473474264145,\n",
       " -0.12058386206626892,\n",
       " -0.08040584623813629,\n",
       " -0.11843007057905197,\n",
       " 0.41717055439949036,\n",
       " 0.10448864102363586,\n",
       " 0.0546531081199646,\n",
       " 0.25084730982780457,\n",
       " -0.33633360266685486,\n",
       " -0.22495470941066742,\n",
       " 0.28055405616760254,\n",
       " -0.07748018205165863,\n",
       " 0.03368186950683594,\n",
       " -0.04294516146183014,\n",
       " 0.01925191655755043,\n",
       " 0.0182062778621912,\n",
       " -0.5154610276222229,\n",
       " -0.11286390572786331,\n",
       " 0.02857629768550396,\n",
       " -0.009946057572960854,\n",
       " -0.043145593255758286,\n",
       " -0.01936171017587185,\n",
       " 0.1334318220615387,\n",
       " -0.27021124958992004,\n",
       " -0.341705858707428,\n",
       " 0.14655780792236328,\n",
       " 0.1345112919807434,\n",
       " 0.12043627351522446,\n",
       " 0.09129828214645386,\n",
       " -0.25979292392730713,\n",
       " -0.07247588038444519,\n",
       " 0.00324254110455513,\n",
       " -0.0014337217435240746,\n",
       " 0.20012034475803375,\n",
       " 0.014896228909492493,\n",
       " -0.013828477822244167,\n",
       " 0.14903074502944946,\n",
       " -0.7443692088127136,\n",
       " -0.04465685039758682,\n",
       " -0.12716920673847198,\n",
       " -0.08157950639724731,\n",
       " 0.034409165382385254,\n",
       " -0.06589175760746002,\n",
       " 0.1306144744157791,\n",
       " -0.017104119062423706,\n",
       " 1.0875441573673517e-32,\n",
       " -0.18041598796844482,\n",
       " 0.40913960337638855,\n",
       " -0.1032341718673706,\n",
       " 0.060420673340559006,\n",
       " -0.14548969268798828,\n",
       " 0.07450048625469208,\n",
       " -0.008173448964953423,\n",
       " -0.21746402978897095,\n",
       " -0.01276601105928421,\n",
       " 0.03018920123577118,\n",
       " -0.1251296103000641,\n",
       " -0.005661108531057835,\n",
       " 0.05803699791431427,\n",
       " 0.2584588825702667,\n",
       " -0.39845672249794006,\n",
       " 0.07639651000499725,\n",
       " 0.45790472626686096,\n",
       " -0.22828125953674316,\n",
       " 0.19253654778003693,\n",
       " 0.15938735008239746,\n",
       " 0.10234077274799347,\n",
       " 0.16975033283233643,\n",
       " -0.23703575134277344,\n",
       " -0.1545550376176834,\n",
       " 0.1327884942293167,\n",
       " -0.026124294847249985,\n",
       " 0.46676960587501526,\n",
       " -0.2690088748931885,\n",
       " -0.22914902865886688,\n",
       " -0.12371409684419632,\n",
       " 0.23523035645484924,\n",
       " -0.6218400597572327,\n",
       " -0.38261130452156067,\n",
       " 0.295119047164917,\n",
       " 0.30253908038139343,\n",
       " 0.26813215017318726,\n",
       " 0.5259888768196106,\n",
       " -0.20682410895824432,\n",
       " -0.06707918643951416,\n",
       " 0.022320860996842384,\n",
       " 0.008619554340839386,\n",
       " -0.325106143951416,\n",
       " -0.17975997924804688,\n",
       " 0.25491276383399963,\n",
       " -0.3767399489879608,\n",
       " -0.09010191261768341,\n",
       " -0.0967053771018982,\n",
       " 0.0542718879878521,\n",
       " 0.18387305736541748,\n",
       " -0.2261810302734375,\n",
       " 0.18484897911548615,\n",
       " 0.22146998345851898,\n",
       " -0.14848504960536957,\n",
       " 0.2953815162181854,\n",
       " -0.3357894718647003,\n",
       " -0.2781352698802948,\n",
       " -0.24637728929519653,\n",
       " -0.45882418751716614,\n",
       " 0.1560092270374298,\n",
       " 0.2871042490005493,\n",
       " -0.36809825897216797,\n",
       " 0.10135677456855774,\n",
       " 0.027460718527436256,\n",
       " -0.07164241373538971,\n",
       " -0.12632083892822266,\n",
       " -0.12401740252971649,\n",
       " -0.25765570998191833,\n",
       " 0.03764411062002182,\n",
       " 0.2673671841621399,\n",
       " 0.1695631742477417,\n",
       " 0.12047424167394638,\n",
       " 0.030788570642471313,\n",
       " -0.23294709622859955,\n",
       " 0.039492540061473846,\n",
       " 0.5233389139175415,\n",
       " -0.040707290172576904,\n",
       " -0.035981450229883194,\n",
       " -0.19529466331005096,\n",
       " -0.43184545636177063,\n",
       " 0.15943115949630737,\n",
       " -0.11872406303882599,\n",
       " -0.050924256443977356,\n",
       " -0.033368952572345734,\n",
       " 0.046761222183704376,\n",
       " -0.14925767481327057,\n",
       " 0.017686093226075172,\n",
       " -0.12089194357395172,\n",
       " 0.2144058793783188,\n",
       " 0.18012946844100952,\n",
       " 0.07111411541700363,\n",
       " 0.032472994178533554,\n",
       " -0.254917174577713,\n",
       " 0.018201244994997978,\n",
       " -0.08097542822360992,\n",
       " -0.13039876520633698,\n",
       " -9.777433973567895e-08,\n",
       " -0.23326636850833893,\n",
       " 0.16707932949066162,\n",
       " 0.252543568611145,\n",
       " 0.13069358468055725,\n",
       " -0.24997057020664215,\n",
       " 0.001907773781567812,\n",
       " -0.010541032999753952,\n",
       " -0.33642709255218506,\n",
       " -0.014405028894543648,\n",
       " -0.000248737633228302,\n",
       " 0.09355534613132477,\n",
       " 0.39996156096458435,\n",
       " -0.09908078610897064,\n",
       " 0.16726674139499664,\n",
       " -0.019426172599196434,\n",
       " 0.36976078152656555,\n",
       " -0.007512838579714298,\n",
       " 0.04069200158119202,\n",
       " -0.20461393892765045,\n",
       " -0.3408552408218384,\n",
       " 0.3291392922401428,\n",
       " 0.016151323914527893,\n",
       " -0.1834685206413269,\n",
       " -0.0003865109756588936,\n",
       " 0.13076555728912354,\n",
       " 0.3990480601787567,\n",
       " -0.13261215388774872,\n",
       " 0.19418181478977203,\n",
       " -0.12973929941654205,\n",
       " 0.45012274384498596,\n",
       " 0.11489556729793549,\n",
       " 0.36461400985717773,\n",
       " -0.38084056973457336,\n",
       " -0.25579744577407837,\n",
       " -0.1268020123243332,\n",
       " 0.45038551092147827,\n",
       " 0.006341842003166676,\n",
       " -0.21774990856647491,\n",
       " 0.33563315868377686,\n",
       " -0.12558041512966156,\n",
       " -0.0043347664177417755,\n",
       " 0.716159999370575,\n",
       " 0.20595666766166687,\n",
       " 0.3065683841705322,\n",
       " 0.41327106952667236,\n",
       " 0.3258873522281647,\n",
       " 0.014704490080475807,\n",
       " -0.12409773468971252,\n",
       " -0.15641996264457703,\n",
       " -0.17098945379257202,\n",
       " -0.026387225836515427,\n",
       " -0.06767866015434265,\n",
       " -0.003346236888319254,\n",
       " 0.2941558361053467,\n",
       " 0.05973567068576813,\n",
       " 0.08945746719837189,\n",
       " 0.2736820578575134,\n",
       " 0.13840176165103912,\n",
       " 0.2107710838317871,\n",
       " 0.21488411724567413,\n",
       " 0.18486478924751282,\n",
       " 0.19516436755657196,\n",
       " -0.10503052175045013,\n",
       " 0.0388992615044117]"
      ]
     },
     "execution_count": 8,
     "metadata": {},
     "output_type": "execute_result"
    }
   ],
   "source": [
    "embedding_vector=embeddings.embed_query(query)\n",
    "embedding_vector"
   ]
  },
  {
   "cell_type": "code",
   "execution_count": 9,
   "metadata": {},
   "outputs": [
    {
     "data": {
      "text/plain": [
       "[Document(id='f9853512-5d24-4ae5-8aec-e7a7ded3bbbc', metadata={'source': 'speech.txt'}, page_content='It is a distressing and oppressive duty, gentlemen of the Congress, which I have performed in thus addressing you. There are, it may be, many months of fiery trial and sacrifice ahead of us. It is a fearful thing to lead this great peaceful people into war, into the most terrible and disastrous of all wars, civilization itself seeming to be in the balance. But the right is more precious than peace, and we shall fight for the things which we have always carried nearest our heartsâ€”for democracy, for the right of those who submit to authority to have a voice in their own governments, for the rights and liberties of small nations, for a universal dominion of right by such a concert of free peoples as shall bring peace and safety to all nations and make the world itself at last free.'),\n",
       " Document(id='5b89acb0-5f70-4632-b142-e2a622461473', metadata={'source': 'speech.txt'}, page_content='The world must be made safe for democracy. Its peace must be planted upon the tested foundations of political liberty. We have no selfish ends to serve. We desire no conquest, no dominion. We seek no indemnities for ourselves, no material compensation for the sacrifices we shall freely make. We are but one of the champions of the rights of mankind. We shall be satisfied when those rights have been made as secure as the faith and the freedom of nations can make them.\\n\\nJust because we fight without rancor and without selfish object, seeking nothing for ourselves but what we shall wish to share with all free peoples, we shall, I feel confident, conduct our operations as belligerents without passion and ourselves observe with proud punctilio the principles of right and of fair play we profess to be fighting for.\\n\\nâ€¦'),\n",
       " Document(id='83d46039-28bb-46f7-b13b-9b7627381fef', metadata={'source': 'speech.txt'}, page_content='â€¦\\n\\nIt will be all the easier for us to conduct ourselves as belligerents in a high spirit of right and fairness because we act without animus, not in enmity toward a people or with the desire to bring any injury or disadvantage upon them, but only in armed opposition to an irresponsible government which has thrown aside all considerations of humanity and of right and is running amuck. We are, let me say again, the sincere friends of the German people, and shall desire nothing so much as the early reestablishment of intimate relations of mutual advantage between usâ€”however hard it may be for them, for the time being, to believe that this is spoken from our hearts.'),\n",
       " Document(id='ce719830-5c07-4270-9b5d-dfd4a86e5bf8', metadata={'source': 'speech.txt'}, page_content='We have borne with their present government through all these bitter months because of that friendshipâ€”exercising a patience and forbearance which would otherwise have been impossible. We shall, happily, still have an opportunity to prove that friendship in our daily attitude and actions toward the millions of men and women of German birth and native sympathy who live among us and share our life, and we shall be proud to prove it toward all who are in fact loyal to their neighbors and to the government in the hour of test. They are, most of them, as true and loyal Americans as if they had never known any other fealty or allegiance. They will be prompt to stand with us in rebuking and restraining the few who may be of a different mind and purpose. If there should be disloyalty, it will be dealt with with a firm hand of stern repression; but, if it lifts its head at all, it will lift it only here and there and without countenance except from a lawless and malignant few.')]"
      ]
     },
     "execution_count": 9,
     "metadata": {},
     "output_type": "execute_result"
    }
   ],
   "source": [
    "docs_score=db.similarity_search_by_vector(embedding_vector)\n",
    "docs_score"
   ]
  },
  {
   "cell_type": "code",
   "execution_count": 10,
   "metadata": {},
   "outputs": [],
   "source": [
    "### Saving And Loading\n",
    "db.save_local(\"faiss_index\")"
   ]
  },
  {
   "cell_type": "code",
   "execution_count": 11,
   "metadata": {},
   "outputs": [],
   "source": [
    "new_db=FAISS.load_local(\"faiss_index\",embeddings,allow_dangerous_deserialization=True)\n",
    "docs=new_db.similarity_search(query)"
   ]
  },
  {
   "cell_type": "code",
   "execution_count": 12,
   "metadata": {},
   "outputs": [
    {
     "data": {
      "text/plain": [
       "[Document(id='f9853512-5d24-4ae5-8aec-e7a7ded3bbbc', metadata={'source': 'speech.txt'}, page_content='It is a distressing and oppressive duty, gentlemen of the Congress, which I have performed in thus addressing you. There are, it may be, many months of fiery trial and sacrifice ahead of us. It is a fearful thing to lead this great peaceful people into war, into the most terrible and disastrous of all wars, civilization itself seeming to be in the balance. But the right is more precious than peace, and we shall fight for the things which we have always carried nearest our heartsâ€”for democracy, for the right of those who submit to authority to have a voice in their own governments, for the rights and liberties of small nations, for a universal dominion of right by such a concert of free peoples as shall bring peace and safety to all nations and make the world itself at last free.'),\n",
       " Document(id='5b89acb0-5f70-4632-b142-e2a622461473', metadata={'source': 'speech.txt'}, page_content='The world must be made safe for democracy. Its peace must be planted upon the tested foundations of political liberty. We have no selfish ends to serve. We desire no conquest, no dominion. We seek no indemnities for ourselves, no material compensation for the sacrifices we shall freely make. We are but one of the champions of the rights of mankind. We shall be satisfied when those rights have been made as secure as the faith and the freedom of nations can make them.\\n\\nJust because we fight without rancor and without selfish object, seeking nothing for ourselves but what we shall wish to share with all free peoples, we shall, I feel confident, conduct our operations as belligerents without passion and ourselves observe with proud punctilio the principles of right and of fair play we profess to be fighting for.\\n\\nâ€¦'),\n",
       " Document(id='83d46039-28bb-46f7-b13b-9b7627381fef', metadata={'source': 'speech.txt'}, page_content='â€¦\\n\\nIt will be all the easier for us to conduct ourselves as belligerents in a high spirit of right and fairness because we act without animus, not in enmity toward a people or with the desire to bring any injury or disadvantage upon them, but only in armed opposition to an irresponsible government which has thrown aside all considerations of humanity and of right and is running amuck. We are, let me say again, the sincere friends of the German people, and shall desire nothing so much as the early reestablishment of intimate relations of mutual advantage between usâ€”however hard it may be for them, for the time being, to believe that this is spoken from our hearts.'),\n",
       " Document(id='ce719830-5c07-4270-9b5d-dfd4a86e5bf8', metadata={'source': 'speech.txt'}, page_content='We have borne with their present government through all these bitter months because of that friendshipâ€”exercising a patience and forbearance which would otherwise have been impossible. We shall, happily, still have an opportunity to prove that friendship in our daily attitude and actions toward the millions of men and women of German birth and native sympathy who live among us and share our life, and we shall be proud to prove it toward all who are in fact loyal to their neighbors and to the government in the hour of test. They are, most of them, as true and loyal Americans as if they had never known any other fealty or allegiance. They will be prompt to stand with us in rebuking and restraining the few who may be of a different mind and purpose. If there should be disloyalty, it will be dealt with with a firm hand of stern repression; but, if it lifts its head at all, it will lift it only here and there and without countenance except from a lawless and malignant few.')]"
      ]
     },
     "execution_count": 12,
     "metadata": {},
     "output_type": "execute_result"
    }
   ],
   "source": [
    "docs"
   ]
  },
  {
   "cell_type": "code",
   "execution_count": null,
   "metadata": {},
   "outputs": [],
   "source": [
    "y"
   ]
  },
  {
   "cell_type": "code",
   "execution_count": null,
   "metadata": {},
   "outputs": [],
   "source": []
  },
  {
   "cell_type": "code",
   "execution_count": null,
   "metadata": {},
   "outputs": [],
   "source": []
  },
  {
   "cell_type": "code",
   "execution_count": null,
   "metadata": {},
   "outputs": [],
   "source": []
  },
  {
   "cell_type": "code",
   "execution_count": null,
   "metadata": {},
   "outputs": [],
   "source": []
  }
 ],
 "metadata": {
  "kernelspec": {
   "display_name": "venv",
   "language": "python",
   "name": "python3"
  },
  "language_info": {
   "codemirror_mode": {
    "name": "ipython",
    "version": 3
   },
   "file_extension": ".py",
   "mimetype": "text/x-python",
   "name": "python",
   "nbconvert_exporter": "python",
   "pygments_lexer": "ipython3",
   "version": "3.10.11"
  }
 },
 "nbformat": 4,
 "nbformat_minor": 2
}
