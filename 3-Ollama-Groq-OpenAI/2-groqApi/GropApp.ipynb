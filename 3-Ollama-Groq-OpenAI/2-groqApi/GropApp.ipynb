{
 "cells": [
  {
   "cell_type": "markdown",
   "metadata": {},
   "source": [
    "#### Simple Gen AI APP Using Langchain"
   ]
  },
  {
   "cell_type": "code",
   "execution_count": 2,
   "metadata": {},
   "outputs": [],
   "source": [
    "import os\n",
    "from dotenv import load_dotenv\n",
    "load_dotenv()\n",
    "\n",
    "# Groq + Langsmith Keys\n",
    "os.environ[\"GROQ_API_KEY\"] = os.getenv(\"GROQ_API_KEY\")\n",
    "os.environ[\"LANGCHAIN_API_KEY\"] = os.getenv(\"LANGCHAIN_API_KEY\")\n",
    "os.environ[\"LANGCHAIN_TRACING_V2\"] = \"true\"\n",
    "os.environ[\"LANGCHAIN_PROJECT\"] = os.getenv(\"LANGCHAIN_PROJECT\")"
   ]
  },
  {
   "cell_type": "code",
   "execution_count": 4,
   "metadata": {},
   "outputs": [
    {
     "name": "stdout",
     "output_type": "stream",
     "text": [
      "Collecting langchain_community\n",
      "  Downloading langchain_community-0.3.29-py3-none-any.whl (2.5 MB)\n",
      "     ---------------------------------------- 0.0/2.5 MB ? eta -:--:--\n",
      "     - -------------------------------------- 0.1/2.5 MB 1.8 MB/s eta 0:00:02\n",
      "     ----------- ---------------------------- 0.7/2.5 MB 7.7 MB/s eta 0:00:01\n",
      "     ---------------------------------------  2.5/2.5 MB 17.6 MB/s eta 0:00:01\n",
      "     ---------------------------------------- 2.5/2.5 MB 14.7 MB/s eta 0:00:00\n",
      "Requirement already satisfied: langchain-core<2.0.0,>=0.3.75 in c:\\users\\window 11\\appdata\\local\\programs\\python\\python310\\lib\\site-packages (from langchain_community) (0.3.76)\n",
      "Collecting aiohttp<4.0.0,>=3.8.3\n",
      "  Using cached aiohttp-3.12.15-cp310-cp310-win_amd64.whl (452 kB)\n",
      "Requirement already satisfied: tenacity!=8.4.0,<10,>=8.1.0 in c:\\users\\window 11\\appdata\\local\\programs\\python\\python310\\lib\\site-packages (from langchain_community) (9.1.2)\n",
      "Requirement already satisfied: langsmith>=0.1.125 in c:\\users\\window 11\\appdata\\local\\programs\\python\\python310\\lib\\site-packages (from langchain_community) (0.4.29)\n",
      "Requirement already satisfied: numpy>=1.26.2 in c:\\users\\window 11\\appdata\\local\\programs\\python\\python310\\lib\\site-packages (from langchain_community) (2.2.6)\n",
      "Requirement already satisfied: requests<3,>=2.32.5 in c:\\users\\window 11\\appdata\\local\\programs\\python\\python310\\lib\\site-packages (from langchain_community) (2.32.5)\n",
      "Collecting langchain<2.0.0,>=0.3.27\n",
      "  Using cached langchain-0.3.27-py3-none-any.whl (1.0 MB)\n",
      "Collecting pydantic-settings<3.0.0,>=2.10.1\n",
      "  Using cached pydantic_settings-2.10.1-py3-none-any.whl (45 kB)\n",
      "Collecting httpx-sse<1.0.0,>=0.4.0\n",
      "  Using cached httpx_sse-0.4.1-py3-none-any.whl (8.1 kB)\n",
      "Collecting dataclasses-json<0.7,>=0.6.7\n",
      "  Using cached dataclasses_json-0.6.7-py3-none-any.whl (28 kB)\n",
      "Requirement already satisfied: PyYAML>=5.3 in c:\\users\\window 11\\appdata\\local\\programs\\python\\python310\\lib\\site-packages (from langchain_community) (6.0.2)\n",
      "Collecting SQLAlchemy<3,>=1.4\n",
      "  Using cached sqlalchemy-2.0.43-cp310-cp310-win_amd64.whl (2.1 MB)\n",
      "Collecting yarl<2.0,>=1.17.0\n",
      "  Using cached yarl-1.20.1-cp310-cp310-win_amd64.whl (86 kB)\n",
      "Collecting aiohappyeyeballs>=2.5.0\n",
      "  Using cached aiohappyeyeballs-2.6.1-py3-none-any.whl (15 kB)\n",
      "Collecting multidict<7.0,>=4.5\n",
      "  Using cached multidict-6.6.4-cp310-cp310-win_amd64.whl (46 kB)\n",
      "Collecting propcache>=0.2.0\n",
      "  Using cached propcache-0.3.2-cp310-cp310-win_amd64.whl (41 kB)\n",
      "Collecting async-timeout<6.0,>=4.0\n",
      "  Downloading async_timeout-5.0.1-py3-none-any.whl (6.2 kB)\n",
      "Collecting frozenlist>=1.1.1\n",
      "  Using cached frozenlist-1.7.0-cp310-cp310-win_amd64.whl (43 kB)\n",
      "Collecting attrs>=17.3.0\n",
      "  Using cached attrs-25.3.0-py3-none-any.whl (63 kB)\n",
      "Collecting aiosignal>=1.4.0\n",
      "  Using cached aiosignal-1.4.0-py3-none-any.whl (7.5 kB)\n",
      "Collecting typing-inspect<1,>=0.4.0\n",
      "  Using cached typing_inspect-0.9.0-py3-none-any.whl (8.8 kB)\n",
      "Collecting marshmallow<4.0.0,>=3.18.0\n",
      "  Using cached marshmallow-3.26.1-py3-none-any.whl (50 kB)\n",
      "Collecting async-timeout<6.0,>=4.0\n",
      "  Using cached async_timeout-4.0.3-py3-none-any.whl (5.7 kB)\n",
      "Requirement already satisfied: pydantic<3.0.0,>=2.7.4 in c:\\users\\window 11\\appdata\\local\\programs\\python\\python310\\lib\\site-packages (from langchain<2.0.0,>=0.3.27->langchain_community) (2.11.9)\n",
      "Collecting langchain-text-splitters<1.0.0,>=0.3.9\n",
      "  Using cached langchain_text_splitters-0.3.11-py3-none-any.whl (33 kB)\n",
      "Requirement already satisfied: typing-extensions>=4.7 in c:\\users\\window 11\\appdata\\roaming\\python\\python310\\site-packages (from langchain-core<2.0.0,>=0.3.75->langchain_community) (4.15.0)\n",
      "Requirement already satisfied: packaging>=23.2 in c:\\users\\window 11\\appdata\\roaming\\python\\python310\\site-packages (from langchain-core<2.0.0,>=0.3.75->langchain_community) (25.0)\n",
      "Requirement already satisfied: jsonpatch<2.0,>=1.33 in c:\\users\\window 11\\appdata\\local\\programs\\python\\python310\\lib\\site-packages (from langchain-core<2.0.0,>=0.3.75->langchain_community) (1.33)\n",
      "Requirement already satisfied: zstandard>=0.23.0 in c:\\users\\window 11\\appdata\\local\\programs\\python\\python310\\lib\\site-packages (from langsmith>=0.1.125->langchain_community) (0.25.0)\n",
      "Requirement already satisfied: httpx<1,>=0.23.0 in c:\\users\\window 11\\appdata\\local\\programs\\python\\python310\\lib\\site-packages (from langsmith>=0.1.125->langchain_community) (0.28.1)\n",
      "Requirement already satisfied: orjson>=3.9.14 in c:\\users\\window 11\\appdata\\local\\programs\\python\\python310\\lib\\site-packages (from langsmith>=0.1.125->langchain_community) (3.11.3)\n",
      "Requirement already satisfied: requests-toolbelt>=1.0.0 in c:\\users\\window 11\\appdata\\local\\programs\\python\\python310\\lib\\site-packages (from langsmith>=0.1.125->langchain_community) (1.0.0)\n",
      "Requirement already satisfied: typing-inspection>=0.4.0 in c:\\users\\window 11\\appdata\\local\\programs\\python\\python310\\lib\\site-packages (from pydantic-settings<3.0.0,>=2.10.1->langchain_community) (0.4.1)\n",
      "Requirement already satisfied: python-dotenv>=0.21.0 in c:\\users\\window 11\\appdata\\local\\programs\\python\\python310\\lib\\site-packages (from pydantic-settings<3.0.0,>=2.10.1->langchain_community) (1.1.1)\n",
      "Requirement already satisfied: certifi>=2017.4.17 in c:\\users\\window 11\\appdata\\local\\programs\\python\\python310\\lib\\site-packages (from requests<3,>=2.32.5->langchain_community) (2025.8.3)\n",
      "Requirement already satisfied: charset_normalizer<4,>=2 in c:\\users\\window 11\\appdata\\local\\programs\\python\\python310\\lib\\site-packages (from requests<3,>=2.32.5->langchain_community) (3.4.3)\n",
      "Requirement already satisfied: urllib3<3,>=1.21.1 in c:\\users\\window 11\\appdata\\local\\programs\\python\\python310\\lib\\site-packages (from requests<3,>=2.32.5->langchain_community) (2.5.0)\n",
      "Requirement already satisfied: idna<4,>=2.5 in c:\\users\\window 11\\appdata\\local\\programs\\python\\python310\\lib\\site-packages (from requests<3,>=2.32.5->langchain_community) (3.10)\n",
      "Collecting greenlet>=1\n",
      "  Using cached greenlet-3.2.4-cp310-cp310-win_amd64.whl (298 kB)\n",
      "Requirement already satisfied: httpcore==1.* in c:\\users\\window 11\\appdata\\local\\programs\\python\\python310\\lib\\site-packages (from httpx<1,>=0.23.0->langsmith>=0.1.125->langchain_community) (1.0.9)\n",
      "Requirement already satisfied: anyio in c:\\users\\window 11\\appdata\\local\\programs\\python\\python310\\lib\\site-packages (from httpx<1,>=0.23.0->langsmith>=0.1.125->langchain_community) (4.10.0)\n",
      "Requirement already satisfied: h11>=0.16 in c:\\users\\window 11\\appdata\\local\\programs\\python\\python310\\lib\\site-packages (from httpcore==1.*->httpx<1,>=0.23.0->langsmith>=0.1.125->langchain_community) (0.16.0)\n",
      "Requirement already satisfied: jsonpointer>=1.9 in c:\\users\\window 11\\appdata\\local\\programs\\python\\python310\\lib\\site-packages (from jsonpatch<2.0,>=1.33->langchain-core<2.0.0,>=0.3.75->langchain_community) (3.0.0)\n",
      "Requirement already satisfied: annotated-types>=0.6.0 in c:\\users\\window 11\\appdata\\local\\programs\\python\\python310\\lib\\site-packages (from pydantic<3.0.0,>=2.7.4->langchain<2.0.0,>=0.3.27->langchain_community) (0.7.0)\n",
      "Requirement already satisfied: pydantic-core==2.33.2 in c:\\users\\window 11\\appdata\\local\\programs\\python\\python310\\lib\\site-packages (from pydantic<3.0.0,>=2.7.4->langchain<2.0.0,>=0.3.27->langchain_community) (2.33.2)\n",
      "Collecting mypy-extensions>=0.3.0\n",
      "  Using cached mypy_extensions-1.1.0-py3-none-any.whl (5.0 kB)\n",
      "Requirement already satisfied: sniffio>=1.1 in c:\\users\\window 11\\appdata\\local\\programs\\python\\python310\\lib\\site-packages (from anyio->httpx<1,>=0.23.0->langsmith>=0.1.125->langchain_community) (1.3.1)\n",
      "Requirement already satisfied: exceptiongroup>=1.0.2 in c:\\users\\window 11\\appdata\\roaming\\python\\python310\\site-packages (from anyio->httpx<1,>=0.23.0->langsmith>=0.1.125->langchain_community) (1.3.0)\n",
      "Installing collected packages: propcache, mypy-extensions, multidict, marshmallow, httpx-sse, greenlet, frozenlist, attrs, async-timeout, aiohappyeyeballs, yarl, typing-inspect, SQLAlchemy, aiosignal, pydantic-settings, dataclasses-json, aiohttp, langchain-text-splitters, langchain, langchain_community\n",
      "Successfully installed SQLAlchemy-2.0.43 aiohappyeyeballs-2.6.1 aiohttp-3.12.15 aiosignal-1.4.0 async-timeout-4.0.3 attrs-25.3.0 dataclasses-json-0.6.7 frozenlist-1.7.0 greenlet-3.2.4 httpx-sse-0.4.1 langchain-0.3.27 langchain-text-splitters-0.3.11 langchain_community-0.3.29 marshmallow-3.26.1 multidict-6.6.4 mypy-extensions-1.1.0 propcache-0.3.2 pydantic-settings-2.10.1 typing-inspect-0.9.0 yarl-1.20.1\n",
      "Note: you may need to restart the kernel to use updated packages.\n"
     ]
    },
    {
     "name": "stderr",
     "output_type": "stream",
     "text": [
      "\n",
      "[notice] A new release of pip is available: 23.0.1 -> 25.2\n",
      "[notice] To update, run: python.exe -m pip install --upgrade pip\n"
     ]
    }
   ],
   "source": [
    "pip install langchain_community"
   ]
  },
  {
   "cell_type": "code",
   "execution_count": 6,
   "metadata": {},
   "outputs": [
    {
     "name": "stdout",
     "output_type": "stream",
     "text": [
      "Collecting bs4\n",
      "  Downloading bs4-0.0.2-py2.py3-none-any.whl (1.2 kB)\n",
      "Collecting beautifulsoup4\n",
      "  Using cached beautifulsoup4-4.13.5-py3-none-any.whl (105 kB)\n",
      "Collecting soupsieve>1.2\n",
      "  Using cached soupsieve-2.8-py3-none-any.whl (36 kB)\n",
      "Requirement already satisfied: typing-extensions>=4.0.0 in c:\\users\\window 11\\appdata\\roaming\\python\\python310\\site-packages (from beautifulsoup4->bs4) (4.15.0)\n",
      "Installing collected packages: soupsieve, beautifulsoup4, bs4\n",
      "Successfully installed beautifulsoup4-4.13.5 bs4-0.0.2 soupsieve-2.8\n",
      "Note: you may need to restart the kernel to use updated packages.\n"
     ]
    },
    {
     "name": "stderr",
     "output_type": "stream",
     "text": [
      "\n",
      "[notice] A new release of pip is available: 23.0.1 -> 25.2\n",
      "[notice] To update, run: python.exe -m pip install --upgrade pip\n"
     ]
    }
   ],
   "source": [
    "pip install bs4"
   ]
  },
  {
   "cell_type": "code",
   "execution_count": 30,
   "metadata": {},
   "outputs": [],
   "source": [
    "\n",
    "## Data Ingestion\n",
    "from langchain_community.document_loaders import WebBaseLoader\n",
    "#loader = WebBaseLoader(\"https://docs.smith.langchain.com/tutorials/Administrators/manage_spend\")\n",
    "#loader = WebBaseLoader(\"https://python.langchain.com/docs/langsmith/guides/manage_spend/\")\n",
    "loader = WebBaseLoader(\"https://www.geeksforgeeks.org/artificial-intelligence/the-complete-langchain-ecosystem/\")\n",
    "\n",
    "\n",
    "docs = loader.load()"
   ]
  },
  {
   "cell_type": "code",
   "execution_count": 31,
   "metadata": {},
   "outputs": [],
   "source": [
    "## Split documents\n",
    "from langchain_text_splitters import RecursiveCharacterTextSplitter\n",
    "text_splitter = RecursiveCharacterTextSplitter(chunk_size=1000, chunk_overlap=200)\n",
    "documents = text_splitter.split_documents(docs)"
   ]
  },
  {
   "cell_type": "code",
   "execution_count": 32,
   "metadata": {},
   "outputs": [
    {
     "name": "stdout",
     "output_type": "stream",
     "text": [
      "Requirement already satisfied: sentence_transformers in c:\\users\\window 11\\appdata\\local\\programs\\python\\python310\\lib\\site-packages (5.1.0)\n",
      "Requirement already satisfied: Pillow in c:\\users\\window 11\\appdata\\local\\programs\\python\\python310\\lib\\site-packages (from sentence_transformers) (11.3.0)\n",
      "Requirement already satisfied: typing_extensions>=4.5.0 in c:\\users\\window 11\\appdata\\roaming\\python\\python310\\site-packages (from sentence_transformers) (4.15.0)\n",
      "Requirement already satisfied: tqdm in c:\\users\\window 11\\appdata\\local\\programs\\python\\python310\\lib\\site-packages (from sentence_transformers) (4.67.1)\n",
      "Requirement already satisfied: torch>=1.11.0 in c:\\users\\window 11\\appdata\\local\\programs\\python\\python310\\lib\\site-packages (from sentence_transformers) (2.8.0)\n",
      "Requirement already satisfied: huggingface-hub>=0.20.0 in c:\\users\\window 11\\appdata\\local\\programs\\python\\python310\\lib\\site-packages (from sentence_transformers) (0.35.0)\n",
      "Requirement already satisfied: scikit-learn in c:\\users\\window 11\\appdata\\local\\programs\\python\\python310\\lib\\site-packages (from sentence_transformers) (1.7.2)\n",
      "Requirement already satisfied: scipy in c:\\users\\window 11\\appdata\\local\\programs\\python\\python310\\lib\\site-packages (from sentence_transformers) (1.15.3)\n",
      "Requirement already satisfied: transformers<5.0.0,>=4.41.0 in c:\\users\\window 11\\appdata\\local\\programs\\python\\python310\\lib\\site-packages (from sentence_transformers) (4.56.2)\n",
      "Requirement already satisfied: pyyaml>=5.1 in c:\\users\\window 11\\appdata\\local\\programs\\python\\python310\\lib\\site-packages (from huggingface-hub>=0.20.0->sentence_transformers) (6.0.2)\n",
      "Requirement already satisfied: fsspec>=2023.5.0 in c:\\users\\window 11\\appdata\\local\\programs\\python\\python310\\lib\\site-packages (from huggingface-hub>=0.20.0->sentence_transformers) (2025.9.0)\n",
      "Requirement already satisfied: packaging>=20.9 in c:\\users\\window 11\\appdata\\roaming\\python\\python310\\site-packages (from huggingface-hub>=0.20.0->sentence_transformers) (25.0)\n",
      "Requirement already satisfied: filelock in c:\\users\\window 11\\appdata\\local\\programs\\python\\python310\\lib\\site-packages (from huggingface-hub>=0.20.0->sentence_transformers) (3.19.1)\n",
      "Requirement already satisfied: requests in c:\\users\\window 11\\appdata\\local\\programs\\python\\python310\\lib\\site-packages (from huggingface-hub>=0.20.0->sentence_transformers) (2.32.5)\n",
      "Requirement already satisfied: sympy>=1.13.3 in c:\\users\\window 11\\appdata\\local\\programs\\python\\python310\\lib\\site-packages (from torch>=1.11.0->sentence_transformers) (1.14.0)\n",
      "Requirement already satisfied: jinja2 in c:\\users\\window 11\\appdata\\local\\programs\\python\\python310\\lib\\site-packages (from torch>=1.11.0->sentence_transformers) (3.1.6)\n",
      "Requirement already satisfied: networkx in c:\\users\\window 11\\appdata\\local\\programs\\python\\python310\\lib\\site-packages (from torch>=1.11.0->sentence_transformers) (3.4.2)\n",
      "Requirement already satisfied: colorama in c:\\users\\window 11\\appdata\\roaming\\python\\python310\\site-packages (from tqdm->sentence_transformers) (0.4.6)\n",
      "Requirement already satisfied: regex!=2019.12.17 in c:\\users\\window 11\\appdata\\local\\programs\\python\\python310\\lib\\site-packages (from transformers<5.0.0,>=4.41.0->sentence_transformers) (2025.9.18)\n",
      "Requirement already satisfied: numpy>=1.17 in c:\\users\\window 11\\appdata\\local\\programs\\python\\python310\\lib\\site-packages (from transformers<5.0.0,>=4.41.0->sentence_transformers) (2.2.6)\n",
      "Requirement already satisfied: safetensors>=0.4.3 in c:\\users\\window 11\\appdata\\local\\programs\\python\\python310\\lib\\site-packages (from transformers<5.0.0,>=4.41.0->sentence_transformers) (0.6.2)\n",
      "Requirement already satisfied: tokenizers<=0.23.0,>=0.22.0 in c:\\users\\window 11\\appdata\\local\\programs\\python\\python310\\lib\\site-packages (from transformers<5.0.0,>=4.41.0->sentence_transformers) (0.22.1)\n",
      "Requirement already satisfied: joblib>=1.2.0 in c:\\users\\window 11\\appdata\\local\\programs\\python\\python310\\lib\\site-packages (from scikit-learn->sentence_transformers) (1.5.2)\n",
      "Requirement already satisfied: threadpoolctl>=3.1.0 in c:\\users\\window 11\\appdata\\local\\programs\\python\\python310\\lib\\site-packages (from scikit-learn->sentence_transformers) (3.6.0)\n",
      "Requirement already satisfied: mpmath<1.4,>=1.1.0 in c:\\users\\window 11\\appdata\\local\\programs\\python\\python310\\lib\\site-packages (from sympy>=1.13.3->torch>=1.11.0->sentence_transformers) (1.3.0)\n",
      "Requirement already satisfied: MarkupSafe>=2.0 in c:\\users\\window 11\\appdata\\local\\programs\\python\\python310\\lib\\site-packages (from jinja2->torch>=1.11.0->sentence_transformers) (3.0.2)\n",
      "Requirement already satisfied: idna<4,>=2.5 in c:\\users\\window 11\\appdata\\local\\programs\\python\\python310\\lib\\site-packages (from requests->huggingface-hub>=0.20.0->sentence_transformers) (3.10)\n",
      "Requirement already satisfied: urllib3<3,>=1.21.1 in c:\\users\\window 11\\appdata\\local\\programs\\python\\python310\\lib\\site-packages (from requests->huggingface-hub>=0.20.0->sentence_transformers) (2.5.0)\n",
      "Requirement already satisfied: charset_normalizer<4,>=2 in c:\\users\\window 11\\appdata\\local\\programs\\python\\python310\\lib\\site-packages (from requests->huggingface-hub>=0.20.0->sentence_transformers) (3.4.3)\n",
      "Requirement already satisfied: certifi>=2017.4.17 in c:\\users\\window 11\\appdata\\local\\programs\\python\\python310\\lib\\site-packages (from requests->huggingface-hub>=0.20.0->sentence_transformers) (2025.8.3)\n",
      "Note: you may need to restart the kernel to use updated packages.\n"
     ]
    },
    {
     "name": "stderr",
     "output_type": "stream",
     "text": [
      "\n",
      "[notice] A new release of pip is available: 23.0.1 -> 25.2\n",
      "[notice] To update, run: python.exe -m pip install --upgrade pip\n"
     ]
    }
   ],
   "source": [
    "pip install sentence_transformers"
   ]
  },
  {
   "cell_type": "code",
   "execution_count": 12,
   "metadata": {},
   "outputs": [
    {
     "name": "stdout",
     "output_type": "stream",
     "text": [
      "Collecting faiss-cpuNote: you may need to restart the kernel to use updated packages.\n"
     ]
    },
    {
     "name": "stderr",
     "output_type": "stream",
     "text": [
      "\n",
      "[notice] A new release of pip is available: 23.0.1 -> 25.2\n",
      "[notice] To update, run: python.exe -m pip install --upgrade pip\n"
     ]
    },
    {
     "name": "stdout",
     "output_type": "stream",
     "text": [
      "\n",
      "  Downloading faiss_cpu-1.12.0-cp310-cp310-win_amd64.whl (18.2 MB)\n",
      "     ---------------------------------------- 0.0/18.2 MB ? eta -:--:--\n",
      "      --------------------------------------- 0.3/18.2 MB 8.9 MB/s eta 0:00:03\n",
      "     --- ------------------------------------ 1.4/18.2 MB 15.1 MB/s eta 0:00:02\n",
      "     ------ --------------------------------- 2.8/18.2 MB 19.9 MB/s eta 0:00:01\n",
      "     ------- -------------------------------- 3.4/18.2 MB 17.9 MB/s eta 0:00:01\n",
      "     -------- ------------------------------- 3.9/18.2 MB 17.8 MB/s eta 0:00:01\n",
      "     --------- ------------------------------ 4.2/18.2 MB 15.7 MB/s eta 0:00:01\n",
      "     --------- ------------------------------ 4.2/18.2 MB 15.7 MB/s eta 0:00:01\n",
      "     --------- ------------------------------ 4.3/18.2 MB 11.5 MB/s eta 0:00:02\n",
      "     ---------- ----------------------------- 5.0/18.2 MB 11.8 MB/s eta 0:00:02\n",
      "     -------------- ------------------------- 6.8/18.2 MB 14.5 MB/s eta 0:00:01\n",
      "     ---------------- ----------------------- 7.4/18.2 MB 14.3 MB/s eta 0:00:01\n",
      "     ----------------- ---------------------- 8.0/18.2 MB 14.2 MB/s eta 0:00:01\n",
      "     ------------------ --------------------- 8.3/18.2 MB 14.0 MB/s eta 0:00:01\n",
      "     ------------------ --------------------- 8.3/18.2 MB 14.0 MB/s eta 0:00:01\n",
      "     ------------------ --------------------- 8.3/18.2 MB 14.0 MB/s eta 0:00:01\n",
      "     --------------------- ------------------ 9.6/18.2 MB 13.0 MB/s eta 0:00:01\n",
      "     ----------------------- --------------- 11.1/18.2 MB 13.9 MB/s eta 0:00:01\n",
      "     ------------------------- ------------- 11.7/18.2 MB 13.9 MB/s eta 0:00:01\n",
      "     -------------------------- ------------ 12.3/18.2 MB 13.4 MB/s eta 0:00:01\n",
      "     --------------------------- ----------- 12.9/18.2 MB 12.8 MB/s eta 0:00:01\n",
      "     ----------------------------- --------- 13.5/18.2 MB 12.9 MB/s eta 0:00:01\n",
      "     ------------------------------ -------- 14.1/18.2 MB 12.6 MB/s eta 0:00:01\n",
      "     ------------------------------- ------- 14.7/18.2 MB 14.6 MB/s eta 0:00:01\n",
      "     -------------------------------- ------ 15.3/18.2 MB 14.6 MB/s eta 0:00:01\n",
      "     ---------------------------------- ---- 15.9/18.2 MB 13.9 MB/s eta 0:00:01\n",
      "     ----------------------------------- --- 16.4/18.2 MB 13.1 MB/s eta 0:00:01\n",
      "     ------------------------------------ -- 17.1/18.2 MB 12.8 MB/s eta 0:00:01\n",
      "     --------------------------------------  17.9/18.2 MB 12.8 MB/s eta 0:00:01\n",
      "     --------------------------------------  18.2/18.2 MB 12.8 MB/s eta 0:00:01\n",
      "     --------------------------------------  18.2/18.2 MB 12.8 MB/s eta 0:00:01\n",
      "     --------------------------------------  18.2/18.2 MB 12.8 MB/s eta 0:00:01\n",
      "     --------------------------------------- 18.2/18.2 MB 10.7 MB/s eta 0:00:00\n",
      "Requirement already satisfied: packaging in c:\\users\\window 11\\appdata\\roaming\\python\\python310\\site-packages (from faiss-cpu) (25.0)\n",
      "Requirement already satisfied: numpy<3.0,>=1.25.0 in c:\\users\\window 11\\appdata\\local\\programs\\python\\python310\\lib\\site-packages (from faiss-cpu) (2.2.6)\n",
      "Installing collected packages: faiss-cpu\n",
      "Successfully installed faiss-cpu-1.12.0\n"
     ]
    }
   ],
   "source": [
    "pip install faiss-cpu"
   ]
  },
  {
   "cell_type": "code",
   "execution_count": 33,
   "metadata": {},
   "outputs": [],
   "source": [
    "## Embeddings (HuggingFace instead of OpenAI)\n",
    "from langchain_community.embeddings import HuggingFaceEmbeddings\n",
    "from langchain_community.vectorstores import FAISS\n",
    "\n",
    "embeddings = HuggingFaceEmbeddings(model_name=\"sentence-transformers/all-MiniLM-L6-v2\")\n",
    "vectorstoredb = FAISS.from_documents(documents, embeddings)"
   ]
  },
  {
   "cell_type": "code",
   "execution_count": 34,
   "metadata": {},
   "outputs": [
    {
     "name": "stdout",
     "output_type": "stream",
     "text": [
      "Retrieved Context:\n",
      " LangChain is a framework that simplifies the process of building applications using Large Language Models (LLMs). It provides a set of modular building blocks that developers can use to design, integrate and deploy intelligent systems. The architecture of LangChain is structured in a way that separates the core logic, integration layers and advanced deployment tools. This layered approach makes LangChain both flexible for experimentation and robust for production use.LangChain ArchitectureCore Architecture of LangChainLet’s see how LangChain is structured from its core modules to advanced tools:1. LangChain Core (langchain-core)Provides the fundamental abstractions of the framework.Includes prompts, messages, models, chains, memory and output parsers.Does not depend on external providers, ensuring a lightweight base.Role: The foundation on which other layers are built.2. Main LangChain Package (langchain)Builds on langchain-core by offering higher-level workflows.Provides\n"
     ]
    }
   ],
   "source": [
    "## Query Test\n",
    "query = \"What is LangChain Core and what roles does it serve?\"\n",
    "result = vectorstoredb.similarity_search(query)\n",
    "print(\"Retrieved Context:\\n\", result[0].page_content)"
   ]
  },
  {
   "cell_type": "code",
   "execution_count": 35,
   "metadata": {},
   "outputs": [],
   "source": [
    "\n",
    "## LLM (Groq)\n",
    "from langchain_groq import ChatGroq\n",
    "llm = ChatGroq(model=\"llama-3.1-8b-instant\", temperature=0.7)"
   ]
  },
  {
   "cell_type": "code",
   "execution_count": 36,
   "metadata": {},
   "outputs": [],
   "source": [
    "## Retrieval Chain\n",
    "from langchain.chains.combine_documents import create_stuff_documents_chain\n",
    "from langchain_core.prompts import ChatPromptTemplate\n",
    "\n",
    "prompt = ChatPromptTemplate.from_template(\n",
    "    \"\"\"\n",
    "Answer the following question based only on the provided context:\n",
    "<context>\n",
    "{context}\n",
    "</context>\n",
    "\"\"\"\n",
    ")\n",
    "\n",
    "document_chain = create_stuff_documents_chain(llm, prompt)"
   ]
  },
  {
   "cell_type": "code",
   "execution_count": 37,
   "metadata": {},
   "outputs": [],
   "source": [
    "from langchain.chains import create_retrieval_chain\n",
    "retriever = vectorstoredb.as_retriever()\n",
    "retrieval_chain = create_retrieval_chain(retriever, document_chain)"
   ]
  },
  {
   "cell_type": "code",
   "execution_count": 40,
   "metadata": {},
   "outputs": [
    {
     "name": "stdout",
     "output_type": "stream",
     "text": [
      "\n",
      "Answer:\n",
      " Based on the provided context, here are the 7 key components of the LangChain framework:\n",
      "\n",
      "1. **LangChain Core (langchain-core)**: Provides the fundamental abstractions of the framework, including prompts, messages, models, chains, memory, and output parsers.\n",
      "2. **Main LangChain Package (langchain)**: Offers higher-level workflows, orchestration for chains and agents, and remains model-agnostic.\n",
      "3. **Integration Packages**: Independent connectors for external tools and services, such as OpenAI models and Pinecone vector database.\n",
      "4. **LangChain Community (langchain-community)**: A collection of community-maintained integrations that provides connectors for services not officially covered.\n",
      "5. **LangGraph**: A framework for building stateful applications as computational graphs, supporting memory management, streaming outputs, and complex decision flows.\n",
      "6. **LangServe**: Used for deploying LangChain applications as APIs, offering a straightforward way to expose chains or agents via REST endpoints.\n",
      "7. **LangSmith**: Provides observability, debugging, and monitoring capabilities, tracking prompt executions, inputs, outputs, and errors to enable performance evaluation and testing at scale.\n"
     ]
    }
   ],
   "source": [
    "## Final Response\n",
    "response = retrieval_chain.invoke({\"input\": \"What key components of LangChain?\"})\n",
    "print(\"\\nAnswer:\\n\", response[\"answer\"])"
   ]
  },
  {
   "cell_type": "code",
   "execution_count": null,
   "metadata": {},
   "outputs": [],
   "source": []
  }
 ],
 "metadata": {
  "kernelspec": {
   "display_name": "Python 3",
   "language": "python",
   "name": "python3"
  },
  "language_info": {
   "codemirror_mode": {
    "name": "ipython",
    "version": 3
   },
   "file_extension": ".py",
   "mimetype": "text/x-python",
   "name": "python",
   "nbconvert_exporter": "python",
   "pygments_lexer": "ipython3",
   "version": "3.10.11"
  }
 },
 "nbformat": 4,
 "nbformat_minor": 2
}
