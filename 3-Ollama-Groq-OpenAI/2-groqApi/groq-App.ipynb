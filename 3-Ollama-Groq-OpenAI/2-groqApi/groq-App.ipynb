{
 "cells": [
  {
   "cell_type": "code",
   "execution_count": 49,
   "id": "7aa44e2d",
   "metadata": {},
   "outputs": [],
   "source": [
    "import os\n",
    "from dotenv import load_dotenv\n",
    "load_dotenv()\n",
    "\n",
    "# Groq + Langsmith Keys\n",
    "os.environ[\"GROQ_API_KEY\"] = os.getenv(\"GROQ_API_KEY\")\n",
    "os.environ[\"LANGCHAIN_API_KEY\"] = os.getenv(\"LANGCHAIN_API_KEY\")\n",
    "os.environ[\"LANGCHAIN_TRACING_V2\"] = \"true\"\n",
    "os.environ[\"LANGCHAIN_PROJECT\"] = os.getenv(\"LANGCHAIN_PROJECT\")"
   ]
  },
  {
   "cell_type": "code",
   "execution_count": 50,
   "id": "c8134f47",
   "metadata": {},
   "outputs": [],
   "source": [
    "\n",
    "## Data Ingestion\n",
    "from langchain_community.document_loaders import WebBaseLoader\n",
    "#loader = WebBaseLoader(\"https://docs.smith.langchain.com/tutorials/Administrators/manage_spend\")\n",
    "#loader = WebBaseLoader(\"https://python.langchain.com/docs/langsmith/guides/manage_spend/\")\n",
    "loader = WebBaseLoader(\"https://www.geeksforgeeks.org/artificial-intelligence/the-complete-langchain-ecosystem/\")\n",
    "\n",
    "\n",
    "docs = loader.load()"
   ]
  },
  {
   "cell_type": "code",
   "execution_count": 51,
   "id": "67642e5d",
   "metadata": {},
   "outputs": [
    {
     "data": {
      "text/plain": [
       "[Document(metadata={'source': 'https://www.geeksforgeeks.org/artificial-intelligence/the-complete-langchain-ecosystem/', 'title': 'The Complete LangChain Ecosystem - GeeksforGeeks', 'description': 'Your All-in-One Learning Portal: GeeksforGeeks is a comprehensive educational platform that empowers learners across domains-spanning computer science and programming, school education, upskilling, commerce, software tools, competitive exams, and more.', 'language': 'en-US'}, page_content='\\n\\n\\n\\n\\n\\n\\n\\n\\n\\n\\n\\n\\n\\n\\n\\n\\n\\n\\n\\n\\n\\n\\n\\n\\n\\n\\n\\n\\n\\n\\n\\n\\n\\n\\n\\n\\n\\n\\n\\n\\n\\n\\n\\n\\n\\n\\n\\n\\nThe Complete LangChain Ecosystem - GeeksforGeeks\\n\\n\\n\\n\\n\\n\\n\\n\\n\\n\\n\\n\\n\\n\\n\\n\\n\\n\\n\\n\\n\\n\\n\\n\\n\\n\\n\\n\\n\\n\\n\\n\\n\\n\\n\\n\\n\\n\\nSkip to content\\n\\n\\n\\n\\n\\n\\n\\n\\n\\n\\n \\n\\n\\n\\n\\n\\n\\n\\n\\n\\n\\nCoursesDSA / PlacementsGATE 2026 PrepML & Data ScienceDevelopmentCloud / DevOpsProgramming LanguagesAll CoursesTutorialsPythonJavaDSAML & Data ScienceInterview CornerProgramming LanguagesWeb DevelopmentGATECS SubjectsDevOpsSchool LearningSoftware and ToolsPracticePractice Coding ProblemsNation Skillup- Free CoursesProblem of the DayJobsApply Now!Post JobsJob-A-Thon: Hiring ChallengeJobs Updates\\n\\n\\n\\n\\n\\n\\n\\n\\n\\n\\n\\n\\n\\n\\n\\n\\n\\n\\n\\n\\n\\n\\n\\n\\n\\n\\n\\n\\n\\n\\n\\n\\nNotifications\\n\\nMark all as read\\n\\n\\n\\n\\n\\nAll\\n\\n\\n\\n\\n\\n \\n\\nView All\\n\\n\\n\\n\\n\\n\\n\\n\\n\\nNotifications\\n\\n\\n\\nMark all as read\\n\\n\\n\\n\\n\\n\\nAll\\n\\n\\nUnread\\n\\n\\nRead\\n\\n\\n\\n\\n\\r\\n                        You\\'re all caught up!!\\r\\n                    \\n\\n\\n\\n\\n\\n\\n\\n\\n\\n\\n\\n\\n\\n\\n\\n\\n\\n\\n\\n\\n\\n\\n\\n\\n\\n\\nData Science IBM CertificationData ScienceData Science ProjectsData AnalysisData VisualizationMachine LearningML ProjectsDeep LearningNLPComputer VisionArtificial Intelligence \\n\\n\\n\\n\\n\\n\\n\\n\\n\\n\\n\\n\\n\\n\\n\\n\\n\\n\\n\\nSign In\\n\\n\\n▲\\n\\n\\n\\n\\n\\n\\n\\n\\n\\n\\n\\n\\nOpen In App\\n\\n\\n\\n\\n\\n\\n\\n\\n\\n\\n\\nShare Your ExperiencesIntroduction to AIWhat is Artificial Intelligence (AI)Types of Artificial Intelligence (AI)Types of AI Based on FunctionalitiesAgents in AIArtificial intelligence vs Machine Learning vs Deep LearningProblem Solving in Artificial IntelligenceTop 20 Applications of Artificial Intelligence (AI) in 2025AI ConceptsSearch Algorithms in AILocal Search Algorithm in Artificial IntelligenceAdversarial Search Algorithms in Artificial Intelligence (AI)Constraint Satisfaction Problems (CSP) in Artificial IntelligenceKnowledge Representation in AIFirst-Order Logic in Artificial IntelligenceReasoning Mechanisms in AIMachine Learning in AIMachine Learning TutorialDeep Learning TutorialNatural Language Processing (NLP) TutorialComputer Vision TutorialRobotics and AIArtificial Intelligence in RoboticsWhat is Robotics Process AutomationAutomated Planning in AIAI in Transportation - Benifits, Use Cases and ExamplesAI in Manufacturing : Revolutionizing the IndustryGenerative AIWhat is Generative AI?Generative Adversarial Network (GAN)Cycle Generative Adversarial Network (CycleGAN)StyleGAN - Style Generative Adversarial NetworksIntroduction to Generative Pre-trained Transformer (GPT)BERT Model - NLPGenerative AI Applications AI PracticeTop Artificial Intelligence(AI) Interview Questions and Answers\\tTop Generative AI Interview Question with Answer30+ Best Artificial Intelligence Project Ideas with Source Code [2025 Updated]Generative AICourse \\n\\n\\n\\n\\n\\n\\n\\n\\n\\n\\n\\n\\n\\n\\n\\n\\nThe Complete LangChain Ecosystem\\n\\n\\n\\nLast Updated : \\n25 Aug, 2025\\n\\n\\n\\n\\n\\n\\n\\n\\n\\n\\n\\n\\nComments\\n\\n\\n\\n\\n\\n\\n\\nImprove\\n\\n\\n\\n\\n\\n\\n\\n\\n\\n\\n\\n\\n\\n\\n\\n\\n\\n\\n\\n\\n\\n\\n\\n\\n\\n\\n\\nSuggest changes\\n\\n\\n\\n\\n\\n\\nLike Article\\n\\n\\n\\nLike\\n\\n\\n\\n\\n\\n\\n\\n\\n\\n\\nReport\\n\\n\\n\\n\\n\\n\\n\\n\\n\\n\\nLangChain is a framework that simplifies the process of building applications using Large Language Models (LLMs). It provides a set of modular building blocks that developers can use to design, integrate and deploy intelligent systems. The architecture of LangChain is structured in a way that separates the core logic, integration layers and advanced deployment tools. This layered approach makes LangChain both flexible for experimentation and robust for production use.LangChain ArchitectureCore Architecture of LangChainLet’s see how LangChain is structured from its core modules to advanced tools:1. LangChain Core (langchain-core)Provides the fundamental abstractions of the framework.Includes prompts, messages, models, chains, memory and output parsers.Does not depend on external providers, ensuring a lightweight base.Role: The foundation on which other layers are built.2. Main LangChain Package (langchain)Builds on langchain-core by offering higher-level workflows.Provides orchestration for chains and agents.Remains model-agnostic, meaning it can work with different LLM providers.Role: Enables application logic without binding to specific integrations.3. Integration PackagesIndependent connectors for external tools and services.Examples: langchain-openai connects to OpenAI models and langchain-pinecone → connects to Pinecone vector database.Keep the main package minimal and modular.Role: Bridge between LangChain and external systems.4. LangChain Community (langchain-community)A collection of community-maintained integrations.Provides connectors for services not officially covered.Ensures a growing and adaptable ecosystem.Role: Expands LangChain’s reach beyond official packages.5. LangGraphLangGraph is a framework for building stateful applications as computational graphs.Supports:Memory management.Streaming outputs.Complex decision flows with nodes and edges.Use Case: Multi-step agents, advanced chatbots or retrieval pipelines.6. LangServeUsed for deploying LangChain applications as APIs.Offers a straightforward way to expose chains or agents via REST endpoints.Use Case: Turning prototypes into accessible services.7. LangSmithLangSmith provides observability, debugging and monitoring capabilities.Tracks prompt executions, inputs, outputs and errors.Enables performance evaluation and testing at scale.Use Case: Production-grade monitoring of LangChain applications.LangChain Key Components LangChain’s modular architecture allows us to build LLM-powered applications by combining only the components we need. We need to import the required libraries and dependencies to smoothly run the codes,Installs the core LangChain package (langchain).langchain-openai: integration module for OpenAI models (ChatGPT, GPT-4, etc.).Installs the official openai Python library (needed to connect with OpenAI API).langchain-community which now contains connectors like retrievers, vectorstores, tools, etc that used to be in langchain.faiss-cpu: Facebook AI Similarity Search, a vector database used for fast semantic search on CPU.Imports the os library so we can work with environment variables.Sets our OpenAI API key as an environment variable.Replace \"your_api_key\" with our actual key from OpenAI’s dashboard.\\nPython\\n\\n!pip install -q langchain langchain-openai openai\\n!pip install -q langchain-community faiss-cpu\\n\\nimport os\\nos.environ[\"OPENAI_API_KEY\"] = \"your_api_key\"\\n\\n1. PromptsIn LangChain, prompts are the instructions we send to the LLM. Instead of writing the full text every time, LangChain gives us tools like PromptTemplate or ChatPromptTemplate. These let us create reusable prompt patterns where we can insert variables.Lets see an example,ChatPromptTemplate: builds a prompt with placeholders.{text}: dynamic input field for user content.format_messages(): fills in the variable.llm.invoke(): sends it to the LLM and returns the translation.\\nPython\\n\\nfrom langchain_openai import ChatOpenAI\\nfrom langchain.prompts import ChatPromptTemplate\\n\\nllm = ChatOpenAI(model=\"gpt-4o-mini\")\\n\\nprompt = ChatPromptTemplate.from_template(\\n    \"State the parts of speech in this sentence: {text}\")\\n\\nfinal_prompt = prompt.format_messages(text=\"Hi!! my name is Geek.\")\\nresponse = llm.invoke(final_prompt)\\nprint(response.content)\\n\\nOutput: Output (Prompts)2. ChainsChains are pipelines that connect prompts and models together. Instead of calling the LLM once, a chain lets us define a workflow (e.g., summarize text → then translate).Lets see an example,PromptTemplate: defines how input should be structured.LLMChain: combines the LLM and prompt into a pipeline.chain.run(): executes the workflow with given text.\\nPython\\n\\nfrom langchain.chains import LLMChain\\nfrom langchain.prompts import PromptTemplate\\n\\ntemplate = \"Summarize the following text in one line:\\\\n\\\\n{text}\"\\nprompt = PromptTemplate(template=template, input_variables=[\"text\"])\\n\\nchain = LLMChain(llm=llm, prompt=prompt)\\n\\ntext = \"LangChain is a framework designed to simplify the process of building applications powered by LLMs.\"\\nsummary = chain.run(text=text)\\nprint(summary)\\n\\nOutput:LangChain simplifies the development of applications utilizing large language models (LLMs).3. MemoryLLMs are normally stateless (they forget past messages). Memory in LangChain solves this by storing conversation history.Let\\'s see an example,ConversationBufferMemory: stores dialogue history.ConversationChain: connects memory with the LLM.Model remembers user details (like name).\\nPython\\n\\nfrom langchain.chains import ConversationChain\\nfrom langchain.memory import ConversationBufferMemory\\n\\nmemory = ConversationBufferMemory()\\nconversation = ConversationChain(llm=llm, memory=memory)\\n\\nprint(conversation.predict(input=\"Hello, my name is Geek.\"))\\nprint(conversation.predict(input=\"Can you remind me what my name is?\"))\\n\\nOutput:Hello, Geek! It\\'s great to meet you! I\\'m excited to chat with you today. What would you like to talk about? Of course! Your name is Geek. It\\'s a unique and fun name! What else would you like to discuss today?4. Retriever and Vector StoresLLMs have a knowledge cutoff. Retrievers allow us to connect them with external knowledge bases (PDFs, docs, databases). Vector stores like FAISS store embeddings for fast search.Let\\'s see an example,OpenAIEmbeddings: turns text into vectors.FAISS: vector search database.as_retriever(): enables search queries.Useful for RAG (Retrieval-Augmented Generation).\\nPython\\n\\nfrom langchain_openai import OpenAIEmbeddings\\nfrom langchain_community.vectorstores import FAISS\\n\\nembeddings = OpenAIEmbeddings()\\n\\ndocs = [\\n    \"LangChain is a powerful LLM framework.\",\\n    \"It allows integration with external data and APIs.\",\\n    \"LangServe is used for deployment.\"\\n]\\n\\nvectorstore = FAISS.from_texts(docs, embeddings)\\n\\nquery = \"What is LangChain used for?\"\\nretriever = vectorstore.as_retriever()\\nresults = retriever.get_relevant_documents(query)\\n\\nfor r in results:\\n    print(\"Retrieved:\", r.page_content)\\n\\nOutput: Output (Retriever and Vector Stores)5. AgentsAgents can decide what action to take: call a tool (e.g., calculator, search) or just answer directly.Let\\'s see an example,load_tools(): loads extra capabilities.initialize_agent(): builds an LLM that can use tools.The agent chooses when to use math vs LLM.\\nPython\\n\\nfrom langchain.agents import load_tools, initialize_agent\\n\\ntools = load_tools([\"llm-math\"], llm=llm)\\n\\nagent = initialize_agent(\\n    tools, llm, agent=\"zero-shot-react-description\", verbose=True)\\n\\nresponse = agent.run(\"What is 25 multiplied by 16?\")\\nprint(response)\\n\\nOutput: Output (Agents)6. Output ParsersBy default, LLMs return plain text. Output parsers help us force structured formats like JSON, making the results easier to use in apps.Let\\'s see an example,language: field for detected language.sentiment: field for text sentiment.Schemas tell the LLM exactly what structured data to produce.Combines the schemas into a parser that converts LLM text into structured Python objects (like a dictionary).Produces instructions for the LLM to follow the schema format.Ensures reliable parsing of outputs.{text}: user-provided text to analyze.{format_instructions}: tells LLM how to structure the output.partial_variables: fills in fixed instructions automatically.LLMChain: links the LLM with the prompt template.parse(): converts raw output into a Python dictionary following the schema.\\nPython\\n\\nfrom langchain.prompts import PromptTemplate\\nfrom langchain.output_parsers import StructuredOutputParser, ResponseSchema\\n\\nschemas = [\\n    ResponseSchema(name=\"language\",\\n                   description=\"Detected language of the text\"),\\n    ResponseSchema(\\n        name=\"sentiment\", description=\"Sentiment of the text (positive/negative/neutral)\")\\n]\\n\\noutput_parser = StructuredOutputParser.from_response_schemas(schemas)\\n\\nformat_instructions = output_parser.get_format_instructions()\\ntemplate = \"\"\"\\nAnalyze the following text:\\n{text}\\n\\n{format_instructions}\\n\"\"\"\\nprompt = PromptTemplate(template=template, input_variables=[\\n                        \"text\"], partial_variables={\"format_instructions\": format_instructions})\\n\\nchain = LLMChain(llm=llm, prompt=prompt)\\nresponse = chain.run(\\n    text=\"I love learning about AI, it makes me very excited.\")\\nparsed = output_parser.parse(response)\\n\\nprint(parsed)\\n\\nOutput:{\\'language\\': \\'English\\', \\'sentiment\\': \\'positive\\'} \\n\\n\\n\\n\\n\\n\\n\\n\\n\\n\\r\\n        Comment\\r\\n    More info \\n\\n\\n\\n\\n\\n\\nS\\n\\n\\n\\n\\n \\n\\nshambhava9ex \\n\\n\\n\\n\\n\\n Follow \\n\\n\\n\\n\\n\\n\\n\\n\\n\\n\\n\\nImprove\\n\\n\\n\\n\\n\\n\\nArticle Tags : \\n\\n\\nArtificial Intelligence\\n \\n\\n\\n\\n\\n\\n\\n\\n\\nLike\\n\\n\\n\\n\\n\\n\\n\\n\\n\\n\\n\\n\\n\\n\\n\\n\\n\\n\\n\\n\\n\\n \\n\\n\\n\\n\\n\\n\\n\\n\\n\\n\\n\\n\\n\\n\\n\\n\\n\\n\\n\\n\\n\\n\\n\\n\\n\\n\\n\\n\\n\\n\\n\\n\\n\\n\\n\\n\\n\\n\\n\\n\\n\\n\\n\\n\\n\\n\\n\\n\\n\\n\\n\\n\\n\\n\\n\\n\\n\\n1k+ interested Geeks \\n\\n\\n\\nGATE DA 2027 Online Course [Live Classes] \\n\\n\\n\\n\\nExplore\\n\\n\\n\\n\\n\\n\\n\\n\\n\\n\\n\\n\\n\\n\\n\\n\\n37k+ interested Geeks \\n\\n\\n\\nComplete TensorFlow Course \\n\\n\\n\\n\\nExplore\\n\\n\\n\\n\\n\\n\\n\\n\\n\\n\\n\\n\\n\\n\\n\\n\\n1k+ interested Geeks \\n\\n\\n\\nGATE DA 2028 Complete Course [with Placement Preparation] \\n\\n\\n\\n\\nExplore\\n\\n\\n\\n\\n\\n\\n \\n\\n\\n\\n\\n\\n\\n\\n\\n\\n\\n\\n\\n\\n\\n\\n\\n\\n\\n\\n\\n\\n\\n\\n\\n\\n\\n\\n\\n\\n\\n\\n\\n\\n\\n\\n\\n\\n\\n\\n\\n\\n\\n\\n\\n\\n\\n\\n\\n\\n\\n\\n\\n\\n\\n\\n\\n\\n\\n\\n\\nCorporate & Communications Address:\\n\\r\\n                      A-143, 7th Floor, Sovereign Corporate Tower, Sector- 136, Noida, Uttar Pradesh (201305)                    \\n\\n\\n\\n\\n\\nRegistered Address:\\r\\n                        K 061, Tower K, Gulshan Vivante Apartment, Sector 137, Noida, Gautam Buddh Nagar, Uttar Pradesh, 201305                      \\n\\n\\n\\n\\n\\n\\n\\n\\n\\n\\n\\n\\n\\n\\n\\n\\n\\n\\n\\n\\n\\n\\n\\n\\n\\n\\n\\n\\n\\nCompanyAbout UsLegalPrivacy PolicyCareersContact UsCorporate SolutionCampus Training ProgramExplorePOTDJob-A-ThonConnectCommunityBlogsNation Skill UpTutorialsProgramming LanguagesDSAWeb TechnologyAI, ML & Data ScienceDevOpsCS Core SubjectsInterview PreparationGATESchool SubjectsSoftware and ToolsCoursesIBM CertificationDSA and PlacementsWeb DevelopmentData ScienceProgramming LanguagesDevOps & CloudGATETrending TechnologiesOffline CentersNoidaBengaluruPuneHyderabadPatnaPreparation CornerAptitudePuzzlesGfG 160DSA 360System Design \\n\\n\\n\\n\\n\\n\\n@GeeksforGeeks, Sanchhaya Education Private Limited, All rights reserved\\n\\n\\n\\n\\n\\n\\n\\n\\n\\n\\n\\n\\n\\n\\n\\n\\n\\n\\n\\n\\n\\n\\nImprovement\\n\\n\\n\\n\\n\\n\\n\\nSuggest changes\\n\\n\\n\\n\\n\\nSuggest Changes\\nHelp us improve. Share your suggestions to enhance the article. Contribute your expertise and make a difference in the GeeksforGeeks portal.\\n\\n\\n\\n\\n\\n\\n\\nCreate Improvement\\nEnhance the article with your expertise. Contribute to the GeeksforGeeks community and help create better learning resources for all.\\n\\n\\n\\n\\n\\n\\n\\n\\n\\n\\n\\n\\n\\n\\n\\nSuggest Changes\\n\\n\\n\\n\\n\\n\\nmin 4 words, max Words Limit:1000\\n\\n\\n\\n\\nThank You!\\nYour suggestions are valuable to us.\\n\\n\\n\\n\\n\\n\\n\\n\\n\\n\\n\\n\\n\\n\\n\\n\\n\\n\\n\\n\\n\\n\\n\\n\\n\\n\\n\\n\\n\\n\\nWhat kind of Experience do you want to share?\\n\\n\\n\\n\\n\\n\\n\\n\\n\\nInterview Experiences\\n\\n\\n\\n\\n\\n\\n\\nAdmission Experiences\\n\\n\\n\\n\\n\\n\\n\\nCareer Journeys\\n\\n\\n\\n\\n\\n\\n\\nWork Experiences\\n\\n\\n\\n\\n\\n\\n\\nCampus Experiences\\n\\n\\n\\n\\n\\n\\n\\nCompetitive Exam Experiences\\n\\n\\n\\n\\n\\n\\n\\n\\n\\n\\n\\n\\n\\n\\n\\n\\n\\n\\n')]"
      ]
     },
     "execution_count": 51,
     "metadata": {},
     "output_type": "execute_result"
    }
   ],
   "source": [
    "docs"
   ]
  },
  {
   "cell_type": "code",
   "execution_count": 52,
   "id": "ff242460",
   "metadata": {},
   "outputs": [],
   "source": [
    "## Split documents\n",
    "from langchain_text_splitters import RecursiveCharacterTextSplitter\n",
    "text_splitter = RecursiveCharacterTextSplitter(chunk_size=1000, chunk_overlap=200)\n",
    "documents = text_splitter.split_documents(docs)"
   ]
  },
  {
   "cell_type": "code",
   "execution_count": 53,
   "id": "4f1aea8e",
   "metadata": {},
   "outputs": [
    {
     "data": {
      "text/plain": [
       "[Document(metadata={'source': 'https://www.geeksforgeeks.org/artificial-intelligence/the-complete-langchain-ecosystem/', 'title': 'The Complete LangChain Ecosystem - GeeksforGeeks', 'description': 'Your All-in-One Learning Portal: GeeksforGeeks is a comprehensive educational platform that empowers learners across domains-spanning computer science and programming, school education, upskilling, commerce, software tools, competitive exams, and more.', 'language': 'en-US'}, page_content=\"The Complete LangChain Ecosystem - GeeksforGeeks\\n\\n\\n\\n\\n\\n\\n\\n\\n\\n\\n\\n\\n\\n\\n\\n\\n\\n\\n\\n\\n\\n\\n\\n\\n\\n\\n\\n\\n\\n\\n\\n\\n\\n\\n\\n\\n\\n\\nSkip to content\\n\\n\\n\\n\\n\\n\\n\\n\\n\\n\\n \\n\\n\\n\\n\\n\\n\\n\\n\\n\\n\\nCoursesDSA / PlacementsGATE 2026 PrepML & Data ScienceDevelopmentCloud / DevOpsProgramming LanguagesAll CoursesTutorialsPythonJavaDSAML & Data ScienceInterview CornerProgramming LanguagesWeb DevelopmentGATECS SubjectsDevOpsSchool LearningSoftware and ToolsPracticePractice Coding ProblemsNation Skillup- Free CoursesProblem of the DayJobsApply Now!Post JobsJob-A-Thon: Hiring ChallengeJobs Updates\\n\\n\\n\\n\\n\\n\\n\\n\\n\\n\\n\\n\\n\\n\\n\\n\\n\\n\\n\\n\\n\\n\\n\\n\\n\\n\\n\\n\\n\\n\\n\\n\\nNotifications\\n\\nMark all as read\\n\\n\\n\\n\\n\\nAll\\n\\n\\n\\n\\n\\n \\n\\nView All\\n\\n\\n\\n\\n\\n\\n\\n\\n\\nNotifications\\n\\n\\n\\nMark all as read\\n\\n\\n\\n\\n\\n\\nAll\\n\\n\\nUnread\\n\\n\\nRead\\n\\n\\n\\n\\n\\r\\n                        You're all caught up!!\"),\n",
       " Document(metadata={'source': 'https://www.geeksforgeeks.org/artificial-intelligence/the-complete-langchain-ecosystem/', 'title': 'The Complete LangChain Ecosystem - GeeksforGeeks', 'description': 'Your All-in-One Learning Portal: GeeksforGeeks is a comprehensive educational platform that empowers learners across domains-spanning computer science and programming, school education, upskilling, commerce, software tools, competitive exams, and more.', 'language': 'en-US'}, page_content=\"All\\n\\n\\n\\n\\n\\n \\n\\nView All\\n\\n\\n\\n\\n\\n\\n\\n\\n\\nNotifications\\n\\n\\n\\nMark all as read\\n\\n\\n\\n\\n\\n\\nAll\\n\\n\\nUnread\\n\\n\\nRead\\n\\n\\n\\n\\n\\r\\n                        You're all caught up!!\\r\\n                    \\n\\n\\n\\n\\n\\n\\n\\n\\n\\n\\n\\n\\n\\n\\n\\n\\n\\n\\n\\n\\n\\n\\n\\n\\n\\n\\nData Science IBM CertificationData ScienceData Science ProjectsData AnalysisData VisualizationMachine LearningML ProjectsDeep LearningNLPComputer VisionArtificial Intelligence \\n\\n\\n\\n\\n\\n\\n\\n\\n\\n\\n\\n\\n\\n\\n\\n\\n\\n\\n\\nSign In\\n\\n\\n▲\\n\\n\\n\\n\\n\\n\\n\\n\\n\\n\\n\\n\\nOpen In App\"),\n",
       " Document(metadata={'source': 'https://www.geeksforgeeks.org/artificial-intelligence/the-complete-langchain-ecosystem/', 'title': 'The Complete LangChain Ecosystem - GeeksforGeeks', 'description': 'Your All-in-One Learning Portal: GeeksforGeeks is a comprehensive educational platform that empowers learners across domains-spanning computer science and programming, school education, upskilling, commerce, software tools, competitive exams, and more.', 'language': 'en-US'}, page_content='Share Your ExperiencesIntroduction to AIWhat is Artificial Intelligence (AI)Types of Artificial Intelligence (AI)Types of AI Based on FunctionalitiesAgents in AIArtificial intelligence vs Machine Learning vs Deep LearningProblem Solving in Artificial IntelligenceTop 20 Applications of Artificial Intelligence (AI) in 2025AI ConceptsSearch Algorithms in AILocal Search Algorithm in Artificial IntelligenceAdversarial Search Algorithms in Artificial Intelligence (AI)Constraint Satisfaction Problems (CSP) in Artificial IntelligenceKnowledge Representation in AIFirst-Order Logic in Artificial IntelligenceReasoning Mechanisms in AIMachine Learning in AIMachine Learning TutorialDeep Learning TutorialNatural Language Processing (NLP) TutorialComputer Vision TutorialRobotics and AIArtificial Intelligence in RoboticsWhat is Robotics Process AutomationAutomated Planning in AIAI in Transportation - Benifits, Use Cases and ExamplesAI in Manufacturing : Revolutionizing the IndustryGenerative AIWhat'),\n",
       " Document(metadata={'source': 'https://www.geeksforgeeks.org/artificial-intelligence/the-complete-langchain-ecosystem/', 'title': 'The Complete LangChain Ecosystem - GeeksforGeeks', 'description': 'Your All-in-One Learning Portal: GeeksforGeeks is a comprehensive educational platform that empowers learners across domains-spanning computer science and programming, school education, upskilling, commerce, software tools, competitive exams, and more.', 'language': 'en-US'}, page_content='in RoboticsWhat is Robotics Process AutomationAutomated Planning in AIAI in Transportation - Benifits, Use Cases and ExamplesAI in Manufacturing : Revolutionizing the IndustryGenerative AIWhat is Generative AI?Generative Adversarial Network (GAN)Cycle Generative Adversarial Network (CycleGAN)StyleGAN - Style Generative Adversarial NetworksIntroduction to Generative Pre-trained Transformer (GPT)BERT Model - NLPGenerative AI Applications AI PracticeTop Artificial Intelligence(AI) Interview Questions and Answers\\tTop Generative AI Interview Question with Answer30+ Best Artificial Intelligence Project Ideas with Source Code [2025 Updated]Generative AICourse'),\n",
       " Document(metadata={'source': 'https://www.geeksforgeeks.org/artificial-intelligence/the-complete-langchain-ecosystem/', 'title': 'The Complete LangChain Ecosystem - GeeksforGeeks', 'description': 'Your All-in-One Learning Portal: GeeksforGeeks is a comprehensive educational platform that empowers learners across domains-spanning computer science and programming, school education, upskilling, commerce, software tools, competitive exams, and more.', 'language': 'en-US'}, page_content='The Complete LangChain Ecosystem\\n\\n\\n\\nLast Updated : \\n25 Aug, 2025\\n\\n\\n\\n\\n\\n\\n\\n\\n\\n\\n\\n\\nComments\\n\\n\\n\\n\\n\\n\\n\\nImprove\\n\\n\\n\\n\\n\\n\\n\\n\\n\\n\\n\\n\\n\\n\\n\\n\\n\\n\\n\\n\\n\\n\\n\\n\\n\\n\\n\\nSuggest changes\\n\\n\\n\\n\\n\\n\\nLike Article\\n\\n\\n\\nLike\\n\\n\\n\\n\\n\\n\\n\\n\\n\\n\\nReport'),\n",
       " Document(metadata={'source': 'https://www.geeksforgeeks.org/artificial-intelligence/the-complete-langchain-ecosystem/', 'title': 'The Complete LangChain Ecosystem - GeeksforGeeks', 'description': 'Your All-in-One Learning Portal: GeeksforGeeks is a comprehensive educational platform that empowers learners across domains-spanning computer science and programming, school education, upskilling, commerce, software tools, competitive exams, and more.', 'language': 'en-US'}, page_content='LangChain is a framework that simplifies the process of building applications using Large Language Models (LLMs). It provides a set of modular building blocks that developers can use to design, integrate and deploy intelligent systems. The architecture of LangChain is structured in a way that separates the core logic, integration layers and advanced deployment tools. This layered approach makes LangChain both flexible for experimentation and robust for production use.LangChain ArchitectureCore Architecture of LangChainLet’s see how LangChain is structured from its core modules to advanced tools:1. LangChain Core (langchain-core)Provides the fundamental abstractions of the framework.Includes prompts, messages, models, chains, memory and output parsers.Does not depend on external providers, ensuring a lightweight base.Role: The foundation on which other layers are built.2. Main LangChain Package (langchain)Builds on langchain-core by offering higher-level workflows.Provides'),\n",
       " Document(metadata={'source': 'https://www.geeksforgeeks.org/artificial-intelligence/the-complete-langchain-ecosystem/', 'title': 'The Complete LangChain Ecosystem - GeeksforGeeks', 'description': 'Your All-in-One Learning Portal: GeeksforGeeks is a comprehensive educational platform that empowers learners across domains-spanning computer science and programming, school education, upskilling, commerce, software tools, competitive exams, and more.', 'language': 'en-US'}, page_content='providers, ensuring a lightweight base.Role: The foundation on which other layers are built.2. Main LangChain Package (langchain)Builds on langchain-core by offering higher-level workflows.Provides orchestration for chains and agents.Remains model-agnostic, meaning it can work with different LLM providers.Role: Enables application logic without binding to specific integrations.3. Integration PackagesIndependent connectors for external tools and services.Examples: langchain-openai connects to OpenAI models and langchain-pinecone → connects to Pinecone vector database.Keep the main package minimal and modular.Role: Bridge between LangChain and external systems.4. LangChain Community (langchain-community)A collection of community-maintained integrations.Provides connectors for services not officially covered.Ensures a growing and adaptable ecosystem.Role: Expands LangChain’s reach beyond official packages.5. LangGraphLangGraph is a framework for building stateful applications as'),\n",
       " Document(metadata={'source': 'https://www.geeksforgeeks.org/artificial-intelligence/the-complete-langchain-ecosystem/', 'title': 'The Complete LangChain Ecosystem - GeeksforGeeks', 'description': 'Your All-in-One Learning Portal: GeeksforGeeks is a comprehensive educational platform that empowers learners across domains-spanning computer science and programming, school education, upskilling, commerce, software tools, competitive exams, and more.', 'language': 'en-US'}, page_content='not officially covered.Ensures a growing and adaptable ecosystem.Role: Expands LangChain’s reach beyond official packages.5. LangGraphLangGraph is a framework for building stateful applications as computational graphs.Supports:Memory management.Streaming outputs.Complex decision flows with nodes and edges.Use Case: Multi-step agents, advanced chatbots or retrieval pipelines.6. LangServeUsed for deploying LangChain applications as APIs.Offers a straightforward way to expose chains or agents via REST endpoints.Use Case: Turning prototypes into accessible services.7. LangSmithLangSmith provides observability, debugging and monitoring capabilities.Tracks prompt executions, inputs, outputs and errors.Enables performance evaluation and testing at scale.Use Case: Production-grade monitoring of LangChain applications.LangChain Key Components LangChain’s modular architecture allows us to build LLM-powered applications by combining only the components we need. We need to import the required'),\n",
       " Document(metadata={'source': 'https://www.geeksforgeeks.org/artificial-intelligence/the-complete-langchain-ecosystem/', 'title': 'The Complete LangChain Ecosystem - GeeksforGeeks', 'description': 'Your All-in-One Learning Portal: GeeksforGeeks is a comprehensive educational platform that empowers learners across domains-spanning computer science and programming, school education, upskilling, commerce, software tools, competitive exams, and more.', 'language': 'en-US'}, page_content='LangChain applications.LangChain Key Components LangChain’s modular architecture allows us to build LLM-powered applications by combining only the components we need. We need to import the required libraries and dependencies to smoothly run the codes,Installs the core LangChain package (langchain).langchain-openai: integration module for OpenAI models (ChatGPT, GPT-4, etc.).Installs the official openai Python library (needed to connect with OpenAI API).langchain-community which now contains connectors like retrievers, vectorstores, tools, etc that used to be in langchain.faiss-cpu: Facebook AI Similarity Search, a vector database used for fast semantic search on CPU.Imports the os library so we can work with environment variables.Sets our OpenAI API key as an environment variable.Replace \"your_api_key\" with our actual key from OpenAI’s dashboard.'),\n",
       " Document(metadata={'source': 'https://www.geeksforgeeks.org/artificial-intelligence/the-complete-langchain-ecosystem/', 'title': 'The Complete LangChain Ecosystem - GeeksforGeeks', 'description': 'Your All-in-One Learning Portal: GeeksforGeeks is a comprehensive educational platform that empowers learners across domains-spanning computer science and programming, school education, upskilling, commerce, software tools, competitive exams, and more.', 'language': 'en-US'}, page_content='Python'),\n",
       " Document(metadata={'source': 'https://www.geeksforgeeks.org/artificial-intelligence/the-complete-langchain-ecosystem/', 'title': 'The Complete LangChain Ecosystem - GeeksforGeeks', 'description': 'Your All-in-One Learning Portal: GeeksforGeeks is a comprehensive educational platform that empowers learners across domains-spanning computer science and programming, school education, upskilling, commerce, software tools, competitive exams, and more.', 'language': 'en-US'}, page_content='!pip install -q langchain langchain-openai openai\\n!pip install -q langchain-community faiss-cpu\\n\\nimport os\\nos.environ[\"OPENAI_API_KEY\"] = \"your_api_key\"\\n\\n1. PromptsIn LangChain, prompts are the instructions we send to the LLM. Instead of writing the full text every time, LangChain gives us tools like PromptTemplate or ChatPromptTemplate. These let us create reusable prompt patterns where we can insert variables.Lets see an example,ChatPromptTemplate: builds a prompt with placeholders.{text}: dynamic input field for user content.format_messages(): fills in the variable.llm.invoke(): sends it to the LLM and returns the translation.\\nPython\\n\\nfrom langchain_openai import ChatOpenAI\\nfrom langchain.prompts import ChatPromptTemplate\\n\\nllm = ChatOpenAI(model=\"gpt-4o-mini\")\\n\\nprompt = ChatPromptTemplate.from_template(\\n    \"State the parts of speech in this sentence: {text}\")'),\n",
       " Document(metadata={'source': 'https://www.geeksforgeeks.org/artificial-intelligence/the-complete-langchain-ecosystem/', 'title': 'The Complete LangChain Ecosystem - GeeksforGeeks', 'description': 'Your All-in-One Learning Portal: GeeksforGeeks is a comprehensive educational platform that empowers learners across domains-spanning computer science and programming, school education, upskilling, commerce, software tools, competitive exams, and more.', 'language': 'en-US'}, page_content='llm = ChatOpenAI(model=\"gpt-4o-mini\")\\n\\nprompt = ChatPromptTemplate.from_template(\\n    \"State the parts of speech in this sentence: {text}\")\\n\\nfinal_prompt = prompt.format_messages(text=\"Hi!! my name is Geek.\")\\nresponse = llm.invoke(final_prompt)\\nprint(response.content)\\n\\nOutput: Output (Prompts)2. ChainsChains are pipelines that connect prompts and models together. Instead of calling the LLM once, a chain lets us define a workflow (e.g., summarize text → then translate).Lets see an example,PromptTemplate: defines how input should be structured.LLMChain: combines the LLM and prompt into a pipeline.chain.run(): executes the workflow with given text.\\nPython\\n\\nfrom langchain.chains import LLMChain\\nfrom langchain.prompts import PromptTemplate\\n\\ntemplate = \"Summarize the following text in one line:\\\\n\\\\n{text}\"\\nprompt = PromptTemplate(template=template, input_variables=[\"text\"])\\n\\nchain = LLMChain(llm=llm, prompt=prompt)'),\n",
       " Document(metadata={'source': 'https://www.geeksforgeeks.org/artificial-intelligence/the-complete-langchain-ecosystem/', 'title': 'The Complete LangChain Ecosystem - GeeksforGeeks', 'description': 'Your All-in-One Learning Portal: GeeksforGeeks is a comprehensive educational platform that empowers learners across domains-spanning computer science and programming, school education, upskilling, commerce, software tools, competitive exams, and more.', 'language': 'en-US'}, page_content='template = \"Summarize the following text in one line:\\\\n\\\\n{text}\"\\nprompt = PromptTemplate(template=template, input_variables=[\"text\"])\\n\\nchain = LLMChain(llm=llm, prompt=prompt)\\n\\ntext = \"LangChain is a framework designed to simplify the process of building applications powered by LLMs.\"\\nsummary = chain.run(text=text)\\nprint(summary)\\n\\nOutput:LangChain simplifies the development of applications utilizing large language models (LLMs).3. MemoryLLMs are normally stateless (they forget past messages). Memory in LangChain solves this by storing conversation history.Let\\'s see an example,ConversationBufferMemory: stores dialogue history.ConversationChain: connects memory with the LLM.Model remembers user details (like name).\\nPython\\n\\nfrom langchain.chains import ConversationChain\\nfrom langchain.memory import ConversationBufferMemory\\n\\nmemory = ConversationBufferMemory()\\nconversation = ConversationChain(llm=llm, memory=memory)'),\n",
       " Document(metadata={'source': 'https://www.geeksforgeeks.org/artificial-intelligence/the-complete-langchain-ecosystem/', 'title': 'The Complete LangChain Ecosystem - GeeksforGeeks', 'description': 'Your All-in-One Learning Portal: GeeksforGeeks is a comprehensive educational platform that empowers learners across domains-spanning computer science and programming, school education, upskilling, commerce, software tools, competitive exams, and more.', 'language': 'en-US'}, page_content='from langchain.chains import ConversationChain\\nfrom langchain.memory import ConversationBufferMemory\\n\\nmemory = ConversationBufferMemory()\\nconversation = ConversationChain(llm=llm, memory=memory)\\n\\nprint(conversation.predict(input=\"Hello, my name is Geek.\"))\\nprint(conversation.predict(input=\"Can you remind me what my name is?\"))\\n\\nOutput:Hello, Geek! It\\'s great to meet you! I\\'m excited to chat with you today. What would you like to talk about? Of course! Your name is Geek. It\\'s a unique and fun name! What else would you like to discuss today?4. Retriever and Vector StoresLLMs have a knowledge cutoff. Retrievers allow us to connect them with external knowledge bases (PDFs, docs, databases). Vector stores like FAISS store embeddings for fast search.Let\\'s see an example,OpenAIEmbeddings: turns text into vectors.FAISS: vector search database.as_retriever(): enables search queries.Useful for RAG (Retrieval-Augmented Generation).\\nPython'),\n",
       " Document(metadata={'source': 'https://www.geeksforgeeks.org/artificial-intelligence/the-complete-langchain-ecosystem/', 'title': 'The Complete LangChain Ecosystem - GeeksforGeeks', 'description': 'Your All-in-One Learning Portal: GeeksforGeeks is a comprehensive educational platform that empowers learners across domains-spanning computer science and programming, school education, upskilling, commerce, software tools, competitive exams, and more.', 'language': 'en-US'}, page_content='from langchain_openai import OpenAIEmbeddings\\nfrom langchain_community.vectorstores import FAISS\\n\\nembeddings = OpenAIEmbeddings()\\n\\ndocs = [\\n    \"LangChain is a powerful LLM framework.\",\\n    \"It allows integration with external data and APIs.\",\\n    \"LangServe is used for deployment.\"\\n]\\n\\nvectorstore = FAISS.from_texts(docs, embeddings)\\n\\nquery = \"What is LangChain used for?\"\\nretriever = vectorstore.as_retriever()\\nresults = retriever.get_relevant_documents(query)\\n\\nfor r in results:\\n    print(\"Retrieved:\", r.page_content)\\n\\nOutput: Output (Retriever and Vector Stores)5. AgentsAgents can decide what action to take: call a tool (e.g., calculator, search) or just answer directly.Let\\'s see an example,load_tools(): loads extra capabilities.initialize_agent(): builds an LLM that can use tools.The agent chooses when to use math vs LLM.\\nPython\\n\\nfrom langchain.agents import load_tools, initialize_agent\\n\\ntools = load_tools([\"llm-math\"], llm=llm)'),\n",
       " Document(metadata={'source': 'https://www.geeksforgeeks.org/artificial-intelligence/the-complete-langchain-ecosystem/', 'title': 'The Complete LangChain Ecosystem - GeeksforGeeks', 'description': 'Your All-in-One Learning Portal: GeeksforGeeks is a comprehensive educational platform that empowers learners across domains-spanning computer science and programming, school education, upskilling, commerce, software tools, competitive exams, and more.', 'language': 'en-US'}, page_content='from langchain.agents import load_tools, initialize_agent\\n\\ntools = load_tools([\"llm-math\"], llm=llm)\\n\\nagent = initialize_agent(\\n    tools, llm, agent=\"zero-shot-react-description\", verbose=True)\\n\\nresponse = agent.run(\"What is 25 multiplied by 16?\")\\nprint(response)'),\n",
       " Document(metadata={'source': 'https://www.geeksforgeeks.org/artificial-intelligence/the-complete-langchain-ecosystem/', 'title': 'The Complete LangChain Ecosystem - GeeksforGeeks', 'description': 'Your All-in-One Learning Portal: GeeksforGeeks is a comprehensive educational platform that empowers learners across domains-spanning computer science and programming, school education, upskilling, commerce, software tools, competitive exams, and more.', 'language': 'en-US'}, page_content='agent = initialize_agent(\\n    tools, llm, agent=\"zero-shot-react-description\", verbose=True)\\n\\nresponse = agent.run(\"What is 25 multiplied by 16?\")\\nprint(response)\\n\\nOutput: Output (Agents)6. Output ParsersBy default, LLMs return plain text. Output parsers help us force structured formats like JSON, making the results easier to use in apps.Let\\'s see an example,language: field for detected language.sentiment: field for text sentiment.Schemas tell the LLM exactly what structured data to produce.Combines the schemas into a parser that converts LLM text into structured Python objects (like a dictionary).Produces instructions for the LLM to follow the schema format.Ensures reliable parsing of outputs.{text}: user-provided text to analyze.{format_instructions}: tells LLM how to structure the output.partial_variables: fills in fixed instructions automatically.LLMChain: links the LLM with the prompt template.parse(): converts raw output into a Python dictionary following the schema.\\nPython'),\n",
       " Document(metadata={'source': 'https://www.geeksforgeeks.org/artificial-intelligence/the-complete-langchain-ecosystem/', 'title': 'The Complete LangChain Ecosystem - GeeksforGeeks', 'description': 'Your All-in-One Learning Portal: GeeksforGeeks is a comprehensive educational platform that empowers learners across domains-spanning computer science and programming, school education, upskilling, commerce, software tools, competitive exams, and more.', 'language': 'en-US'}, page_content='from langchain.prompts import PromptTemplate\\nfrom langchain.output_parsers import StructuredOutputParser, ResponseSchema\\n\\nschemas = [\\n    ResponseSchema(name=\"language\",\\n                   description=\"Detected language of the text\"),\\n    ResponseSchema(\\n        name=\"sentiment\", description=\"Sentiment of the text (positive/negative/neutral)\")\\n]\\n\\noutput_parser = StructuredOutputParser.from_response_schemas(schemas)\\n\\nformat_instructions = output_parser.get_format_instructions()\\ntemplate = \"\"\"\\nAnalyze the following text:\\n{text}\\n\\n{format_instructions}\\n\"\"\"\\nprompt = PromptTemplate(template=template, input_variables=[\\n                        \"text\"], partial_variables={\"format_instructions\": format_instructions})\\n\\nchain = LLMChain(llm=llm, prompt=prompt)\\nresponse = chain.run(\\n    text=\"I love learning about AI, it makes me very excited.\")\\nparsed = output_parser.parse(response)\\n\\nprint(parsed)\\n\\nOutput:{\\'language\\': \\'English\\', \\'sentiment\\': \\'positive\\'}'),\n",
       " Document(metadata={'source': 'https://www.geeksforgeeks.org/artificial-intelligence/the-complete-langchain-ecosystem/', 'title': 'The Complete LangChain Ecosystem - GeeksforGeeks', 'description': 'Your All-in-One Learning Portal: GeeksforGeeks is a comprehensive educational platform that empowers learners across domains-spanning computer science and programming, school education, upskilling, commerce, software tools, competitive exams, and more.', 'language': 'en-US'}, page_content=\"print(parsed)\\n\\nOutput:{'language': 'English', 'sentiment': 'positive'} \\n\\n\\n\\n\\n\\n\\n\\n\\n\\n\\r\\n        Comment\\r\\n    More info \\n\\n\\n\\n\\n\\n\\nS\\n\\n\\n\\n\\n \\n\\nshambhava9ex \\n\\n\\n\\n\\n\\n Follow \\n\\n\\n\\n\\n\\n\\n\\n\\n\\n\\n\\nImprove\\n\\n\\n\\n\\n\\n\\nArticle Tags : \\n\\n\\nArtificial Intelligence\\n \\n\\n\\n\\n\\n\\n\\n\\n\\nLike\\n\\n\\n\\n\\n\\n\\n\\n\\n\\n\\n\\n\\n\\n\\n\\n\\n\\n\\n\\n\\n\\n \\n\\n\\n\\n\\n\\n\\n\\n\\n\\n\\n\\n\\n\\n\\n\\n\\n\\n\\n\\n\\n\\n\\n\\n\\n\\n\\n\\n\\n\\n\\n\\n\\n\\n\\n\\n\\n\\n\\n\\n\\n\\n\\n\\n\\n\\n\\n\\n\\n\\n\\n\\n\\n\\n\\n\\n\\n\\n1k+ interested Geeks \\n\\n\\n\\nGATE DA 2027 Online Course [Live Classes] \\n\\n\\n\\n\\nExplore\\n\\n\\n\\n\\n\\n\\n\\n\\n\\n\\n\\n\\n\\n\\n\\n\\n37k+ interested Geeks \\n\\n\\n\\nComplete TensorFlow Course \\n\\n\\n\\n\\nExplore\\n\\n\\n\\n\\n\\n\\n\\n\\n\\n\\n\\n\\n\\n\\n\\n\\n1k+ interested Geeks \\n\\n\\n\\nGATE DA 2028 Complete Course [with Placement Preparation] \\n\\n\\n\\n\\nExplore\\n\\n\\n\\n\\n\\n\\n \\n\\n\\n\\n\\n\\n\\n\\n\\n\\n\\n\\n\\n\\n\\n\\n\\n\\n\\n\\n\\n\\n\\n\\n\\n\\n\\n\\n\\n\\n\\n\\n\\n\\n\\n\\n\\n\\n\\n\\n\\n\\n\\n\\n\\n\\n\\n\\n\\n\\n\\n\\n\\n\\n\\n\\n\\n\\n\\n\\n\\nCorporate & Communications Address:\\n\\r\\n                      A-143, 7th Floor, Sovereign Corporate Tower, Sector- 136, Noida, Uttar Pradesh (201305)\"),\n",
       " Document(metadata={'source': 'https://www.geeksforgeeks.org/artificial-intelligence/the-complete-langchain-ecosystem/', 'title': 'The Complete LangChain Ecosystem - GeeksforGeeks', 'description': 'Your All-in-One Learning Portal: GeeksforGeeks is a comprehensive educational platform that empowers learners across domains-spanning computer science and programming, school education, upskilling, commerce, software tools, competitive exams, and more.', 'language': 'en-US'}, page_content='Corporate & Communications Address:\\n\\r\\n                      A-143, 7th Floor, Sovereign Corporate Tower, Sector- 136, Noida, Uttar Pradesh (201305)                    \\n\\n\\n\\n\\n\\nRegistered Address:\\r\\n                        K 061, Tower K, Gulshan Vivante Apartment, Sector 137, Noida, Gautam Buddh Nagar, Uttar Pradesh, 201305                      \\n\\n\\n\\n\\n\\n\\n\\n\\n\\n\\n\\n\\n\\n\\n\\n\\n\\n\\n\\n\\n\\n\\n\\n\\n\\n\\n\\n\\n\\nCompanyAbout UsLegalPrivacy PolicyCareersContact UsCorporate SolutionCampus Training ProgramExplorePOTDJob-A-ThonConnectCommunityBlogsNation Skill UpTutorialsProgramming LanguagesDSAWeb TechnologyAI, ML & Data ScienceDevOpsCS Core SubjectsInterview PreparationGATESchool SubjectsSoftware and ToolsCoursesIBM CertificationDSA and PlacementsWeb DevelopmentData ScienceProgramming LanguagesDevOps & CloudGATETrending TechnologiesOffline CentersNoidaBengaluruPuneHyderabadPatnaPreparation CornerAptitudePuzzlesGfG 160DSA 360System Design'),\n",
       " Document(metadata={'source': 'https://www.geeksforgeeks.org/artificial-intelligence/the-complete-langchain-ecosystem/', 'title': 'The Complete LangChain Ecosystem - GeeksforGeeks', 'description': 'Your All-in-One Learning Portal: GeeksforGeeks is a comprehensive educational platform that empowers learners across domains-spanning computer science and programming, school education, upskilling, commerce, software tools, competitive exams, and more.', 'language': 'en-US'}, page_content='@GeeksforGeeks, Sanchhaya Education Private Limited, All rights reserved\\n\\n\\n\\n\\n\\n\\n\\n\\n\\n\\n\\n\\n\\n\\n\\n\\n\\n\\n\\n\\n\\n\\nImprovement\\n\\n\\n\\n\\n\\n\\n\\nSuggest changes\\n\\n\\n\\n\\n\\nSuggest Changes\\nHelp us improve. Share your suggestions to enhance the article. Contribute your expertise and make a difference in the GeeksforGeeks portal.\\n\\n\\n\\n\\n\\n\\n\\nCreate Improvement\\nEnhance the article with your expertise. Contribute to the GeeksforGeeks community and help create better learning resources for all.\\n\\n\\n\\n\\n\\n\\n\\n\\n\\n\\n\\n\\n\\n\\n\\nSuggest Changes\\n\\n\\n\\n\\n\\n\\nmin 4 words, max Words Limit:1000\\n\\n\\n\\n\\nThank You!\\nYour suggestions are valuable to us.\\n\\n\\n\\n\\n\\n\\n\\n\\n\\n\\n\\n\\n\\n\\n\\n\\n\\n\\n\\n\\n\\n\\n\\n\\n\\n\\n\\n\\n\\n\\nWhat kind of Experience do you want to share?\\n\\n\\n\\n\\n\\n\\n\\n\\n\\nInterview Experiences\\n\\n\\n\\n\\n\\n\\n\\nAdmission Experiences\\n\\n\\n\\n\\n\\n\\n\\nCareer Journeys\\n\\n\\n\\n\\n\\n\\n\\nWork Experiences\\n\\n\\n\\n\\n\\n\\n\\nCampus Experiences\\n\\n\\n\\n\\n\\n\\n\\nCompetitive Exam Experiences')]"
      ]
     },
     "execution_count": 53,
     "metadata": {},
     "output_type": "execute_result"
    }
   ],
   "source": [
    "documents"
   ]
  },
  {
   "cell_type": "code",
   "execution_count": 54,
   "id": "a594e628",
   "metadata": {},
   "outputs": [],
   "source": [
    "## Embeddings (HuggingFace instead of OpenAI)\n",
    "from langchain_community.embeddings import HuggingFaceEmbeddings\n",
    "from langchain_community.vectorstores import FAISS\n",
    "\n",
    "embeddings = HuggingFaceEmbeddings(model_name=\"sentence-transformers/all-MiniLM-L6-v2\")\n",
    "vectorstoredb = FAISS.from_documents(documents, embeddings)"
   ]
  },
  {
   "cell_type": "code",
   "execution_count": 55,
   "id": "416b36d2",
   "metadata": {},
   "outputs": [
    {
     "name": "stdout",
     "output_type": "stream",
     "text": [
      "Retrieved Context:\n",
      " LangChain is a framework that simplifies the process of building applications using Large Language Models (LLMs). It provides a set of modular building blocks that developers can use to design, integrate and deploy intelligent systems. The architecture of LangChain is structured in a way that separates the core logic, integration layers and advanced deployment tools. This layered approach makes LangChain both flexible for experimentation and robust for production use.LangChain ArchitectureCore Architecture of LangChainLet’s see how LangChain is structured from its core modules to advanced tools:1. LangChain Core (langchain-core)Provides the fundamental abstractions of the framework.Includes prompts, messages, models, chains, memory and output parsers.Does not depend on external providers, ensuring a lightweight base.Role: The foundation on which other layers are built.2. Main LangChain Package (langchain)Builds on langchain-core by offering higher-level workflows.Provides\n"
     ]
    }
   ],
   "source": [
    "## Query Test\n",
    "query = \"What is LangChain Core and what roles does it serve?\"\n",
    "result = vectorstoredb.similarity_search(query)\n",
    "print(\"Retrieved Context:\\n\", result[0].page_content)"
   ]
  },
  {
   "cell_type": "code",
   "execution_count": 56,
   "id": "3905c448",
   "metadata": {},
   "outputs": [],
   "source": [
    "\n",
    "## LLM (Groq)\n",
    "from langchain_groq import ChatGroq\n",
    "llm = ChatGroq(model=\"llama-3.1-8b-instant\", temperature=0.7)"
   ]
  },
  {
   "cell_type": "code",
   "execution_count": 57,
   "id": "e8609ec8",
   "metadata": {},
   "outputs": [],
   "source": [
    "## Retrieval Chain\n",
    "from langchain.chains.combine_documents import create_stuff_documents_chain\n",
    "from langchain_core.prompts import ChatPromptTemplate\n",
    "\n",
    "prompt = ChatPromptTemplate.from_template(\n",
    "    \"\"\"\n",
    "Answer the following question based only on the provided context:\n",
    "<context>\n",
    "{context}\n",
    "</context>\n",
    "\"\"\"\n",
    ")\n",
    "\n"
   ]
  },
  {
   "cell_type": "code",
   "execution_count": 58,
   "id": "2c2798c0",
   "metadata": {},
   "outputs": [],
   "source": [
    "\n",
    "document_chain = create_stuff_documents_chain(llm, prompt)"
   ]
  },
  {
   "cell_type": "code",
   "execution_count": 59,
   "id": "91d0327c",
   "metadata": {},
   "outputs": [],
   "source": [
    "from langchain.chains import create_retrieval_chain\n",
    "retriever = vectorstoredb.as_retriever()\n",
    "retrieval_chain = create_retrieval_chain(retriever, document_chain)"
   ]
  },
  {
   "cell_type": "code",
   "execution_count": 60,
   "id": "8544b2af",
   "metadata": {},
   "outputs": [
    {
     "name": "stdout",
     "output_type": "stream",
     "text": [
      "\n",
      "Answer:\n",
      " Based on the provided context, the LangChain ecosystem consists of the following components:\n",
      "\n",
      "1. **LangChain Core (langchain-core)**: The foundational module that provides fundamental abstractions, including prompts, messages, models, chains, memory, and output parsers.\n",
      "\n",
      "2. **Main LangChain Package (langchain)**: Builds on langchain-core by offering higher-level workflows, including orchestration for chains and agents, and remains model-agnostic.\n",
      "\n",
      "3. **Integration Packages**: Independent connectors for external tools and services. Examples include langchain-openai and langchain-pinecone.\n",
      "\n",
      "4. **LangChain Community (langchain-community)**: A collection of community-maintained integrations that expands LangChain's reach beyond official packages.\n",
      "\n",
      "5. **LangGraph**: A framework for building stateful applications as computational graphs, supporting memory management, streaming outputs, and complex decision flows.\n",
      "\n",
      "6. **LangServe**: Used for deploying LangChain applications as APIs, offering a straightforward way to expose chains or agents via REST endpoints.\n",
      "\n",
      "7. **LangSmith**: Provides observability, debugging, and monitoring capabilities, enabling performance evaluation and testing at scale.\n"
     ]
    }
   ],
   "source": [
    "## Final Response\n",
    "response = retrieval_chain.invoke({\"input\": \"What key components of LangChain?\"})\n",
    "print(\"\\nAnswer:\\n\", response[\"answer\"])"
   ]
  },
  {
   "cell_type": "code",
   "execution_count": null,
   "id": "61beb7f0",
   "metadata": {},
   "outputs": [],
   "source": []
  }
 ],
 "metadata": {
  "kernelspec": {
   "display_name": "venv",
   "language": "python",
   "name": "python3"
  },
  "language_info": {
   "codemirror_mode": {
    "name": "ipython",
    "version": 3
   },
   "file_extension": ".py",
   "mimetype": "text/x-python",
   "name": "python",
   "nbconvert_exporter": "python",
   "pygments_lexer": "ipython3",
   "version": "3.10.11"
  }
 },
 "nbformat": 4,
 "nbformat_minor": 5
}
