{
 "cells": [
  {
   "cell_type": "markdown",
   "metadata": {},
   "source": [
    "#### Getting started With Langchain And Open AI\n",
    "\n",
    "In this quickstart we'll see how to:\n",
    "\n",
    "- Get setup with LangChain, LangSmith and LangServe\n",
    "- Use the most basic and common components of LangChain: prompt templates, models, and output parsers.\n",
    "- Build a simple application with LangChain\n",
    "- Trace your application with LangSmith\n",
    "- Serve your application with LangServe"
   ]
  },
  {
   "cell_type": "code",
   "execution_count": 16,
   "metadata": {},
   "outputs": [
    {
     "name": "stdout",
     "output_type": "stream",
     "text": [
      "Requirement already satisfied: dotenv in c:\\users\\window 11\\appdata\\local\\programs\\python\\python310\\lib\\site-packages (0.9.9)\n",
      "Requirement already satisfied: python-dotenv in c:\\users\\window 11\\appdata\\local\\programs\\python\\python310\\lib\\site-packages (from dotenv) (1.1.1)\n"
     ]
    },
    {
     "name": "stderr",
     "output_type": "stream",
     "text": [
      "\n",
      "[notice] A new release of pip is available: 23.0.1 -> 25.2\n",
      "[notice] To update, run: python.exe -m pip install --upgrade pip\n",
      "ERROR: unknown command \"nstall\" - maybe you meant \"install\"\n",
      "\n"
     ]
    },
    {
     "name": "stdout",
     "output_type": "stream",
     "text": [
      "Requirement already satisfied: langchain_groq in c:\\users\\window 11\\appdata\\local\\programs\\python\\python310\\lib\\site-packages (0.3.8)\n",
      "Requirement already satisfied: langchain-core<1.0.0,>=0.3.75 in c:\\users\\window 11\\appdata\\local\\programs\\python\\python310\\lib\\site-packages (from langchain_groq) (0.3.76)\n",
      "Requirement already satisfied: groq<1,>=0.30.0 in c:\\users\\window 11\\appdata\\local\\programs\\python\\python310\\lib\\site-packages (from langchain_groq) (0.31.1)\n",
      "Requirement already satisfied: distro<2,>=1.7.0 in c:\\users\\window 11\\appdata\\local\\programs\\python\\python310\\lib\\site-packages (from groq<1,>=0.30.0->langchain_groq) (1.9.0)\n",
      "Requirement already satisfied: sniffio in c:\\users\\window 11\\appdata\\local\\programs\\python\\python310\\lib\\site-packages (from groq<1,>=0.30.0->langchain_groq) (1.3.1)\n",
      "Requirement already satisfied: typing-extensions<5,>=4.10 in c:\\users\\window 11\\appdata\\roaming\\python\\python310\\site-packages (from groq<1,>=0.30.0->langchain_groq) (4.15.0)\n",
      "Requirement already satisfied: httpx<1,>=0.23.0 in c:\\users\\window 11\\appdata\\local\\programs\\python\\python310\\lib\\site-packages (from groq<1,>=0.30.0->langchain_groq) (0.28.1)\n",
      "Requirement already satisfied: pydantic<3,>=1.9.0 in c:\\users\\window 11\\appdata\\local\\programs\\python\\python310\\lib\\site-packages (from groq<1,>=0.30.0->langchain_groq) (2.11.9)\n",
      "Requirement already satisfied: anyio<5,>=3.5.0 in c:\\users\\window 11\\appdata\\local\\programs\\python\\python310\\lib\\site-packages (from groq<1,>=0.30.0->langchain_groq) (4.10.0)\n",
      "Requirement already satisfied: langsmith>=0.3.45 in c:\\users\\window 11\\appdata\\local\\programs\\python\\python310\\lib\\site-packages (from langchain-core<1.0.0,>=0.3.75->langchain_groq) (0.4.29)\n",
      "Requirement already satisfied: jsonpatch<2.0,>=1.33 in c:\\users\\window 11\\appdata\\local\\programs\\python\\python310\\lib\\site-packages (from langchain-core<1.0.0,>=0.3.75->langchain_groq) (1.33)\n",
      "Requirement already satisfied: PyYAML>=5.3 in c:\\users\\window 11\\appdata\\local\\programs\\python\\python310\\lib\\site-packages (from langchain-core<1.0.0,>=0.3.75->langchain_groq) (6.0.2)\n",
      "Requirement already satisfied: packaging>=23.2 in c:\\users\\window 11\\appdata\\roaming\\python\\python310\\site-packages (from langchain-core<1.0.0,>=0.3.75->langchain_groq) (25.0)\n",
      "Requirement already satisfied: tenacity!=8.4.0,<10.0.0,>=8.1.0 in c:\\users\\window 11\\appdata\\local\\programs\\python\\python310\\lib\\site-packages (from langchain-core<1.0.0,>=0.3.75->langchain_groq) (9.1.2)\n",
      "Requirement already satisfied: exceptiongroup>=1.0.2 in c:\\users\\window 11\\appdata\\roaming\\python\\python310\\site-packages (from anyio<5,>=3.5.0->groq<1,>=0.30.0->langchain_groq) (1.3.0)\n",
      "Requirement already satisfied: idna>=2.8 in c:\\users\\window 11\\appdata\\local\\programs\\python\\python310\\lib\\site-packages (from anyio<5,>=3.5.0->groq<1,>=0.30.0->langchain_groq) (3.10)\n",
      "Requirement already satisfied: certifi in c:\\users\\window 11\\appdata\\local\\programs\\python\\python310\\lib\\site-packages (from httpx<1,>=0.23.0->groq<1,>=0.30.0->langchain_groq) (2025.8.3)\n",
      "Requirement already satisfied: httpcore==1.* in c:\\users\\window 11\\appdata\\local\\programs\\python\\python310\\lib\\site-packages (from httpx<1,>=0.23.0->groq<1,>=0.30.0->langchain_groq) (1.0.9)\n",
      "Requirement already satisfied: h11>=0.16 in c:\\users\\window 11\\appdata\\local\\programs\\python\\python310\\lib\\site-packages (from httpcore==1.*->httpx<1,>=0.23.0->groq<1,>=0.30.0->langchain_groq) (0.16.0)\n",
      "Requirement already satisfied: jsonpointer>=1.9 in c:\\users\\window 11\\appdata\\local\\programs\\python\\python310\\lib\\site-packages (from jsonpatch<2.0,>=1.33->langchain-core<1.0.0,>=0.3.75->langchain_groq) (3.0.0)\n",
      "Requirement already satisfied: zstandard>=0.23.0 in c:\\users\\window 11\\appdata\\local\\programs\\python\\python310\\lib\\site-packages (from langsmith>=0.3.45->langchain-core<1.0.0,>=0.3.75->langchain_groq) (0.25.0)\n",
      "Requirement already satisfied: orjson>=3.9.14 in c:\\users\\window 11\\appdata\\local\\programs\\python\\python310\\lib\\site-packages (from langsmith>=0.3.45->langchain-core<1.0.0,>=0.3.75->langchain_groq) (3.11.3)\n",
      "Requirement already satisfied: requests>=2.0.0 in c:\\users\\window 11\\appdata\\local\\programs\\python\\python310\\lib\\site-packages (from langsmith>=0.3.45->langchain-core<1.0.0,>=0.3.75->langchain_groq) (2.32.5)\n",
      "Requirement already satisfied: requests-toolbelt>=1.0.0 in c:\\users\\window 11\\appdata\\local\\programs\\python\\python310\\lib\\site-packages (from langsmith>=0.3.45->langchain-core<1.0.0,>=0.3.75->langchain_groq) (1.0.0)\n",
      "Requirement already satisfied: pydantic-core==2.33.2 in c:\\users\\window 11\\appdata\\local\\programs\\python\\python310\\lib\\site-packages (from pydantic<3,>=1.9.0->groq<1,>=0.30.0->langchain_groq) (2.33.2)\n",
      "Requirement already satisfied: typing-inspection>=0.4.0 in c:\\users\\window 11\\appdata\\local\\programs\\python\\python310\\lib\\site-packages (from pydantic<3,>=1.9.0->groq<1,>=0.30.0->langchain_groq) (0.4.1)\n",
      "Requirement already satisfied: annotated-types>=0.6.0 in c:\\users\\window 11\\appdata\\local\\programs\\python\\python310\\lib\\site-packages (from pydantic<3,>=1.9.0->groq<1,>=0.30.0->langchain_groq) (0.7.0)\n",
      "Requirement already satisfied: charset_normalizer<4,>=2 in c:\\users\\window 11\\appdata\\local\\programs\\python\\python310\\lib\\site-packages (from requests>=2.0.0->langsmith>=0.3.45->langchain-core<1.0.0,>=0.3.75->langchain_groq) (3.4.3)\n",
      "Requirement already satisfied: urllib3<3,>=1.21.1 in c:\\users\\window 11\\appdata\\local\\programs\\python\\python310\\lib\\site-packages (from requests>=2.0.0->langsmith>=0.3.45->langchain-core<1.0.0,>=0.3.75->langchain_groq) (2.5.0)\n"
     ]
    },
    {
     "name": "stderr",
     "output_type": "stream",
     "text": [
      "\n",
      "[notice] A new release of pip is available: 23.0.1 -> 25.2\n",
      "[notice] To update, run: python.exe -m pip install --upgrade pip\n"
     ]
    }
   ],
   "source": [
    "!pip install dotenv\n",
    "!pip nstall langchain_core\n",
    "!pip install langchain_groq\n"
   ]
  },
  {
   "cell_type": "markdown",
   "metadata": {},
   "source": [
    "# Load the environment variables in Python"
   ]
  },
  {
   "cell_type": "code",
   "execution_count": 18,
   "metadata": {},
   "outputs": [],
   "source": [
    "import os\n",
    "from dotenv import load_dotenv\n",
    "\n",
    "load_dotenv()\n",
    "\n",
    "os.environ['GROQ_API_KEY'] = os.getenv(\"GROQ_API_KEY\")\n",
    "os.environ[\"LANGCHAIN_API_KEY\"] = os.getenv(\"LANGCHAIN_API_KEY\")\n",
    "os.environ[\"LANGCHAIN_TRACING_V2\"] = \"true\"\n"
   ]
  },
  {
   "cell_type": "markdown",
   "metadata": {},
   "source": [
    "# Use Groq LLM in LangChain"
   ]
  },
  {
   "cell_type": "code",
   "execution_count": 19,
   "metadata": {},
   "outputs": [
    {
     "name": "stdout",
     "output_type": "stream",
     "text": [
      "client=<groq.resources.chat.completions.Completions object at 0x000001B263ED27D0> async_client=<groq.resources.chat.completions.AsyncCompletions object at 0x000001B263ED3220> model_name='llama-3.1-8b-instant' model_kwargs={} groq_api_key=SecretStr('**********')\n",
      "content='Generative AI refers to a subset of artificial intelligence (AI) that focuses on generating new, original content, such as text, images, music, or videos, using algorithms and machine learning models. These models learn from existing data, identify patterns, and use that knowledge to create new, unique output.\\n\\nGenerative AI is a type of deep learning, which involves the use of neural networks to analyze and process data. Some common applications of generative AI include:\\n\\n1. **Image and video generation**: Generating realistic images, videos, and 3D models that mimic the style and structure of real-world data.\\n2. **Text generation**: Generating text, such as news articles, social media posts, or chatbot responses, that are coherent and contextually relevant.\\n3. **Music and audio generation**: Creating original music, sound effects, or audio tracks that are similar to existing styles or genres.\\n4. **Data augmentation**: Generating new data points to supplement existing datasets, which can improve the performance of machine learning models.\\n5. **Content creation**: Generating creative content, such as poetry or short stories, that can be used in various applications.\\n\\nGenerative AI models often use techniques such as:\\n\\n1. **Generative Adversarial Networks (GANs)**: A type of neural network that consists of two competing models: a generator and a discriminator.\\n2. **Variational Autoencoders (VAEs)**: A type of neural network that learns to compress and reconstruct data.\\n3. **Recurrent Neural Networks (RNNs)**: A type of neural network that processes sequential data, such as text or audio.\\n\\nThe applications of generative AI are vast and diverse, and can be seen in various industries, including:\\n\\n1. **Art and design**: Generative AI can be used to create new artistic styles, designs, and patterns.\\n2. **Entertainment**: Generative AI can be used to create new music, videos, and virtual characters.\\n3. **Education**: Generative AI can be used to create personalized learning materials and interactive educational tools.\\n4. **Healthcare**: Generative AI can be used to create personalized treatment plans and medical simulations.\\n\\nHowever, generative AI also raises concerns about:\\n\\n1. **Authenticity and ownership**: Who owns the generated content?\\n2. **Bias and fairness**: Can generative AI models perpetuate existing biases and stereotypes?\\n3. **Transparency and explainability**: Can we understand how generative AI models make decisions?\\n\\nOverall, generative AI has the potential to revolutionize various industries and applications, but it also requires careful consideration of its limitations and potential risks.' additional_kwargs={} response_metadata={'token_usage': {'completion_tokens': 532, 'prompt_tokens': 41, 'total_tokens': 573, 'completion_time': 0.710392515, 'prompt_time': 0.002046885, 'queue_time': 0.062779925, 'total_time': 0.7124394}, 'model_name': 'llama-3.1-8b-instant', 'system_fingerprint': 'fp_8804b970d6', 'service_tier': 'on_demand', 'finish_reason': 'stop', 'logprobs': None} id='run--b1973560-5dd9-450f-957b-3b0775e20c90-0' usage_metadata={'input_tokens': 41, 'output_tokens': 532, 'total_tokens': 573}\n"
     ]
    }
   ],
   "source": [
    "from langchain_groq import ChatGroq  # make sure you have langchain_groq installed\n",
    "\n",
    "llm = ChatGroq(model=\"llama-3.1-8b-instant\", temperature=0.7)  # example model\n",
    "print(llm)\n",
    "\n",
    "# simple prompt invocation\n",
    "result = llm.invoke(\"What is generative AI?\")\n",
    "print(result)\n"
   ]
  },
  {
   "cell_type": "markdown",
   "metadata": {},
   "source": [
    "# Using ChatPromptTemplate & Chain"
   ]
  },
  {
   "cell_type": "code",
   "execution_count": 21,
   "metadata": {},
   "outputs": [
    {
     "name": "stdout",
     "output_type": "stream",
     "text": [
      "Meta AI is a leading artificial intelligence (AI) research laboratory that focuses on developing and applying various forms of AI to help humans learn, communicate, and solve complex problems. It's a part of Meta Platforms, Inc., a multinational technology company.\n",
      "\n",
      "Meta AI's primary goals are to:\n",
      "\n",
      "1. **Advance AI research**: Push the boundaries of AI by exploring new ideas, techniques, and applications.\n",
      "2. **Develop practical AI solutions**: Create products and services that utilize AI to improve people's lives, such as language translation, image recognition, and text summarization.\n",
      "3. **Drive AI adoption**: Encourage the use of AI in various industries, including education, healthcare, and finance.\n",
      "\n",
      "Some notable areas of focus for Meta AI include:\n",
      "\n",
      "1. **Natural Language Processing (NLP)**: Developing AI models that can understand, generate, and process human language, such as language translation, text summarization, and chatbots.\n",
      "2. **Computer Vision**: Creating AI algorithms that can interpret and understand visual data from images and videos, like object detection, image classification, and facial recognition.\n",
      "3. **Reinforcement Learning**: Designing AI systems that can learn from trial and error, such as game playing, robotics, and autonomous vehicles.\n",
      "4. **Generative Models**: Developing AI models that can generate new, original content, such as text, images, and music.\n",
      "\n",
      "Some of the popular Meta AI products and services include:\n",
      "\n",
      "1. **LLaMA**: A large language model developed by Meta AI, designed for natural language processing tasks.\n",
      "2. **Meta AI Text-to-Image**: A model that generates images from text prompts.\n",
      "3. **Meta AI Music**: A model that generates music from text prompts.\n",
      "\n",
      "Meta AI has made significant contributions to the field of AI, including:\n",
      "\n",
      "1. **Advancing AI research**: Publishing papers and sharing research findings to advance the field of AI.\n",
      "2. **Developing open-source tools**: Releasing open-source tools and frameworks, such as the Meta AI Python library, to facilitate AI development.\n",
      "3. **Collaborating with academia and industry**: Partnering with researchers, universities, and companies to advance AI research and applications.\n",
      "\n",
      "Overall, Meta AI is a leading organization in the field of AI, driving innovation and pushing the boundaries of what is possible with artificial intelligence.\n"
     ]
    }
   ],
   "source": [
    "from langchain_core.prompts import ChatPromptTemplate\n",
    "from langchain_core.output_parsers import StrOutputParser\n",
    "\n",
    "# Prompt template\n",
    "prompt = ChatPromptTemplate.from_messages([\n",
    "    (\"system\", \"You are an expert AI Engineer. Provide me answers based on the questions\"),\n",
    "    (\"user\", \"{input}\")\n",
    "])\n",
    "\n",
    "# Chain with Groq LLM\n",
    "output_parser = StrOutputParser()\n",
    "chain = prompt | llm | output_parser\n",
    "\n",
    "response = chain.invoke({\"input\": \"Can you tell me about Meta Ai?\"})\n",
    "print(response)\n"
   ]
  },
  {
   "cell_type": "code",
   "execution_count": null,
   "metadata": {},
   "outputs": [],
   "source": []
  },
  {
   "cell_type": "code",
   "execution_count": null,
   "metadata": {},
   "outputs": [],
   "source": []
  },
  {
   "cell_type": "code",
   "execution_count": null,
   "metadata": {},
   "outputs": [],
   "source": []
  },
  {
   "cell_type": "code",
   "execution_count": null,
   "metadata": {},
   "outputs": [],
   "source": []
  },
  {
   "cell_type": "code",
   "execution_count": null,
   "metadata": {},
   "outputs": [],
   "source": []
  },
  {
   "cell_type": "code",
   "execution_count": null,
   "metadata": {},
   "outputs": [],
   "source": []
  },
  {
   "cell_type": "code",
   "execution_count": null,
   "metadata": {},
   "outputs": [],
   "source": []
  }
 ],
 "metadata": {
  "kernelspec": {
   "display_name": "Python 3",
   "language": "python",
   "name": "python3"
  },
  "language_info": {
   "codemirror_mode": {
    "name": "ipython",
    "version": 3
   },
   "file_extension": ".py",
   "mimetype": "text/x-python",
   "name": "python",
   "nbconvert_exporter": "python",
   "pygments_lexer": "ipython3",
   "version": "3.10.11"
  }
 },
 "nbformat": 4,
 "nbformat_minor": 2
}
