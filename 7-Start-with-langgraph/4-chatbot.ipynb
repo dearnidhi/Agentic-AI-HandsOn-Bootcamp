{
 "cells": [
  {
   "cell_type": "markdown",
   "metadata": {},
   "source": [
    "#  Implementing a Simple LLM-Powered Chatbot Using LangGraph\n",
    "\n",
    "In this tutorial, we will design a **simple chatbot** called **SuperBot** using the **LangGraph framework**. This chatbot leverages **Large Language Models (LLMs)** like OpenAI GPT or Groq open-source models.\n",
    "\n",
    "---\n",
    "\n",
    "## 1️⃣ Overview\n",
    "\n",
    "The chatbot workflow:\n",
    "\n"
   ]
  },
  {
   "cell_type": "markdown",
   "metadata": {},
   "source": [
    "[Start] --> [SuperBot Node: LLM Powered] --> [End]"
   ]
  },
  {
   "cell_type": "markdown",
   "metadata": {},
   "source": [
    "\n",
    "**Key Concepts:**\n",
    "- **Nodes:** Represent tasks (Python functions).\n",
    "- **Edges:** Define the flow between nodes.\n",
    "- **Conditional Edges:** Decide path based on logic.\n",
    "- **State:** Stores information shared between nodes.\n",
    "- **Reducers:** Append or update state values (like chat messages).\n",
    "- **State Graph:** Represents the entire structure of the graph.\n",
    "\n",
    "---"
   ]
  },
  {
   "cell_type": "markdown",
   "metadata": {},
   "source": [
    "## 2️⃣ Setup\n",
    "\n",
    "### Import Libraries\n",
    "\n",
    "```"
   ]
  },
  {
   "cell_type": "code",
   "execution_count": 22,
   "metadata": {},
   "outputs": [],
   "source": [
    "from typing import Annotated\n",
    "from typing_extensions import TypedDict\n",
    "from langgraph.graph import StateGraph, START, END\n",
    "from langgraph.graph.message import add_messages\n",
    "from dotenv import load_dotenv\n",
    "import os\n"
   ]
  },
  {
   "cell_type": "code",
   "execution_count": 23,
   "metadata": {},
   "outputs": [],
   "source": [
    "load_dotenv()\n",
    "\n",
    "OPENAI_API_KEY = os.getenv(\"OPENAI_API_KEY\")\n",
    "GROQ_API_KEY = os.getenv(\"GROQ_API_KEY\")\n"
   ]
  },
  {
   "cell_type": "markdown",
   "metadata": {},
   "source": [
    "# 3️⃣ Define State Schema\n",
    "\n",
    "We define a state class to store chat messages:"
   ]
  },
  {
   "cell_type": "markdown",
   "metadata": {},
   "source": [
    "  - messages is a list that stores all conversation messages.\n",
    "  - add_messages ensures messages append rather than overwrite previous messages.\n",
    "  - Annotated labels each message as human or AI."
   ]
  },
  {
   "cell_type": "code",
   "execution_count": 24,
   "metadata": {},
   "outputs": [],
   "source": [
    "class State(TypedDict):\n",
    "    messages: Annotated[list, add_messages]"
   ]
  },
  {
   "cell_type": "markdown",
   "metadata": {},
   "source": [
    "# 4️⃣ Load LLM Models"
   ]
  },
  {
   "cell_type": "code",
   "execution_count": 25,
   "metadata": {},
   "outputs": [],
   "source": [
    "# from langchain.chat_models import ChatOpenAI\n",
    "\n",
    "# chat_openai = ChatOpenAI(model_name=\"gpt-4\")\n",
    "# response = chat_openai.invoke(\"Good morning!\")\n"
   ]
  },
  {
   "cell_type": "code",
   "execution_count": 26,
   "metadata": {},
   "outputs": [
    {
     "name": "stdout",
     "output_type": "stream",
     "text": [
      "Requirement already satisfied: langchain_groq in c:\\users\\window 11\\desktop\\agentic ai\\venv\\lib\\site-packages (0.3.8)\n",
      "Requirement already satisfied: langchain-core<1.0.0,>=0.3.75 in c:\\users\\window 11\\desktop\\agentic ai\\venv\\lib\\site-packages (from langchain_groq) (0.3.76)\n",
      "Requirement already satisfied: groq<1,>=0.30.0 in c:\\users\\window 11\\desktop\\agentic ai\\venv\\lib\\site-packages (from langchain_groq) (0.32.0)\n",
      "Requirement already satisfied: pydantic<3,>=1.9.0 in c:\\users\\window 11\\desktop\\agentic ai\\venv\\lib\\site-packages (from groq<1,>=0.30.0->langchain_groq) (2.11.9)\n",
      "Requirement already satisfied: anyio<5,>=3.5.0 in c:\\users\\window 11\\desktop\\agentic ai\\venv\\lib\\site-packages (from groq<1,>=0.30.0->langchain_groq) (4.11.0)\n",
      "Requirement already satisfied: httpx<1,>=0.23.0 in c:\\users\\window 11\\desktop\\agentic ai\\venv\\lib\\site-packages (from groq<1,>=0.30.0->langchain_groq) (0.28.1)\n",
      "Requirement already satisfied: distro<2,>=1.7.0 in c:\\users\\window 11\\desktop\\agentic ai\\venv\\lib\\site-packages (from groq<1,>=0.30.0->langchain_groq) (1.9.0)\n",
      "Requirement already satisfied: sniffio in c:\\users\\window 11\\desktop\\agentic ai\\venv\\lib\\site-packages (from groq<1,>=0.30.0->langchain_groq) (1.3.1)\n",
      "Requirement already satisfied: typing-extensions<5,>=4.10 in c:\\users\\window 11\\desktop\\agentic ai\\venv\\lib\\site-packages (from groq<1,>=0.30.0->langchain_groq) (4.15.0)\n",
      "Requirement already satisfied: langsmith>=0.3.45 in c:\\users\\window 11\\desktop\\agentic ai\\venv\\lib\\site-packages (from langchain-core<1.0.0,>=0.3.75->langchain_groq) (0.4.31)\n",
      "Requirement already satisfied: jsonpatch<2.0,>=1.33 in c:\\users\\window 11\\desktop\\agentic ai\\venv\\lib\\site-packages (from langchain-core<1.0.0,>=0.3.75->langchain_groq) (1.33)\n",
      "Requirement already satisfied: packaging>=23.2 in c:\\users\\window 11\\desktop\\agentic ai\\venv\\lib\\site-packages (from langchain-core<1.0.0,>=0.3.75->langchain_groq) (25.0)\n",
      "Requirement already satisfied: PyYAML>=5.3 in c:\\users\\window 11\\desktop\\agentic ai\\venv\\lib\\site-packages (from langchain-core<1.0.0,>=0.3.75->langchain_groq) (6.0.3)\n",
      "Requirement already satisfied: tenacity!=8.4.0,<10.0.0,>=8.1.0 in c:\\users\\window 11\\desktop\\agentic ai\\venv\\lib\\site-packages (from langchain-core<1.0.0,>=0.3.75->langchain_groq) (9.1.2)\n",
      "Requirement already satisfied: idna>=2.8 in c:\\users\\window 11\\desktop\\agentic ai\\venv\\lib\\site-packages (from anyio<5,>=3.5.0->groq<1,>=0.30.0->langchain_groq) (3.10)\n",
      "Requirement already satisfied: exceptiongroup>=1.0.2 in c:\\users\\window 11\\desktop\\agentic ai\\venv\\lib\\site-packages (from anyio<5,>=3.5.0->groq<1,>=0.30.0->langchain_groq) (1.3.0)\n",
      "Requirement already satisfied: certifi in c:\\users\\window 11\\desktop\\agentic ai\\venv\\lib\\site-packages (from httpx<1,>=0.23.0->groq<1,>=0.30.0->langchain_groq) (2025.8.3)\n",
      "Requirement already satisfied: httpcore==1.* in c:\\users\\window 11\\desktop\\agentic ai\\venv\\lib\\site-packages (from httpx<1,>=0.23.0->groq<1,>=0.30.0->langchain_groq) (1.0.9)\n",
      "Requirement already satisfied: h11>=0.16 in c:\\users\\window 11\\desktop\\agentic ai\\venv\\lib\\site-packages (from httpcore==1.*->httpx<1,>=0.23.0->groq<1,>=0.30.0->langchain_groq) (0.16.0)\n",
      "Requirement already satisfied: jsonpointer>=1.9 in c:\\users\\window 11\\desktop\\agentic ai\\venv\\lib\\site-packages (from jsonpatch<2.0,>=1.33->langchain-core<1.0.0,>=0.3.75->langchain_groq) (3.0.0)\n",
      "Requirement already satisfied: zstandard>=0.23.0 in c:\\users\\window 11\\desktop\\agentic ai\\venv\\lib\\site-packages (from langsmith>=0.3.45->langchain-core<1.0.0,>=0.3.75->langchain_groq) (0.25.0)\n",
      "Requirement already satisfied: orjson>=3.9.14 in c:\\users\\window 11\\desktop\\agentic ai\\venv\\lib\\site-packages (from langsmith>=0.3.45->langchain-core<1.0.0,>=0.3.75->langchain_groq) (3.11.3)\n",
      "Requirement already satisfied: requests>=2.0.0 in c:\\users\\window 11\\desktop\\agentic ai\\venv\\lib\\site-packages (from langsmith>=0.3.45->langchain-core<1.0.0,>=0.3.75->langchain_groq) (2.32.5)\n",
      "Requirement already satisfied: requests-toolbelt>=1.0.0 in c:\\users\\window 11\\desktop\\agentic ai\\venv\\lib\\site-packages (from langsmith>=0.3.45->langchain-core<1.0.0,>=0.3.75->langchain_groq) (1.0.0)\n",
      "Requirement already satisfied: annotated-types>=0.6.0 in c:\\users\\window 11\\desktop\\agentic ai\\venv\\lib\\site-packages (from pydantic<3,>=1.9.0->groq<1,>=0.30.0->langchain_groq) (0.7.0)\n",
      "Requirement already satisfied: typing-inspection>=0.4.0 in c:\\users\\window 11\\desktop\\agentic ai\\venv\\lib\\site-packages (from pydantic<3,>=1.9.0->groq<1,>=0.30.0->langchain_groq) (0.4.1)\n",
      "Requirement already satisfied: pydantic-core==2.33.2 in c:\\users\\window 11\\desktop\\agentic ai\\venv\\lib\\site-packages (from pydantic<3,>=1.9.0->groq<1,>=0.30.0->langchain_groq) (2.33.2)\n",
      "Requirement already satisfied: urllib3<3,>=1.21.1 in c:\\users\\window 11\\desktop\\agentic ai\\venv\\lib\\site-packages (from requests>=2.0.0->langsmith>=0.3.45->langchain-core<1.0.0,>=0.3.75->langchain_groq) (2.5.0)\n",
      "Requirement already satisfied: charset_normalizer<4,>=2 in c:\\users\\window 11\\desktop\\agentic ai\\venv\\lib\\site-packages (from requests>=2.0.0->langsmith>=0.3.45->langchain-core<1.0.0,>=0.3.75->langchain_groq) (3.4.3)\n",
      "Note: you may need to restart the kernel to use updated packages.\n"
     ]
    },
    {
     "name": "stderr",
     "output_type": "stream",
     "text": [
      "\n",
      "[notice] A new release of pip is available: 23.0.1 -> 25.2\n",
      "[notice] To update, run: python.exe -m pip install --upgrade pip\n"
     ]
    }
   ],
   "source": [
    "pip install langchain_groq\n"
   ]
  },
  {
   "cell_type": "code",
   "execution_count": 34,
   "metadata": {},
   "outputs": [],
   "source": [
    "from langchain_groq import ChatGroq\n",
    "chat_groq = ChatGroq(model_name = \"Gemma2-9b-It\")\n",
    "response =  chat_groq.invoke(\"Good moring, Time To stat my day\")\n",
    "\n",
    " "
   ]
  },
  {
   "cell_type": "markdown",
   "metadata": {},
   "source": [
    "# 5️⃣ Define SuperBot Node"
   ]
  },
  {
   "cell_type": "code",
   "execution_count": null,
   "metadata": {},
   "outputs": [],
   "source": [
    "\n",
    "def Superbot(State:State):\n",
    "    user_message = State['messages'][-1].content\n",
    "    ai_response = chat_groq.invoke(user_message)\n",
    "    return{\"messages\":[ai_response]}\n",
    "    "
   ]
  },
  {
   "cell_type": "markdown",
   "metadata": {},
   "source": [
    "   - Node returns messages in key-value form.\n",
    "   - Reducer ensures all messages are tracked and appended."
   ]
  },
  {
   "cell_type": "markdown",
   "metadata": {},
   "source": [
    "# 6️⃣ Build the Graph"
   ]
  },
  {
   "cell_type": "code",
   "execution_count": 36,
   "metadata": {},
   "outputs": [],
   "source": [
    "graph = StateGraph(State)\n",
    "graph.add_node(\"Superbot\", Superbot)\n",
    "graph.add_edge(START, \"Superbot\")\n",
    "graph.add_edge(\"Superbot\", END)\n",
    "graph_builder = graph.compile()\n",
    "\n"
   ]
  },
  {
   "cell_type": "code",
   "execution_count": 37,
   "metadata": {},
   "outputs": [
    {
     "data": {
      "image/png": "[encoded data removed]",
      "text/plain": [
       "<IPython.core.display.Image object>"
      ]
     },
     "metadata": {},
     "output_type": "display_data"
    }
   ],
   "source": [
    "## Display\n",
    "from IPython.display import Image, display\n",
    "display(Image(graph_builder.get_graph().draw_mermaid_png()))"
   ]
  },
  {
   "cell_type": "markdown",
   "metadata": {},
   "source": [
    "# 7️⃣ Invoke the Chatbot"
   ]
  },
  {
   "cell_type": "markdown",
   "metadata": {},
   "source": [
    "- Input messages are annotated as human messages.\n",
    "- LLM generates AI response and appends it to messages."
   ]
  },
  {
   "cell_type": "code",
   "execution_count": 31,
   "metadata": {},
   "outputs": [
    {
     "data": {
      "text/plain": [
       "{'messages': [HumanMessage(content='good mornig,i just woke up', additional_kwargs={}, response_metadata={}, id='22b557cf-71ab-4c4f-b266-981d1b093ad4'),\n",
       "  AIMessage(content='Good morning! ☀️  \\n\\nI hope you had a restful sleep. What are your plans for today? 😊 \\n\\n', additional_kwargs={}, response_metadata={'token_usage': {'completion_tokens': 28, 'prompt_tokens': 17, 'total_tokens': 45, 'completion_time': 0.050909091, 'prompt_time': 0.00125507, 'queue_time': 0.255002289, 'total_time': 0.052164161}, 'model_name': 'Gemma2-9b-It', 'system_fingerprint': 'fp_10c08bf97d', 'service_tier': 'on_demand', 'finish_reason': 'stop', 'logprobs': None}, id='run--b4d1b90f-10c8-4410-861a-283b2c089dc1-0', usage_metadata={'input_tokens': 17, 'output_tokens': 28, 'total_tokens': 45})]}"
      ]
     },
     "execution_count": 31,
     "metadata": {},
     "output_type": "execute_result"
    }
   ],
   "source": [
    "graph_builder.invoke({\n",
    "    \"messages\":[{\"role\":\"user\", \"content\":\"good mornig,i just woke up\"}]\n",
    "})"
   ]
  },
  {
   "cell_type": "markdown",
   "metadata": {},
   "source": [
    "# 8️⃣ Streaming Responses"
   ]
  },
  {
   "cell_type": "code",
   "execution_count": 32,
   "metadata": {},
   "outputs": [],
   "source": [
    "stream = graph_builder.stream({\n",
    "    \"messages\": [{ \"role\":\"user\", \"content\":\"Time to plan my morning routine\"}]\n",
    "\n",
    "\n",
    "})"
   ]
  },
  {
   "cell_type": "code",
   "execution_count": 33,
   "metadata": {},
   "outputs": [
    {
     "name": "stdout",
     "output_type": "stream",
     "text": [
      "{'Superbot': {'messages': [AIMessage(content=\"Let's craft the perfect morning routine for you!  To make sure it's tailored just right, tell me:\\n\\n**1. What time do you need to wake up?**\\n**2. What are your goals for your morning routine?** (e.g., be more productive, feel more energized, have time for relaxation, practice mindfulness, etc.)\\n**3. What do you already enjoy doing in the morning?**\\n**4. What are your biggest morning challenges?** (e.g., hitting snooze, feeling groggy, rushing out the door)\\n**5. How much time do you realistically have each morning?**\\n\\n\\nOnce I have this information, I can suggest a personalized routine that works for you! \\n\\n\", additional_kwargs={}, response_metadata={'token_usage': {'completion_tokens': 159, 'prompt_tokens': 15, 'total_tokens': 174, 'completion_time': 0.289090909, 'prompt_time': 0.00128562, 'queue_time': 0.248638541, 'total_time': 0.290376529}, 'model_name': 'Gemma2-9b-It', 'system_fingerprint': 'fp_10c08bf97d', 'service_tier': 'on_demand', 'finish_reason': 'stop', 'logprobs': None}, id='run--f732c6a5-3289-4159-805f-e89a16d90f1b-0', usage_metadata={'input_tokens': 15, 'output_tokens': 159, 'total_tokens': 174})]}}\n"
     ]
    }
   ],
   "source": [
    "for event in stream:\n",
    "    print(event)"
   ]
  },
  {
   "cell_type": "markdown",
   "metadata": {},
   "source": [
    "- Default mode: Updates only the latest message.\n",
    "- Stream mode = \"values\": Shows all messages including human and AI responses.\n",
    "- Allows real-time message streaming."
   ]
  }
 ],
 "metadata": {
  "kernelspec": {
   "display_name": "venv",
   "language": "python",
   "name": "python3"
  },
  "language_info": {
   "codemirror_mode": {
    "name": "ipython",
    "version": 3
   },
   "file_extension": ".py",
   "mimetype": "text/x-python",
   "name": "python",
   "nbconvert_exporter": "python",
   "pygments_lexer": "ipython3",
   "version": "3.10.11"
  }
 },
 "nbformat": 4,
 "nbformat_minor": 2
}
