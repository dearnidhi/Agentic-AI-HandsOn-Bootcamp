{
 "cells": [
  {
   "cell_type": "markdown",
   "metadata": {},
   "source": [
    "State Schema With DataClasses (Beverage Example)\n",
    "\n",
    "- When we define a LangGraph StateGraph, we use a state schema.\n",
    "- The state schema represents the structure and type of data that the graph will work with.\n",
    "- All nodes in the graph communicate using this schema.\n",
    "- LangGraph allows flexibility in defining the state schema using TypedDict, dataclasses,or even Pydantic.\n",
    "- Here, we’ll demonstrate TypedDict and dataclasses using a beverage selection workflow."
   ]
  },
  {
   "cell_type": "markdown",
   "metadata": {},
   "source": [
    "we can use the TypedDict class from python's typing module.\n",
    "It allows you to specify keys and their corresponding value types.\n",
    "But, note that these are type hints.\n",
    "They can be used by static type checkers (like mypy) or IDEs to catch potential type-related errors before the code is run.\n",
    "But they are not enforced at runtime!"
   ]
  },
  {
   "cell_type": "markdown",
   "metadata": {},
   "source": [
    "# Why we use TypedDict & Dataclasses in LangGraph\n",
    "\n",
    "LangGraph passes **state** between nodes. **TypedDict** and **Dataclasses** define the **state schema** (structure & types of data).\n",
    "\n",
    "## TypedDict\n",
    "- Dictionary-style state with type hints.\n",
    "- Lightweight, JSON-friendly.\n",
    "- Runtime not enforced: wrong types still run.\n",
    "- **Example:** `graph.invoke({\"name\": 123}) ✅ works even if int`.\n",
    "\n",
    "## Dataclass\n",
    "- Object-style state, type-safe.\n",
    "- Supports defaults, runtime validation.\n",
    "- Must pass correct types: `graph.invoke(DataClassState(name=\"Alice\")) ✅ works`.\n",
    "\n",
    "## Benefits in LangGraph\n",
    "- Predictable state structure\n",
    "- Safe conditional logic\n",
    "- Easier debugging & visualization\n",
    "- IDE autocomplete & type checking\n"
   ]
  },
  {
   "cell_type": "markdown",
   "metadata": {},
   "source": [
    "| Aspect            | TypedDict                                                                         | Dataclass                                                                                                                   |\n",
    "| ----------------- | --------------------------------------------------------------------------------- | --------------------------------------------------------------------------------------------------------------------------- |\n",
    "| Input flexibility | You can pass any dictionary at runtime (`{\"name\": 123}`) — no runtime type check. | You **must** pass an instance of the dataclass (`State(name=\"Alice\")`). If you pass a dict, it will raise an error.         |\n",
    "| Type enforcement  | Only type hints, not enforced at runtime.                                         | Dataclass enforces structure (field names), but Python doesn’t strictly enforce types at runtime unless you add validation. |\n"
   ]
  },
  {
   "cell_type": "markdown",
   "metadata": {},
   "source": [
    "✅ Takeaway:\n",
    "\n",
    "TypedDict = more flexible for quick experiments.\n",
    "\n",
    "Dataclass = safer, structured, better for large/complex graphs, but stricter."
   ]
  },
  {
   "cell_type": "code",
   "execution_count": null,
   "metadata": {},
   "outputs": [],
   "source": [
    "# # TypedDict\n",
    "# graph.invoke({\"name\": 123})  # ✅ works, even if '123' is int\n",
    "\n",
    "# # Dataclass\n",
    "# graph.invoke({\"name\": 123})  # ❌ TypeError, must do:\n",
    "# graph.invoke(State(name=123))  # ✅ works\n"
   ]
  },
  {
   "cell_type": "markdown",
   "metadata": {},
   "source": [
    "Literal - fixed set of allowed values"
   ]
  },
  {
   "cell_type": "markdown",
   "metadata": {},
   "source": [
    "# 1️⃣ TypedDict Version"
   ]
  },
  {
   "cell_type": "markdown",
   "metadata": {},
   "source": [
    "A dictionary with type hints (TypedDict) for keys/values"
   ]
  },
  {
   "cell_type": "code",
   "execution_count": null,
   "metadata": {},
   "outputs": [],
   "source": [
    "from typing_extensions import TypedDict\n",
    "from typing import Literal\n",
    "import random\n",
    "from IPython.display import Image, display\n",
    "from langgraph.graph import StateGraph, START, END\n"
   ]
  },
  {
   "cell_type": "code",
   "execution_count": null,
   "metadata": {},
   "outputs": [],
   "source": [
    "# ---------------------------\n",
    "# Define the state schema\n",
    "# ---------------------------\n",
    "class TypedDictState(TypedDict):\n",
    "    name: str\n",
    "    beverage: Literal[\"Tea\", \"Coffee\"]"
   ]
  },
  {
   "cell_type": "code",
   "execution_count": 7,
   "metadata": {},
   "outputs": [],
   "source": [
    "# ---------------------------\n",
    "# Node functions\n",
    "# ---------------------------\n",
    "def choose_beverage(state: TypedDictState):\n",
    "    print(\"---Choose Beverage node has been called---\")\n",
    "    return {\"name\": str(state['name']) + \" wants a beverage\"}\n",
    "\n",
    "def tea(state: TypedDictState):\n",
    "    print(\"-- Tea node has been called --\")\n",
    "    return {\"name\": str(state['name']) + \" chose Tea\", \"beverage\": \"Tea\"}\n",
    "\n",
    "def coffee(state: TypedDictState):\n",
    "    print(\"-- Coffee node has been called --\")\n",
    "    return {\"name\": str(state['name']) + \" chose Coffee\", \"beverage\": \"Coffee\"}"
   ]
  },
  {
   "cell_type": "code",
   "execution_count": 9,
   "metadata": {},
   "outputs": [],
   "source": [
    "# ---------------------------\n",
    "# Decide function - FIXED\n",
    "# ---------------------------\n",
    "def decide_beverage(state: TypedDictState) -> Literal[\"tea\", \"coffee\"]:\n",
    "    # Make sure we return the exact node names that exist in the graph\n",
    "    choice = \"tea\" if random.random() < 0.5 else \"coffee\"\n",
    "    print(f\"---Decision: going to {choice} node---\")\n",
    "    return choice\n"
   ]
  },
  {
   "cell_type": "code",
   "execution_count": 10,
   "metadata": {},
   "outputs": [
    {
     "data": {
      "image/png": "[encoded data removed]",
      "text/plain": [
       "<IPython.core.display.Image object>"
      ]
     },
     "metadata": {},
     "output_type": "display_data"
    }
   ],
   "source": [
    "# ---------------------------\n",
    "# Build the graph - FIXED STRUCTURE\n",
    "# ---------------------------\n",
    "builder = StateGraph(TypedDictState)\n",
    "\n",
    "# Add nodes\n",
    "builder.add_node(\"choose_beverage\", choose_beverage)\n",
    "builder.add_node(\"tea\", tea)\n",
    "builder.add_node(\"coffee\", coffee)\n",
    "\n",
    "# Define flow - FIXED EDGES\n",
    "builder.add_edge(START, \"choose_beverage\")\n",
    "builder.add_conditional_edges(\n",
    "    \"choose_beverage\",\n",
    "    decide_beverage,\n",
    "    {\n",
    "        \"tea\": \"tea\",      # Maps to tea node\n",
    "        \"coffee\": \"coffee\"  # Maps to coffee node\n",
    "    }\n",
    ")\n",
    "builder.add_edge(\"tea\", END)\n",
    "builder.add_edge(\"coffee\", END)\n",
    "\n",
    "# Compile and display graph\n",
    "graph = builder.compile()\n",
    "display(Image(graph.get_graph().draw_mermaid_png()))"
   ]
  },
  {
   "cell_type": "code",
   "execution_count": 11,
   "metadata": {},
   "outputs": [
    {
     "name": "stdout",
     "output_type": "stream",
     "text": [
      "\n",
      "=== First invocation ===\n",
      "---Choose Beverage node has been called---\n",
      "---Decision: going to tea node---\n",
      "-- Tea node has been called --\n",
      "Final result: {'name': 'Alice wants a beverage chose Tea', 'beverage': 'Tea'}\n"
     ]
    }
   ],
   "source": [
    "# ---------------------------\n",
    "# Invoke the graph\n",
    "# ---------------------------\n",
    "print(\"\\n=== First invocation ===\")\n",
    "result1 = graph.invoke({\"name\": \"Alice\"})\n",
    "print(f\"Final result: {result1}\")"
   ]
  },
  {
   "cell_type": "code",
   "execution_count": 12,
   "metadata": {},
   "outputs": [
    {
     "name": "stdout",
     "output_type": "stream",
     "text": [
      "\n",
      "=== Second invocation ===\n",
      "---Choose Beverage node has been called---\n",
      "---Decision: going to tea node---\n",
      "-- Tea node has been called --\n",
      "Final result: {'name': '123 wants a beverage chose Tea', 'beverage': 'Tea'}\n"
     ]
    }
   ],
   "source": [
    "\n",
    "\n",
    "print(\"\\n=== Second invocation ===\")\n",
    "result2 = graph.invoke({\"name\": 123})\n",
    "print(f\"Final result: {result2}\")"
   ]
  },
  {
   "cell_type": "markdown",
   "metadata": {},
   "source": [
    "### Dataclasses\n",
    "A Python class for structured data, primarily storing attributes"
   ]
  },
  {
   "cell_type": "code",
   "execution_count": 13,
   "metadata": {},
   "outputs": [],
   "source": [
    "from dataclasses import dataclass\n",
    "from typing import Literal\n",
    "import random\n",
    "from IPython.display import Image, display\n",
    "from langgraph.graph import StateGraph, START, END\n"
   ]
  },
  {
   "cell_type": "code",
   "execution_count": 14,
   "metadata": {},
   "outputs": [],
   "source": [
    "@dataclass\n",
    "class DataClassState:\n",
    "    name: str\n",
    "    beverage: Literal[\"Tea\", \"Coffee\"] = None  # Make beverage optional"
   ]
  },
  {
   "cell_type": "code",
   "execution_count": 15,
   "metadata": {},
   "outputs": [],
   "source": [
    "\n",
    "def choose_beverage(state: DataClassState):\n",
    "    print(\"---Choose Beverage node has been called---\")\n",
    "    # Return as dictionary for state update\n",
    "    return {\"name\": state.name + \" wants a beverage\"}\n",
    "\n",
    "def tea(state: DataClassState):\n",
    "    print(\"-- Tea node has been called --\")\n",
    "    return {\"name\": state.name + \" chose Tea\", \"beverage\": \"Tea\"}\n",
    "\n",
    "def coffee(state: DataClassState):\n",
    "    print(\"-- Coffee node has been called --\")\n",
    "    return {\"name\": state.name + \" chose Coffee\", \"beverage\": \"Coffee\"}"
   ]
  },
  {
   "cell_type": "code",
   "execution_count": 16,
   "metadata": {},
   "outputs": [],
   "source": [
    "# Fixed: Add explicit mapping for conditional edges\n",
    "def decide_beverage(state: DataClassState) -> Literal[\"tea\", \"coffee\"]:\n",
    "    choice = \"tea\" if random.random() < 0.5 else \"coffee\"\n",
    "    print(f\"---Decision: going to {choice} node---\")\n",
    "    return choice"
   ]
  },
  {
   "cell_type": "code",
   "execution_count": 17,
   "metadata": {},
   "outputs": [
    {
     "data": {
      "image/png": "[encoded data removed]",
      "text/plain": [
       "<IPython.core.display.Image object>"
      ]
     },
     "metadata": {},
     "output_type": "display_data"
    }
   ],
   "source": [
    "builder = StateGraph(DataClassState)\n",
    "builder.add_node(\"choose_beverage\", choose_beverage)\n",
    "builder.add_node(\"tea\", tea)\n",
    "builder.add_node(\"coffee\", coffee)\n",
    "\n",
    "builder.add_edge(START, \"choose_beverage\")\n",
    "# FIXED: Add explicit mapping for conditional edges\n",
    "builder.add_conditional_edges(\n",
    "    \"choose_beverage\",\n",
    "    decide_beverage,\n",
    "    {\n",
    "        \"tea\": \"tea\",\n",
    "        \"coffee\": \"coffee\"\n",
    "    }\n",
    ")\n",
    "builder.add_edge(\"tea\", END)\n",
    "builder.add_edge(\"coffee\", END)\n",
    "\n",
    "graph = builder.compile()\n",
    "display(Image(graph.get_graph().draw_mermaid_png()))"
   ]
  },
  {
   "cell_type": "code",
   "execution_count": 18,
   "metadata": {},
   "outputs": [
    {
     "name": "stdout",
     "output_type": "stream",
     "text": [
      "---Choose Beverage node has been called---\n",
      "---Decision: going to tea node---\n",
      "-- Tea node has been called --\n"
     ]
    },
    {
     "data": {
      "text/plain": [
       "{'name': 'Alice wants a beverage chose Tea', 'beverage': 'Tea'}"
      ]
     },
     "execution_count": 18,
     "metadata": {},
     "output_type": "execute_result"
    }
   ],
   "source": [
    "\n",
    "# FIXED: Invoke with proper initial state\n",
    "graph.invoke(DataClassState(name=\"Alice\", beverage=None))"
   ]
  },
  {
   "cell_type": "code",
   "execution_count": 19,
   "metadata": {},
   "outputs": [
    {
     "name": "stdout",
     "output_type": "stream",
     "text": [
      "---Choose Beverage node has been called---\n",
      "---Decision: going to coffee node---\n",
      "-- Coffee node has been called --\n"
     ]
    },
    {
     "data": {
      "text/plain": [
       "{'name': '123 wants a beverage chose Coffee', 'beverage': 'Coffee'}"
      ]
     },
     "execution_count": 19,
     "metadata": {},
     "output_type": "execute_result"
    }
   ],
   "source": [
    "# Alternative: Invoke with dictionary instead of dataclass instance\n",
    "graph.invoke({\"name\": \"123\", \"beverage\": None})"
   ]
  }
 ],
 "metadata": {
  "kernelspec": {
   "display_name": "venv",
   "language": "python",
   "name": "python3"
  },
  "language_info": {
   "codemirror_mode": {
    "name": "ipython",
    "version": 3
   },
   "file_extension": ".py",
   "mimetype": "text/x-python",
   "name": "python",
   "nbconvert_exporter": "python",
   "pygments_lexer": "ipython3",
   "version": "3.10.11"
  }
 },
 "nbformat": 4,
 "nbformat_minor": 2
}
