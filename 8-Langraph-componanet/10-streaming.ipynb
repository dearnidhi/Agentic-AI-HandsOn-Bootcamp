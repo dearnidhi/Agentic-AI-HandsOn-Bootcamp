{
 "cells": [
  {
   "cell_type": "markdown",
   "metadata": {},
   "source": [
    "### Implementing simple Chatbot Using LangGraph"
   ]
  },
  {
   "cell_type": "markdown",
   "metadata": {},
   "source": [
    "# LangGraph Streaming Simplified\n",
    "\n",
    "## 1️⃣ **streaming in LangGraph**, \n",
    "which is how the system sends back outputs **while a workflow is running**.  \n",
    "\n",
    "Instead of waiting for the whole workflow to finish, streaming allows us to see **partial or real-time results**.\n",
    "\n",
    "### Streaming Methods\n",
    "\n",
    "- `dot_stream` → synchronous  \n",
    "- `stream` → asynchronous  \n",
    "\n",
    "### Key Parameters\n",
    "\n",
    "- `mode=\"values\"` → Streams the **full state** of the graph after each node.  \n",
    "- `mode=\"updates\"` → Streams **only the recent updates** to the graph state.\n",
    "\n",
    "---\n",
    "\n",
    "## 2️⃣ Understanding `values` vs `updates`\n",
    "\n",
    "Think of your graph as a **notebook** where you write messages:\n",
    "\n",
    "| Mode      | What you see in stream                  |\n",
    "|----------|----------------------------------------|\n",
    "| updates  | Only the **latest entry** in your notebook. |\n",
    "| values   | **Everything** in the notebook so far. |\n",
    "\n",
    "### Example:\n",
    "\n",
    "Graph nodes: `Node1 → Node2 → Node3`  \n",
    "State variable: `messages`\n",
    "\n",
    "- Node1 executes → messages = \"Hi\"\n",
    "- Node2 executes → messages = \"My name is Chris\"\n",
    "- Node3 executes → messages = \"I like cricket\"\n",
    "\n",
    "\n",
    "- `mode=\"updates\"` → Streams:  \n",
    "\"Hi\" → \"My name is Chris\" → \"I like cricket\"\n",
    "\n",
    "- `mode=\"values\"` → Streams:  \n",
    "\"Hi\" → \"Hi, My name is Chris\" → \"Hi, My name is Chris, I like cricket\"\n",
    "\n",
    "\n",
    "✅ **Summary:**  \n",
    "- `updates` = partial / recent change  \n",
    "- `values` = cumulative / full history\n",
    "\n",
    "---\n",
    "\n",
    "## 3️⃣ How it works in code\n",
    "\n",
    "1. **Create a graph** with nodes and edges.  \n",
    "2. **Define a state object** to store messages.  \n",
    "3. Use `.dot_stream()` or `.stream()` to get the results.\n"
   ]
  },
  {
   "cell_type": "markdown",
   "metadata": {},
   "source": [
    "## 4️⃣ Streaming Events\n",
    "\n",
    "With the `.stream()` method, you can also get **metadata** about each step of the workflow:\n",
    "\n",
    "| Field  | Description |\n",
    "|--------|-------------|\n",
    "| `event` | Type of action (e.g., chat model starts, node executed) |\n",
    "| `name`  | Name of the event |\n",
    "| `data`  | Actual information (messages, tokens, etc.) |"
   ]
  },
  {
   "cell_type": "markdown",
   "metadata": {},
   "source": [
    "## 5️⃣ Key Takeaways\n",
    "\n",
    "- `dot_stream()` or `stream()` → Both **stream results** while the workflow executes.  \n",
    "- `updates` → Streams **only the most recent change**.  \n",
    "- `values` → Streams the **full graph state** so far.  \n",
    "- `.stream_events()` → Provides **detailed metadata** for each step, useful for debugging or visualizing events in the graph.\n"
   ]
  },
  {
   "cell_type": "code",
   "execution_count": 39,
   "metadata": {},
   "outputs": [],
   "source": [
    "from typing_extensions import TypedDict\n",
    "\n",
    "from langgraph.graph import StateGraph, START, END\n",
    "\n",
    "## Reducers\n",
    "from typing import Annotated\n",
    "from langgraph.graph.message import add_messages"
   ]
  },
  {
   "cell_type": "code",
   "execution_count": 40,
   "metadata": {},
   "outputs": [],
   "source": [
    "class State(TypedDict):\n",
    "    messages:Annotated[list,add_messages]"
   ]
  },
  {
   "cell_type": "code",
   "execution_count": 41,
   "metadata": {},
   "outputs": [],
   "source": [
    "import os\n",
    "from dotenv import load_dotenv\n",
    "load_dotenv()\n",
    "\n",
    "#os.environ[\"OPENAI_API_KEY\"]=os.getenv(\"OPENAI_API_KEY\")\n",
    "os.environ[\"GROQ_API_KEY\"]=os.getenv(\"GROQ_API_KEY\")\n"
   ]
  },
  {
   "cell_type": "code",
   "execution_count": 42,
   "metadata": {},
   "outputs": [],
   "source": [
    "# from langchain_openai import ChatOpenAI\n",
    "# llm=ChatOpenAI(model=\"gpt-4o\")\n",
    "# llm.invoke(\"Hello\")"
   ]
  },
  {
   "cell_type": "code",
   "execution_count": 43,
   "metadata": {},
   "outputs": [
    {
     "data": {
      "text/plain": [
       "AIMessage(content=\"Hello Nidhi, nice to meet you. It's great to hear that you like playing cricket. Cricket is a fantastic sport that requires skill, strategy, and teamwork. Are you more of a batswoman, bowler, or an all-rounder?\", additional_kwargs={}, response_metadata={'token_usage': {'completion_tokens': 54, 'prompt_tokens': 47, 'total_tokens': 101, 'completion_time': 0.077297138, 'prompt_time': 0.002184999, 'queue_time': 0.045209627, 'total_time': 0.079482137}, 'model_name': 'llama-3.1-8b-instant', 'system_fingerprint': 'fp_e32974efee', 'service_tier': 'on_demand', 'finish_reason': 'stop', 'logprobs': None}, id='run--b1053cc4-891d-461f-9e7d-02e7ca0d3a1e-0', usage_metadata={'input_tokens': 47, 'output_tokens': 54, 'total_tokens': 101})"
      ]
     },
     "execution_count": 43,
     "metadata": {},
     "output_type": "execute_result"
    }
   ],
   "source": [
    "from langchain_groq import ChatGroq\n",
    "\n",
    "llm_groq=ChatGroq(model=\"llama-3.1-8b-instant\")\n",
    "llm_groq.invoke(\"Hey I am Nidhi and i like to play cricket\")"
   ]
  },
  {
   "cell_type": "markdown",
   "metadata": {},
   "source": [
    "### We Will start With Creating Nodes"
   ]
  },
  {
   "cell_type": "code",
   "execution_count": 44,
   "metadata": {},
   "outputs": [],
   "source": [
    "from langgraph.checkpoint.memory import MemorySaver\n",
    "memory=MemorySaver()\n",
    "def superbot(state:State):\n",
    "    return {\"messages\":[llm_groq.invoke(state['messages'])]}"
   ]
  },
  {
   "cell_type": "code",
   "execution_count": 45,
   "metadata": {},
   "outputs": [
    {
     "data": {
      "image/png": "[encoded data removed]",
      "text/plain": [
       "<IPython.core.display.Image object>"
      ]
     },
     "metadata": {},
     "output_type": "display_data"
    }
   ],
   "source": [
    "graph=StateGraph(State)\n",
    "\n",
    "## node\n",
    "graph.add_node(\"SuperBot\",superbot)\n",
    "## Edges\n",
    "\n",
    "graph.add_edge(START,\"SuperBot\")\n",
    "graph.add_edge(\"SuperBot\",END)\n",
    "\n",
    "\n",
    "graph_builder=graph.compile(checkpointer=memory)\n",
    "\n",
    "\n",
    "## Display\n",
    "from IPython.display import Image, display\n",
    "display(Image(graph_builder.get_graph().draw_mermaid_png()))"
   ]
  },
  {
   "cell_type": "code",
   "execution_count": 46,
   "metadata": {},
   "outputs": [
    {
     "data": {
      "text/plain": [
       "{'messages': [HumanMessage(content='Hi,My name is Nidhi And I like cricket', additional_kwargs={}, response_metadata={}, id='fa9359e2-6dd4-4752-bcea-565a2e54f70a'),\n",
       "  AIMessage(content='Nice to meet you, Nidhi!  Cricket is a fantastic sport with a massive global following. Which aspect of cricket do you enjoy the most - batting, bowling, fielding, or following a particular team or player?\\n\\nAre you a fan of international cricket or domestic leagues like the IPL?', additional_kwargs={}, response_metadata={'token_usage': {'completion_tokens': 61, 'prompt_tokens': 47, 'total_tokens': 108, 'completion_time': 0.115075296, 'prompt_time': 0.00219837, 'queue_time': 0.045481869, 'total_time': 0.117273666}, 'model_name': 'llama-3.1-8b-instant', 'system_fingerprint': 'fp_7b3cfae3af', 'service_tier': 'on_demand', 'finish_reason': 'stop', 'logprobs': None}, id='run--af28f645-6612-4a42-8521-498fdb415e9d-0', usage_metadata={'input_tokens': 47, 'output_tokens': 61, 'total_tokens': 108})]}"
      ]
     },
     "execution_count": 46,
     "metadata": {},
     "output_type": "execute_result"
    }
   ],
   "source": [
    "## Invocation\n",
    "\n",
    "config = {\"configurable\": {\"thread_id\": \"1\"}}\n",
    "\n",
    "graph_builder.invoke({'messages':\"Hi,My name is Nidhi And I like cricket\"},config)"
   ]
  },
  {
   "cell_type": "markdown",
   "metadata": {},
   "source": [
    "### Streaming \n",
    "Methods: .stream() and astream()\n",
    "\n",
    "- These methods are sync and async methods for streaming back results.\n",
    "\n",
    "Additional parameters in streaming modes for graph state\n",
    "\n",
    "- **values** : This streams the full state of the graph after each node is called.\n",
    "- **updates** : This streams updates to the state of the graph after each node is called.\n",
    "\n"
   ]
  },
  {
   "cell_type": "markdown",
   "metadata": {},
   "source": [
    "#### Streaming The Responses With Stream Method"
   ]
  },
  {
   "cell_type": "code",
   "execution_count": 47,
   "metadata": {},
   "outputs": [
    {
     "name": "stdout",
     "output_type": "stream",
     "text": [
      "{'SuperBot': {'messages': [AIMessage(content=\"Hello Nidhi. It's great to hear that you like cricket. Cricket is one of the most popular sports in the world, and it has a huge following in many countries. \\n\\nWhich team or player is your favorite in cricket? Do you like watching the Indian Premier League (IPL), International Cricket Council (ICC) tournaments, or Test cricket?\", additional_kwargs={}, response_metadata={'token_usage': {'completion_tokens': 73, 'prompt_tokens': 47, 'total_tokens': 120, 'completion_time': 0.111632135, 'prompt_time': 0.002508505, 'queue_time': 0.044477531, 'total_time': 0.11414064}, 'model_name': 'llama-3.1-8b-instant', 'system_fingerprint': 'fp_7b3cfae3af', 'service_tier': 'on_demand', 'finish_reason': 'stop', 'logprobs': None}, id='run--ac8fee9d-4130-4df6-9bfe-38cd397f5763-0', usage_metadata={'input_tokens': 47, 'output_tokens': 73, 'total_tokens': 120})]}}\n"
     ]
    }
   ],
   "source": [
    "# Create a thread\n",
    "config = {\"configurable\": {\"thread_id\": \"3\"}}\n",
    "\n",
    "for chunk in graph_builder.stream({'messages':\"Hi,My name is Nidhi And I like cricket\"},config,stream_mode=\"updates\"):\n",
    "    print(chunk)"
   ]
  },
  {
   "cell_type": "code",
   "execution_count": 48,
   "metadata": {},
   "outputs": [
    {
     "name": "stdout",
     "output_type": "stream",
     "text": [
      "{'messages': [HumanMessage(content='Hi,My name is Nidhi And I like cricket', additional_kwargs={}, response_metadata={}, id='d7b61e6b-8693-4ca8-b849-5620e4aa360c'), AIMessage(content=\"Hello Nidhi. It's great to hear that you like cricket. Cricket is one of the most popular sports in the world, and it has a huge following in many countries. \\n\\nWhich team or player is your favorite in cricket? Do you like watching the Indian Premier League (IPL), International Cricket Council (ICC) tournaments, or Test cricket?\", additional_kwargs={}, response_metadata={'token_usage': {'completion_tokens': 73, 'prompt_tokens': 47, 'total_tokens': 120, 'completion_time': 0.111632135, 'prompt_time': 0.002508505, 'queue_time': 0.044477531, 'total_time': 0.11414064}, 'model_name': 'llama-3.1-8b-instant', 'system_fingerprint': 'fp_7b3cfae3af', 'service_tier': 'on_demand', 'finish_reason': 'stop', 'logprobs': None}, id='run--ac8fee9d-4130-4df6-9bfe-38cd397f5763-0', usage_metadata={'input_tokens': 47, 'output_tokens': 73, 'total_tokens': 120}), HumanMessage(content='I also like football', additional_kwargs={}, response_metadata={}, id='c899f8f6-138f-4e85-9b9b-19d14b142c4e')]}\n",
      "{'messages': [HumanMessage(content='Hi,My name is Nidhi And I like cricket', additional_kwargs={}, response_metadata={}, id='d7b61e6b-8693-4ca8-b849-5620e4aa360c'), AIMessage(content=\"Hello Nidhi. It's great to hear that you like cricket. Cricket is one of the most popular sports in the world, and it has a huge following in many countries. \\n\\nWhich team or player is your favorite in cricket? Do you like watching the Indian Premier League (IPL), International Cricket Council (ICC) tournaments, or Test cricket?\", additional_kwargs={}, response_metadata={'token_usage': {'completion_tokens': 73, 'prompt_tokens': 47, 'total_tokens': 120, 'completion_time': 0.111632135, 'prompt_time': 0.002508505, 'queue_time': 0.044477531, 'total_time': 0.11414064}, 'model_name': 'llama-3.1-8b-instant', 'system_fingerprint': 'fp_7b3cfae3af', 'service_tier': 'on_demand', 'finish_reason': 'stop', 'logprobs': None}, id='run--ac8fee9d-4130-4df6-9bfe-38cd397f5763-0', usage_metadata={'input_tokens': 47, 'output_tokens': 73, 'total_tokens': 120}), HumanMessage(content='I also like football', additional_kwargs={}, response_metadata={}, id='c899f8f6-138f-4e85-9b9b-19d14b142c4e'), AIMessage(content=\"You're a sports enthusiast, Nidhi. Both cricket and football are extremely popular sports with a massive global following. It's great that you enjoy watching and following both sports.\\n\\nDo you have a favorite football team or league, such as the English Premier League, La Liga, or the Bundesliga? Or do you like watching the Indian Super League (ISL) or the Indian national football team?\\n\\nAlso, have you ever thought about how cricket and football are two different sports with unique cultures and fan bases? The excitement, the thrill, and the strategies involved in both sports are quite different, but both have their own charm.\", additional_kwargs={}, response_metadata={'token_usage': {'completion_tokens': 127, 'prompt_tokens': 133, 'total_tokens': 260, 'completion_time': 0.214460815, 'prompt_time': 0.007253656, 'queue_time': 0.04503728, 'total_time': 0.221714471}, 'model_name': 'llama-3.1-8b-instant', 'system_fingerprint': 'fp_e32974efee', 'service_tier': 'on_demand', 'finish_reason': 'stop', 'logprobs': None}, id='run--6ec536db-e3ea-4098-95b0-2a8882f4762d-0', usage_metadata={'input_tokens': 133, 'output_tokens': 127, 'total_tokens': 260})]}\n"
     ]
    }
   ],
   "source": [
    "for chunk in graph_builder.stream({'messages':\"I also like football\"},config,stream_mode=\"values\"):\n",
    "    print(chunk)"
   ]
  },
  {
   "cell_type": "code",
   "execution_count": 49,
   "metadata": {},
   "outputs": [
    {
     "name": "stdout",
     "output_type": "stream",
     "text": [
      "{'SuperBot': {'messages': [AIMessage(content=\"It seems like you're a fan of both football and football. I'm assuming you meant that you like football in general, and you didn't mean to say it twice.\\n\\nIn that case, what is it about football that you enjoy the most? Is it the skill and technique required by the players, the teamwork and strategy involved, or the excitement and unpredictability of the game?\\n\\nAnd do you have a favorite football position, such as goalkeeper, defender, midfielder, or forward?\", additional_kwargs={}, response_metadata={'token_usage': {'completion_tokens': 98, 'prompt_tokens': 274, 'total_tokens': 372, 'completion_time': 0.157640661, 'prompt_time': 0.015047833, 'queue_time': 0.045366297, 'total_time': 0.172688494}, 'model_name': 'llama-3.1-8b-instant', 'system_fingerprint': 'fp_ab04adca7d', 'service_tier': 'on_demand', 'finish_reason': 'stop', 'logprobs': None}, id='run--b0f797a9-2911-47c8-9488-bd6c19a8be04-0', usage_metadata={'input_tokens': 274, 'output_tokens': 98, 'total_tokens': 372})]}}\n"
     ]
    }
   ],
   "source": [
    "for chunk in graph_builder.stream({'messages':\"I also like football \"},config,stream_mode=\"updates\"):\n",
    "    print(chunk)"
   ]
  },
  {
   "cell_type": "code",
   "execution_count": 50,
   "metadata": {},
   "outputs": [
    {
     "name": "stdout",
     "output_type": "stream",
     "text": [
      "{'messages': [HumanMessage(content='Hi,My name is Nidhi And I like cricket', additional_kwargs={}, response_metadata={}, id='d7b61e6b-8693-4ca8-b849-5620e4aa360c'), AIMessage(content=\"Hello Nidhi. It's great to hear that you like cricket. Cricket is one of the most popular sports in the world, and it has a huge following in many countries. \\n\\nWhich team or player is your favorite in cricket? Do you like watching the Indian Premier League (IPL), International Cricket Council (ICC) tournaments, or Test cricket?\", additional_kwargs={}, response_metadata={'token_usage': {'completion_tokens': 73, 'prompt_tokens': 47, 'total_tokens': 120, 'completion_time': 0.111632135, 'prompt_time': 0.002508505, 'queue_time': 0.044477531, 'total_time': 0.11414064}, 'model_name': 'llama-3.1-8b-instant', 'system_fingerprint': 'fp_7b3cfae3af', 'service_tier': 'on_demand', 'finish_reason': 'stop', 'logprobs': None}, id='run--ac8fee9d-4130-4df6-9bfe-38cd397f5763-0', usage_metadata={'input_tokens': 47, 'output_tokens': 73, 'total_tokens': 120}), HumanMessage(content='I also like football', additional_kwargs={}, response_metadata={}, id='c899f8f6-138f-4e85-9b9b-19d14b142c4e'), AIMessage(content=\"You're a sports enthusiast, Nidhi. Both cricket and football are extremely popular sports with a massive global following. It's great that you enjoy watching and following both sports.\\n\\nDo you have a favorite football team or league, such as the English Premier League, La Liga, or the Bundesliga? Or do you like watching the Indian Super League (ISL) or the Indian national football team?\\n\\nAlso, have you ever thought about how cricket and football are two different sports with unique cultures and fan bases? The excitement, the thrill, and the strategies involved in both sports are quite different, but both have their own charm.\", additional_kwargs={}, response_metadata={'token_usage': {'completion_tokens': 127, 'prompt_tokens': 133, 'total_tokens': 260, 'completion_time': 0.214460815, 'prompt_time': 0.007253656, 'queue_time': 0.04503728, 'total_time': 0.221714471}, 'model_name': 'llama-3.1-8b-instant', 'system_fingerprint': 'fp_e32974efee', 'service_tier': 'on_demand', 'finish_reason': 'stop', 'logprobs': None}, id='run--6ec536db-e3ea-4098-95b0-2a8882f4762d-0', usage_metadata={'input_tokens': 133, 'output_tokens': 127, 'total_tokens': 260}), HumanMessage(content='I also like football ', additional_kwargs={}, response_metadata={}, id='bc840a1c-0d6b-479f-9529-9ca7e06131d6'), AIMessage(content=\"It seems like you're a fan of both football and football. I'm assuming you meant that you like football in general, and you didn't mean to say it twice.\\n\\nIn that case, what is it about football that you enjoy the most? Is it the skill and technique required by the players, the teamwork and strategy involved, or the excitement and unpredictability of the game?\\n\\nAnd do you have a favorite football position, such as goalkeeper, defender, midfielder, or forward?\", additional_kwargs={}, response_metadata={'token_usage': {'completion_tokens': 98, 'prompt_tokens': 274, 'total_tokens': 372, 'completion_time': 0.157640661, 'prompt_time': 0.015047833, 'queue_time': 0.045366297, 'total_time': 0.172688494}, 'model_name': 'llama-3.1-8b-instant', 'system_fingerprint': 'fp_ab04adca7d', 'service_tier': 'on_demand', 'finish_reason': 'stop', 'logprobs': None}, id='run--b0f797a9-2911-47c8-9488-bd6c19a8be04-0', usage_metadata={'input_tokens': 274, 'output_tokens': 98, 'total_tokens': 372}), HumanMessage(content='I Love sports ', additional_kwargs={}, response_metadata={}, id='5ece30aa-0fbb-4ee4-a4df-caa488c355b9')]}\n",
      "{'messages': [HumanMessage(content='Hi,My name is Nidhi And I like cricket', additional_kwargs={}, response_metadata={}, id='d7b61e6b-8693-4ca8-b849-5620e4aa360c'), AIMessage(content=\"Hello Nidhi. It's great to hear that you like cricket. Cricket is one of the most popular sports in the world, and it has a huge following in many countries. \\n\\nWhich team or player is your favorite in cricket? Do you like watching the Indian Premier League (IPL), International Cricket Council (ICC) tournaments, or Test cricket?\", additional_kwargs={}, response_metadata={'token_usage': {'completion_tokens': 73, 'prompt_tokens': 47, 'total_tokens': 120, 'completion_time': 0.111632135, 'prompt_time': 0.002508505, 'queue_time': 0.044477531, 'total_time': 0.11414064}, 'model_name': 'llama-3.1-8b-instant', 'system_fingerprint': 'fp_7b3cfae3af', 'service_tier': 'on_demand', 'finish_reason': 'stop', 'logprobs': None}, id='run--ac8fee9d-4130-4df6-9bfe-38cd397f5763-0', usage_metadata={'input_tokens': 47, 'output_tokens': 73, 'total_tokens': 120}), HumanMessage(content='I also like football', additional_kwargs={}, response_metadata={}, id='c899f8f6-138f-4e85-9b9b-19d14b142c4e'), AIMessage(content=\"You're a sports enthusiast, Nidhi. Both cricket and football are extremely popular sports with a massive global following. It's great that you enjoy watching and following both sports.\\n\\nDo you have a favorite football team or league, such as the English Premier League, La Liga, or the Bundesliga? Or do you like watching the Indian Super League (ISL) or the Indian national football team?\\n\\nAlso, have you ever thought about how cricket and football are two different sports with unique cultures and fan bases? The excitement, the thrill, and the strategies involved in both sports are quite different, but both have their own charm.\", additional_kwargs={}, response_metadata={'token_usage': {'completion_tokens': 127, 'prompt_tokens': 133, 'total_tokens': 260, 'completion_time': 0.214460815, 'prompt_time': 0.007253656, 'queue_time': 0.04503728, 'total_time': 0.221714471}, 'model_name': 'llama-3.1-8b-instant', 'system_fingerprint': 'fp_e32974efee', 'service_tier': 'on_demand', 'finish_reason': 'stop', 'logprobs': None}, id='run--6ec536db-e3ea-4098-95b0-2a8882f4762d-0', usage_metadata={'input_tokens': 133, 'output_tokens': 127, 'total_tokens': 260}), HumanMessage(content='I also like football ', additional_kwargs={}, response_metadata={}, id='bc840a1c-0d6b-479f-9529-9ca7e06131d6'), AIMessage(content=\"It seems like you're a fan of both football and football. I'm assuming you meant that you like football in general, and you didn't mean to say it twice.\\n\\nIn that case, what is it about football that you enjoy the most? Is it the skill and technique required by the players, the teamwork and strategy involved, or the excitement and unpredictability of the game?\\n\\nAnd do you have a favorite football position, such as goalkeeper, defender, midfielder, or forward?\", additional_kwargs={}, response_metadata={'token_usage': {'completion_tokens': 98, 'prompt_tokens': 274, 'total_tokens': 372, 'completion_time': 0.157640661, 'prompt_time': 0.015047833, 'queue_time': 0.045366297, 'total_time': 0.172688494}, 'model_name': 'llama-3.1-8b-instant', 'system_fingerprint': 'fp_ab04adca7d', 'service_tier': 'on_demand', 'finish_reason': 'stop', 'logprobs': None}, id='run--b0f797a9-2911-47c8-9488-bd6c19a8be04-0', usage_metadata={'input_tokens': 274, 'output_tokens': 98, 'total_tokens': 372}), HumanMessage(content='I Love sports ', additional_kwargs={}, response_metadata={}, id='5ece30aa-0fbb-4ee4-a4df-caa488c355b9'), AIMessage(content=\"You're a sports lover, Nidhi. It's great to see people who are passionate about sports and enjoy watching and following various games and competitions.\\n\\nSports have the power to bring people together, create a sense of community, and provide entertainment and excitement. Whether it's cricket, football, or any other sport, there's something special about watching talented athletes compete and pushing themselves to be their best.\\n\\nDo you ever play sports yourself, or are you more of a spectator?\", additional_kwargs={}, response_metadata={'token_usage': {'completion_tokens': 97, 'prompt_tokens': 385, 'total_tokens': 482, 'completion_time': 0.147031024, 'prompt_time': 0.021076841, 'queue_time': 0.045627969, 'total_time': 0.168107865}, 'model_name': 'llama-3.1-8b-instant', 'system_fingerprint': 'fp_33e8adf159', 'service_tier': 'on_demand', 'finish_reason': 'stop', 'logprobs': None}, id='run--cf71784c-8203-4ca8-8351-97d9b9828e12-0', usage_metadata={'input_tokens': 385, 'output_tokens': 97, 'total_tokens': 482})]}\n"
     ]
    }
   ],
   "source": [
    "for chunk in graph_builder.stream({'messages':\"I Love sports \"},config,stream_mode=\"values\"):\n",
    "    print(chunk)"
   ]
  },
  {
   "cell_type": "markdown",
   "metadata": {},
   "source": [
    "#### Streaming The Responses With astream Method\n",
    "\n",
    "**Streaming tokens**\n",
    "We often want to stream more than graph state.\n",
    "\n",
    "In particular, with chat model calls it is common to stream the **tokens** as they are generated.\n",
    "\n",
    "We can do this using the .astream_events method, which streams back events as they happen inside nodes!\n",
    "\n",
    "Each event is a dict with a few keys:\n",
    "\n",
    "- event: This is the type of event that is being emitted.\n",
    "- name: This is the name of event.\n",
    "- data: This is the data associated with the event.\n",
    "- metadata: Containslanggraph_node, the node emitting the event."
   ]
  },
  {
   "cell_type": "code",
   "execution_count": 51,
   "metadata": {},
   "outputs": [
    {
     "name": "stdout",
     "output_type": "stream",
     "text": [
      "{'event': 'on_chain_start', 'data': {'input': {'messages': ['Hi My name is Nidhi and I like to play cricket']}}, 'name': 'LangGraph', 'tags': [], 'run_id': '19dcd722-f436-4e7b-b39b-e935c5283b31', 'metadata': {'thread_id': '3'}, 'parent_ids': []}\n",
      "{'event': 'on_chain_start', 'data': {'input': {'messages': [HumanMessage(content='Hi,My name is Nidhi And I like cricket', additional_kwargs={}, response_metadata={}, id='d7b61e6b-8693-4ca8-b849-5620e4aa360c'), AIMessage(content=\"Hello Nidhi. It's great to hear that you like cricket. Cricket is one of the most popular sports in the world, and it has a huge following in many countries. \\n\\nWhich team or player is your favorite in cricket? Do you like watching the Indian Premier League (IPL), International Cricket Council (ICC) tournaments, or Test cricket?\", additional_kwargs={}, response_metadata={'token_usage': {'completion_tokens': 73, 'prompt_tokens': 47, 'total_tokens': 120, 'completion_time': 0.111632135, 'prompt_time': 0.002508505, 'queue_time': 0.044477531, 'total_time': 0.11414064}, 'model_name': 'llama-3.1-8b-instant', 'system_fingerprint': 'fp_7b3cfae3af', 'service_tier': 'on_demand', 'finish_reason': 'stop', 'logprobs': None}, id='run--ac8fee9d-4130-4df6-9bfe-38cd397f5763-0', usage_metadata={'input_tokens': 47, 'output_tokens': 73, 'total_tokens': 120}), HumanMessage(content='I also like football', additional_kwargs={}, response_metadata={}, id='c899f8f6-138f-4e85-9b9b-19d14b142c4e'), AIMessage(content=\"You're a sports enthusiast, Nidhi. Both cricket and football are extremely popular sports with a massive global following. It's great that you enjoy watching and following both sports.\\n\\nDo you have a favorite football team or league, such as the English Premier League, La Liga, or the Bundesliga? Or do you like watching the Indian Super League (ISL) or the Indian national football team?\\n\\nAlso, have you ever thought about how cricket and football are two different sports with unique cultures and fan bases? The excitement, the thrill, and the strategies involved in both sports are quite different, but both have their own charm.\", additional_kwargs={}, response_metadata={'token_usage': {'completion_tokens': 127, 'prompt_tokens': 133, 'total_tokens': 260, 'completion_time': 0.214460815, 'prompt_time': 0.007253656, 'queue_time': 0.04503728, 'total_time': 0.221714471}, 'model_name': 'llama-3.1-8b-instant', 'system_fingerprint': 'fp_e32974efee', 'service_tier': 'on_demand', 'finish_reason': 'stop', 'logprobs': None}, id='run--6ec536db-e3ea-4098-95b0-2a8882f4762d-0', usage_metadata={'input_tokens': 133, 'output_tokens': 127, 'total_tokens': 260}), HumanMessage(content='I also like football ', additional_kwargs={}, response_metadata={}, id='bc840a1c-0d6b-479f-9529-9ca7e06131d6'), AIMessage(content=\"It seems like you're a fan of both football and football. I'm assuming you meant that you like football in general, and you didn't mean to say it twice.\\n\\nIn that case, what is it about football that you enjoy the most? Is it the skill and technique required by the players, the teamwork and strategy involved, or the excitement and unpredictability of the game?\\n\\nAnd do you have a favorite football position, such as goalkeeper, defender, midfielder, or forward?\", additional_kwargs={}, response_metadata={'token_usage': {'completion_tokens': 98, 'prompt_tokens': 274, 'total_tokens': 372, 'completion_time': 0.157640661, 'prompt_time': 0.015047833, 'queue_time': 0.045366297, 'total_time': 0.172688494}, 'model_name': 'llama-3.1-8b-instant', 'system_fingerprint': 'fp_ab04adca7d', 'service_tier': 'on_demand', 'finish_reason': 'stop', 'logprobs': None}, id='run--b0f797a9-2911-47c8-9488-bd6c19a8be04-0', usage_metadata={'input_tokens': 274, 'output_tokens': 98, 'total_tokens': 372}), HumanMessage(content='I Love sports ', additional_kwargs={}, response_metadata={}, id='5ece30aa-0fbb-4ee4-a4df-caa488c355b9'), AIMessage(content=\"You're a sports lover, Nidhi. It's great to see people who are passionate about sports and enjoy watching and following various games and competitions.\\n\\nSports have the power to bring people together, create a sense of community, and provide entertainment and excitement. Whether it's cricket, football, or any other sport, there's something special about watching talented athletes compete and pushing themselves to be their best.\\n\\nDo you ever play sports yourself, or are you more of a spectator?\", additional_kwargs={}, response_metadata={'token_usage': {'completion_tokens': 97, 'prompt_tokens': 385, 'total_tokens': 482, 'completion_time': 0.147031024, 'prompt_time': 0.021076841, 'queue_time': 0.045627969, 'total_time': 0.168107865}, 'model_name': 'llama-3.1-8b-instant', 'system_fingerprint': 'fp_33e8adf159', 'service_tier': 'on_demand', 'finish_reason': 'stop', 'logprobs': None}, id='run--cf71784c-8203-4ca8-8351-97d9b9828e12-0', usage_metadata={'input_tokens': 385, 'output_tokens': 97, 'total_tokens': 482}), HumanMessage(content='Hi My name is Nidhi and I like to play cricket', additional_kwargs={}, response_metadata={}, id='353aa76b-4392-4e56-a5aa-5ae9baa10479')]}}, 'name': 'SuperBot', 'tags': ['graph:step:13'], 'run_id': '342837d2-07c5-4013-a664-c1135050f219', 'metadata': {'thread_id': '3', 'langgraph_step': 13, 'langgraph_node': 'SuperBot', 'langgraph_triggers': ('branch:to:SuperBot',), 'langgraph_path': ('__pregel_pull', 'SuperBot'), 'langgraph_checkpoint_ns': 'SuperBot:230356a4-1cdb-3f4a-8085-cfe2d06e2a25'}, 'parent_ids': ['19dcd722-f436-4e7b-b39b-e935c5283b31']}\n",
      "{'event': 'on_chain_stream', 'run_id': '342837d2-07c5-4013-a664-c1135050f219', 'name': 'SuperBot', 'tags': ['graph:step:13'], 'metadata': {'thread_id': '3', 'langgraph_step': 13, 'langgraph_node': 'SuperBot', 'langgraph_triggers': ('branch:to:SuperBot',), 'langgraph_path': ('__pregel_pull', 'SuperBot'), 'langgraph_checkpoint_ns': 'SuperBot:230356a4-1cdb-3f4a-8085-cfe2d06e2a25'}, 'data': {'chunk': {'messages': [AIMessage(content=\"Hello Nidhi. It's great to hear that you like to play cricket. Being an active player can be a lot of fun, and it's a great way to stay physically fit and develop your skills.\\n\\nWhat position do you usually play in cricket? Are you a batsman, bowler, or all-rounder? Do you have a favorite team or player that you look up to?\\n\\nAlso, do you play cricket with friends, in a local league, or with your school/college team?\", additional_kwargs={}, response_metadata={'token_usage': {'completion_tokens': 104, 'prompt_tokens': 504, 'total_tokens': 608, 'completion_time': 0.229536733, 'prompt_time': 0.02760287, 'queue_time': 0.04625042, 'total_time': 0.257139603}, 'model_name': 'llama-3.1-8b-instant', 'system_fingerprint': 'fp_33e8adf159', 'service_tier': 'on_demand', 'finish_reason': 'stop', 'logprobs': None}, id='run--9bc0c7ea-6927-4fb7-b38e-8204ac019cfa-0', usage_metadata={'input_tokens': 504, 'output_tokens': 104, 'total_tokens': 608})]}}, 'parent_ids': ['19dcd722-f436-4e7b-b39b-e935c5283b31']}\n",
      "{'event': 'on_chain_end', 'data': {'output': {'messages': [AIMessage(content=\"Hello Nidhi. It's great to hear that you like to play cricket. Being an active player can be a lot of fun, and it's a great way to stay physically fit and develop your skills.\\n\\nWhat position do you usually play in cricket? Are you a batsman, bowler, or all-rounder? Do you have a favorite team or player that you look up to?\\n\\nAlso, do you play cricket with friends, in a local league, or with your school/college team?\", additional_kwargs={}, response_metadata={'token_usage': {'completion_tokens': 104, 'prompt_tokens': 504, 'total_tokens': 608, 'completion_time': 0.229536733, 'prompt_time': 0.02760287, 'queue_time': 0.04625042, 'total_time': 0.257139603}, 'model_name': 'llama-3.1-8b-instant', 'system_fingerprint': 'fp_33e8adf159', 'service_tier': 'on_demand', 'finish_reason': 'stop', 'logprobs': None}, id='run--9bc0c7ea-6927-4fb7-b38e-8204ac019cfa-0', usage_metadata={'input_tokens': 504, 'output_tokens': 104, 'total_tokens': 608})]}, 'input': {'messages': [HumanMessage(content='Hi,My name is Nidhi And I like cricket', additional_kwargs={}, response_metadata={}, id='d7b61e6b-8693-4ca8-b849-5620e4aa360c'), AIMessage(content=\"Hello Nidhi. It's great to hear that you like cricket. Cricket is one of the most popular sports in the world, and it has a huge following in many countries. \\n\\nWhich team or player is your favorite in cricket? Do you like watching the Indian Premier League (IPL), International Cricket Council (ICC) tournaments, or Test cricket?\", additional_kwargs={}, response_metadata={'token_usage': {'completion_tokens': 73, 'prompt_tokens': 47, 'total_tokens': 120, 'completion_time': 0.111632135, 'prompt_time': 0.002508505, 'queue_time': 0.044477531, 'total_time': 0.11414064}, 'model_name': 'llama-3.1-8b-instant', 'system_fingerprint': 'fp_7b3cfae3af', 'service_tier': 'on_demand', 'finish_reason': 'stop', 'logprobs': None}, id='run--ac8fee9d-4130-4df6-9bfe-38cd397f5763-0', usage_metadata={'input_tokens': 47, 'output_tokens': 73, 'total_tokens': 120}), HumanMessage(content='I also like football', additional_kwargs={}, response_metadata={}, id='c899f8f6-138f-4e85-9b9b-19d14b142c4e'), AIMessage(content=\"You're a sports enthusiast, Nidhi. Both cricket and football are extremely popular sports with a massive global following. It's great that you enjoy watching and following both sports.\\n\\nDo you have a favorite football team or league, such as the English Premier League, La Liga, or the Bundesliga? Or do you like watching the Indian Super League (ISL) or the Indian national football team?\\n\\nAlso, have you ever thought about how cricket and football are two different sports with unique cultures and fan bases? The excitement, the thrill, and the strategies involved in both sports are quite different, but both have their own charm.\", additional_kwargs={}, response_metadata={'token_usage': {'completion_tokens': 127, 'prompt_tokens': 133, 'total_tokens': 260, 'completion_time': 0.214460815, 'prompt_time': 0.007253656, 'queue_time': 0.04503728, 'total_time': 0.221714471}, 'model_name': 'llama-3.1-8b-instant', 'system_fingerprint': 'fp_e32974efee', 'service_tier': 'on_demand', 'finish_reason': 'stop', 'logprobs': None}, id='run--6ec536db-e3ea-4098-95b0-2a8882f4762d-0', usage_metadata={'input_tokens': 133, 'output_tokens': 127, 'total_tokens': 260}), HumanMessage(content='I also like football ', additional_kwargs={}, response_metadata={}, id='bc840a1c-0d6b-479f-9529-9ca7e06131d6'), AIMessage(content=\"It seems like you're a fan of both football and football. I'm assuming you meant that you like football in general, and you didn't mean to say it twice.\\n\\nIn that case, what is it about football that you enjoy the most? Is it the skill and technique required by the players, the teamwork and strategy involved, or the excitement and unpredictability of the game?\\n\\nAnd do you have a favorite football position, such as goalkeeper, defender, midfielder, or forward?\", additional_kwargs={}, response_metadata={'token_usage': {'completion_tokens': 98, 'prompt_tokens': 274, 'total_tokens': 372, 'completion_time': 0.157640661, 'prompt_time': 0.015047833, 'queue_time': 0.045366297, 'total_time': 0.172688494}, 'model_name': 'llama-3.1-8b-instant', 'system_fingerprint': 'fp_ab04adca7d', 'service_tier': 'on_demand', 'finish_reason': 'stop', 'logprobs': None}, id='run--b0f797a9-2911-47c8-9488-bd6c19a8be04-0', usage_metadata={'input_tokens': 274, 'output_tokens': 98, 'total_tokens': 372}), HumanMessage(content='I Love sports ', additional_kwargs={}, response_metadata={}, id='5ece30aa-0fbb-4ee4-a4df-caa488c355b9'), AIMessage(content=\"You're a sports lover, Nidhi. It's great to see people who are passionate about sports and enjoy watching and following various games and competitions.\\n\\nSports have the power to bring people together, create a sense of community, and provide entertainment and excitement. Whether it's cricket, football, or any other sport, there's something special about watching talented athletes compete and pushing themselves to be their best.\\n\\nDo you ever play sports yourself, or are you more of a spectator?\", additional_kwargs={}, response_metadata={'token_usage': {'completion_tokens': 97, 'prompt_tokens': 385, 'total_tokens': 482, 'completion_time': 0.147031024, 'prompt_time': 0.021076841, 'queue_time': 0.045627969, 'total_time': 0.168107865}, 'model_name': 'llama-3.1-8b-instant', 'system_fingerprint': 'fp_33e8adf159', 'service_tier': 'on_demand', 'finish_reason': 'stop', 'logprobs': None}, id='run--cf71784c-8203-4ca8-8351-97d9b9828e12-0', usage_metadata={'input_tokens': 385, 'output_tokens': 97, 'total_tokens': 482}), HumanMessage(content='Hi My name is Nidhi and I like to play cricket', additional_kwargs={}, response_metadata={}, id='353aa76b-4392-4e56-a5aa-5ae9baa10479')]}}, 'run_id': '342837d2-07c5-4013-a664-c1135050f219', 'name': 'SuperBot', 'tags': ['graph:step:13'], 'metadata': {'thread_id': '3', 'langgraph_step': 13, 'langgraph_node': 'SuperBot', 'langgraph_triggers': ('branch:to:SuperBot',), 'langgraph_path': ('__pregel_pull', 'SuperBot'), 'langgraph_checkpoint_ns': 'SuperBot:230356a4-1cdb-3f4a-8085-cfe2d06e2a25'}, 'parent_ids': ['19dcd722-f436-4e7b-b39b-e935c5283b31']}\n",
      "{'event': 'on_chain_stream', 'run_id': '19dcd722-f436-4e7b-b39b-e935c5283b31', 'name': 'LangGraph', 'tags': [], 'metadata': {'thread_id': '3'}, 'data': {'chunk': {'SuperBot': {'messages': [AIMessage(content=\"Hello Nidhi. It's great to hear that you like to play cricket. Being an active player can be a lot of fun, and it's a great way to stay physically fit and develop your skills.\\n\\nWhat position do you usually play in cricket? Are you a batsman, bowler, or all-rounder? Do you have a favorite team or player that you look up to?\\n\\nAlso, do you play cricket with friends, in a local league, or with your school/college team?\", additional_kwargs={}, response_metadata={'token_usage': {'completion_tokens': 104, 'prompt_tokens': 504, 'total_tokens': 608, 'completion_time': 0.229536733, 'prompt_time': 0.02760287, 'queue_time': 0.04625042, 'total_time': 0.257139603}, 'model_name': 'llama-3.1-8b-instant', 'system_fingerprint': 'fp_33e8adf159', 'service_tier': 'on_demand', 'finish_reason': 'stop', 'logprobs': None}, id='run--9bc0c7ea-6927-4fb7-b38e-8204ac019cfa-0', usage_metadata={'input_tokens': 504, 'output_tokens': 104, 'total_tokens': 608})]}}}, 'parent_ids': []}\n",
      "{'event': 'on_chain_end', 'data': {'output': {'messages': [HumanMessage(content='Hi,My name is Nidhi And I like cricket', additional_kwargs={}, response_metadata={}, id='d7b61e6b-8693-4ca8-b849-5620e4aa360c'), AIMessage(content=\"Hello Nidhi. It's great to hear that you like cricket. Cricket is one of the most popular sports in the world, and it has a huge following in many countries. \\n\\nWhich team or player is your favorite in cricket? Do you like watching the Indian Premier League (IPL), International Cricket Council (ICC) tournaments, or Test cricket?\", additional_kwargs={}, response_metadata={'token_usage': {'completion_tokens': 73, 'prompt_tokens': 47, 'total_tokens': 120, 'completion_time': 0.111632135, 'prompt_time': 0.002508505, 'queue_time': 0.044477531, 'total_time': 0.11414064}, 'model_name': 'llama-3.1-8b-instant', 'system_fingerprint': 'fp_7b3cfae3af', 'service_tier': 'on_demand', 'finish_reason': 'stop', 'logprobs': None}, id='run--ac8fee9d-4130-4df6-9bfe-38cd397f5763-0', usage_metadata={'input_tokens': 47, 'output_tokens': 73, 'total_tokens': 120}), HumanMessage(content='I also like football', additional_kwargs={}, response_metadata={}, id='c899f8f6-138f-4e85-9b9b-19d14b142c4e'), AIMessage(content=\"You're a sports enthusiast, Nidhi. Both cricket and football are extremely popular sports with a massive global following. It's great that you enjoy watching and following both sports.\\n\\nDo you have a favorite football team or league, such as the English Premier League, La Liga, or the Bundesliga? Or do you like watching the Indian Super League (ISL) or the Indian national football team?\\n\\nAlso, have you ever thought about how cricket and football are two different sports with unique cultures and fan bases? The excitement, the thrill, and the strategies involved in both sports are quite different, but both have their own charm.\", additional_kwargs={}, response_metadata={'token_usage': {'completion_tokens': 127, 'prompt_tokens': 133, 'total_tokens': 260, 'completion_time': 0.214460815, 'prompt_time': 0.007253656, 'queue_time': 0.04503728, 'total_time': 0.221714471}, 'model_name': 'llama-3.1-8b-instant', 'system_fingerprint': 'fp_e32974efee', 'service_tier': 'on_demand', 'finish_reason': 'stop', 'logprobs': None}, id='run--6ec536db-e3ea-4098-95b0-2a8882f4762d-0', usage_metadata={'input_tokens': 133, 'output_tokens': 127, 'total_tokens': 260}), HumanMessage(content='I also like football ', additional_kwargs={}, response_metadata={}, id='bc840a1c-0d6b-479f-9529-9ca7e06131d6'), AIMessage(content=\"It seems like you're a fan of both football and football. I'm assuming you meant that you like football in general, and you didn't mean to say it twice.\\n\\nIn that case, what is it about football that you enjoy the most? Is it the skill and technique required by the players, the teamwork and strategy involved, or the excitement and unpredictability of the game?\\n\\nAnd do you have a favorite football position, such as goalkeeper, defender, midfielder, or forward?\", additional_kwargs={}, response_metadata={'token_usage': {'completion_tokens': 98, 'prompt_tokens': 274, 'total_tokens': 372, 'completion_time': 0.157640661, 'prompt_time': 0.015047833, 'queue_time': 0.045366297, 'total_time': 0.172688494}, 'model_name': 'llama-3.1-8b-instant', 'system_fingerprint': 'fp_ab04adca7d', 'service_tier': 'on_demand', 'finish_reason': 'stop', 'logprobs': None}, id='run--b0f797a9-2911-47c8-9488-bd6c19a8be04-0', usage_metadata={'input_tokens': 274, 'output_tokens': 98, 'total_tokens': 372}), HumanMessage(content='I Love sports ', additional_kwargs={}, response_metadata={}, id='5ece30aa-0fbb-4ee4-a4df-caa488c355b9'), AIMessage(content=\"You're a sports lover, Nidhi. It's great to see people who are passionate about sports and enjoy watching and following various games and competitions.\\n\\nSports have the power to bring people together, create a sense of community, and provide entertainment and excitement. Whether it's cricket, football, or any other sport, there's something special about watching talented athletes compete and pushing themselves to be their best.\\n\\nDo you ever play sports yourself, or are you more of a spectator?\", additional_kwargs={}, response_metadata={'token_usage': {'completion_tokens': 97, 'prompt_tokens': 385, 'total_tokens': 482, 'completion_time': 0.147031024, 'prompt_time': 0.021076841, 'queue_time': 0.045627969, 'total_time': 0.168107865}, 'model_name': 'llama-3.1-8b-instant', 'system_fingerprint': 'fp_33e8adf159', 'service_tier': 'on_demand', 'finish_reason': 'stop', 'logprobs': None}, id='run--cf71784c-8203-4ca8-8351-97d9b9828e12-0', usage_metadata={'input_tokens': 385, 'output_tokens': 97, 'total_tokens': 482}), HumanMessage(content='Hi My name is Nidhi and I like to play cricket', additional_kwargs={}, response_metadata={}, id='353aa76b-4392-4e56-a5aa-5ae9baa10479'), AIMessage(content=\"Hello Nidhi. It's great to hear that you like to play cricket. Being an active player can be a lot of fun, and it's a great way to stay physically fit and develop your skills.\\n\\nWhat position do you usually play in cricket? Are you a batsman, bowler, or all-rounder? Do you have a favorite team or player that you look up to?\\n\\nAlso, do you play cricket with friends, in a local league, or with your school/college team?\", additional_kwargs={}, response_metadata={'token_usage': {'completion_tokens': 104, 'prompt_tokens': 504, 'total_tokens': 608, 'completion_time': 0.229536733, 'prompt_time': 0.02760287, 'queue_time': 0.04625042, 'total_time': 0.257139603}, 'model_name': 'llama-3.1-8b-instant', 'system_fingerprint': 'fp_33e8adf159', 'service_tier': 'on_demand', 'finish_reason': 'stop', 'logprobs': None}, id='run--9bc0c7ea-6927-4fb7-b38e-8204ac019cfa-0', usage_metadata={'input_tokens': 504, 'output_tokens': 104, 'total_tokens': 608})]}}, 'run_id': '19dcd722-f436-4e7b-b39b-e935c5283b31', 'name': 'LangGraph', 'tags': [], 'metadata': {'thread_id': '3'}, 'parent_ids': []}\n"
     ]
    }
   ],
   "source": [
    "config = {\"configurable\": {\"thread_id\": \"3\"}}\n",
    "\n",
    "async for event in graph_builder.astream_events({\"messages\":[\"Hi My name is Nidhi and I like to play cricket\"]},config,version=\"v2\"):\n",
    "    print(event)"
   ]
  },
  {
   "cell_type": "code",
   "execution_count": null,
   "metadata": {},
   "outputs": [],
   "source": [
    "y"
   ]
  }
 ],
 "metadata": {
  "kernelspec": {
   "display_name": "venv",
   "language": "python",
   "name": "python3"
  },
  "language_info": {
   "codemirror_mode": {
    "name": "ipython",
    "version": 3
   },
   "file_extension": ".py",
   "mimetype": "text/x-python",
   "name": "python",
   "nbconvert_exporter": "python",
   "pygments_lexer": "ipython3",
   "version": "3.10.11"
  }
 },
 "nbformat": 4,
 "nbformat_minor": 2
}
