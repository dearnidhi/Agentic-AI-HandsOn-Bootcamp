{
 "cells": [
  {
   "cell_type": "markdown",
   "id": "b049b68d",
   "metadata": {},
   "source": [
    "# Understanding LangGraph Router with LLM and Tools\n",
    "\n",
    "---\n",
    "\n",
    "## Step 1: Imagine a Conversation Flow\n",
    "\n",
    "Think of the AI like a person who can either:  \n",
    "\n",
    "- Answer your question directly.  \n",
    "- Or, if it needs a tool (like a calculator or API), go get the answer first.  \n",
    "\n",
    "**Example:**\n",
    "\n",
    "```text\n",
    "User: “What is 2 + 2?”\n",
    "LLM: “I need to call the addition tool.”\n",
    "Tool: Adds 2 + 2 → returns 4\n",
    "LLM: Sends “4” back to the user\n"
   ]
  },
  {
   "cell_type": "markdown",
   "id": "e10dd8c9",
   "metadata": {},
   "source": [
    "## Step 2: How Router Works\n",
    "\n",
    "**Router = the decision-maker**\n",
    "\n",
    "It decides:\n",
    "\n",
    "- Should I answer directly?  \n",
    "- Or should I call a tool first?  \n",
    "\n",
    "**Without router:**  \n",
    "LLM might just say “I will call the tool” but not do anything.  \n",
    "\n",
    "**With router:**  \n",
    "LLM automatically calls the tool, gets the result, and responds.\n",
    "\n",
    "---\n",
    "\n",
    "## Step 3: Plain Flow \n",
    "\n",
    "```text\n",
    "User Input\n",
    "    │\n",
    "    ▼\n",
    "LLM Node\n",
    "    │\n",
    "    ▼\n",
    "Does LLM need a tool?\n",
    "    ├─ Yes → Call Tool → Return Result → LLM Node\n",
    "    └─ No  → Direct Response\n",
    "    │\n",
    "    ▼\n",
    "Final Answer to User\n"
   ]
  },
  {
   "cell_type": "markdown",
   "id": "571723d3",
   "metadata": {},
   "source": [
    "Explanation of Nodes:\n",
    "- LLM Node: The AI deciding what to do\n",
    "- Call Tool: Executes the function (like adding numbers)\n",
    "- Final Answer: The response sent back to the user"
   ]
  },
  {
   "cell_type": "markdown",
   "id": "5e055acb",
   "metadata": {},
   "source": [
    "## Step 4: Key Idea\n",
    "\n",
    "- **LLM = brain**  \n",
    "- **Tools = hands** (do specific tasks like adding numbers or fetching news)  \n",
    "- **Router = manager** (decides whether to use hands or just talk)  \n",
    "\n",
    "So when people say:\n",
    "\n",
    "> “LLM + tool + router = agent”\n",
    "\n",
    "It just means:\n",
    "\n",
    "> The AI can now **think, decide, and act automatically**.\n"
   ]
  },
  {
   "cell_type": "markdown",
   "id": "04aecd43",
   "metadata": {},
   "source": []
  }
 ],
 "metadata": {
  "language_info": {
   "name": "python"
  }
 },
 "nbformat": 4,
 "nbformat_minor": 5
}
