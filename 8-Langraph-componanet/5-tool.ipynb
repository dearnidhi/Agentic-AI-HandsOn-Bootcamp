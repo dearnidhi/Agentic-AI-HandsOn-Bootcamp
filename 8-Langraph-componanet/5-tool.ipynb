{
 "cells": [
  {
   "cell_type": "markdown",
   "id": "0bc58254",
   "metadata": {},
   "source": [
    "# Tools in LangGraph / LM Workflow\n",
    "\n",
    "## Purpose of Tools\n",
    "Tools are **external systems or APIs** that LLMs can call when they cannot answer a query directly.\n",
    "\n",
    "**Examples:**\n",
    "- Weather API\n",
    "- Math functions (`add(a, b)`)\n",
    "- Databases (SQL, vector DB)\n",
    "- Third-party APIs\n",
    "\n",
    "---\n",
    "\n",
    "## How it Works\n",
    "- The **LM acts as the brain** for each node.\n",
    "- When a human query comes in, the LM decides:\n",
    "  1. Can I answer this directly?\n",
    "  2. If not → **call a tool**.\n",
    "- Tools have a **schema** (often JSON) which defines input/output for the LM to understand.\n",
    "\n",
    "---\n",
    "\n",
    "## Binding Tools\n",
    "- **Binding** connects the tool to the LM node so it knows the tool exists.\n",
    "- **Example:**\n",
    "```python\n",
    "lm.bind_tool([add])\n"
   ]
  },
  {
   "cell_type": "markdown",
   "id": "fd6bff37",
   "metadata": {},
   "source": [
    "- add is a function with a docstring explaining its functionality.\n",
    "- LM uses this to know when and how to call the tool."
   ]
  },
  {
   "cell_type": "markdown",
   "id": "88bf889b",
   "metadata": {},
   "source": [
    "# Tool Call Flow\n",
    "Human → LM → Tool → LM → Human"
   ]
  },
  {
   "cell_type": "markdown",
   "id": "22aba319",
   "metadata": {},
   "source": [
    "\n",
    "1. **LM receives input.**  \n",
    "2. **Determines if a tool call is needed.**  \n",
    "3. **Sends input to the tool.**  \n",
    "4. **Tool returns output.**  \n",
    "5. **LM continues the workflow** (e.g., sends final answer to human).\n",
    "\n",
    "---\n",
    "\n",
    "## Custom Example Tool\n",
    "\n",
    "**Function: `add(a, b)`**\n",
    "```python\n",
    "def add(a: int, b: int) -> int:\n",
    "    \"\"\"Add two integers a and b, return the sum.\"\"\"\n",
    "    return a + b\n"
   ]
  },
  {
   "cell_type": "markdown",
   "id": "2634e4ea",
   "metadata": {},
   "source": [
    "- Bind it: lm.bind_tool([add])\n",
    "- Now LM can handle queries like: \"What is 2 + 2?\" automatically using the tool."
   ]
  },
  {
   "cell_type": "markdown",
   "id": "4f2ddbb0",
   "metadata": {},
   "source": [
    "# State & Reducer\n",
    "- The state keeps track of messages (human + LM + tool responses).\n",
    "- Reducer (add_messages) ensures new messages are appended rather than"
   ]
  },
  {
   "cell_type": "markdown",
   "id": "9fbe411a",
   "metadata": {},
   "source": [
    "# Tool Call Flow\n",
    "\n",
    "```text\n",
    "Human\n",
    "  │\n",
    "  ▼\n",
    "  LM (decides if tool is needed)\n",
    "  │\n",
    "  ▼\n",
    "  Tool (executes task)\n",
    "  │\n",
    "  ▼\n",
    "  LM (processes tool output)\n",
    "  │\n",
    "  ▼\n",
    "Human (receives final answer)\n"
   ]
  },
  {
   "cell_type": "markdown",
   "id": "ee2afedf",
   "metadata": {},
   "source": [
    "# Adding a Tool Node in LangGraph\n",
    "\n",
    "- **Tool Node:** A special node in LangGraph to execute external functions or APIs when the LLM cannot answer directly.  \n",
    "- **Tool Condition:** Decides whether the LM should call the tool or go directly to the end.  \n",
    "- **Graph Flow:**\n",
    "  - Tool-required query: Human → LM → Tool → LM → Human  \n",
    "  - Direct answer query: Human → LM → Human  \n",
    "- **Steps to Implement:**\n",
    "  1. Import `ToolNode` and `tools_condition`.\n",
    "  2. Add LM node (chatbot) and Tool Node to the graph.\n",
    "  3. Add conditional edges using `tools_condition`.\n",
    "  4. Compile the graph.\n",
    "  5. Execute queries; tool calls happen automatically when needed.  \n",
    "- **Example Tool:** `add(a, b)` can be called automatically for math queries.  \n",
    "- **Key Benefit:** Enables dynamic routing of queries to tools, creating flexible and powerful workflows in LangGraph.\n"
   ]
  }
 ],
 "metadata": {
  "language_info": {
   "name": "python"
  }
 },
 "nbformat": 4,
 "nbformat_minor": 5
}
