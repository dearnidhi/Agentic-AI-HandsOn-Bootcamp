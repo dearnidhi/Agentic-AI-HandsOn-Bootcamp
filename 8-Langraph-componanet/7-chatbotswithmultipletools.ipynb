{
 "cells": [
  {
   "cell_type": "markdown",
   "metadata": {},
   "source": [
    "### Building Chatbot With Multiple Tools Using Langgraph\n",
    "\n",
    "Create a chatbot with tool capabilities from arxiv, wikipedia search and some functions"
   ]
  },
  {
   "cell_type": "code",
   "execution_count": null,
   "metadata": {},
   "outputs": [],
   "source": [
    "from langchain_community.tools import ArxivQueryRun,WikipediaQueryRun\n",
    "from langchain_community.utilities import WikipediaAPIWrapper,ArxivAPIWrapper"
   ]
  },
  {
   "cell_type": "code",
   "execution_count": null,
   "metadata": {},
   "outputs": [
    {
     "name": "stdout",
     "output_type": "stream",
     "text": [
      "Collecting arxiv\n",
      "  Using cached arxiv-2.2.0-py3-none-any.whl (11 kB)\n",
      "Requirement already satisfied: requests~=2.32.0 in c:\\users\\window 11\\desktop\\agentic ai\\venv\\lib\\site-packages (from arxiv) (2.32.5)\n",
      "Collecting feedparser~=6.0.10\n",
      "  Using cached feedparser-6.0.12-py3-none-any.whl (81 kB)\n",
      "Collecting sgmllib3k\n",
      "  Using cached sgmllib3k-1.0.0.tar.gz (5.8 kB)\n",
      "  Preparing metadata (setup.py): started\n",
      "  Preparing metadata (setup.py): finished with status 'done'\n",
      "Requirement already satisfied: idna<4,>=2.5 in c:\\users\\window 11\\desktop\\agentic ai\\venv\\lib\\site-packages (from requests~=2.32.0->arxiv) (3.10)\n",
      "Requirement already satisfied: certifi>=2017.4.17 in c:\\users\\window 11\\desktop\\agentic ai\\venv\\lib\\site-packages (from requests~=2.32.0->arxiv) (2025.8.3)\n",
      "Requirement already satisfied: urllib3<3,>=1.21.1 in c:\\users\\window 11\\desktop\\agentic ai\\venv\\lib\\site-packages (from requests~=2.32.0->arxiv) (2.5.0)\n",
      "Requirement already satisfied: charset_normalizer<4,>=2 in c:\\users\\window 11\\desktop\\agentic ai\\venv\\lib\\site-packages (from requests~=2.32.0->arxiv) (3.4.3)\n",
      "Installing collected packages: sgmllib3k, feedparser, arxiv\n",
      "  Running setup.py install for sgmllib3k: started\n",
      "  Running setup.py install for sgmllib3k: finished with status 'done'\n",
      "Successfully installed arxiv-2.2.0 feedparser-6.0.12 sgmllib3k-1.0.0\n",
      "Note: you may need to restart the kernel to use updated packages.\n"
     ]
    },
    {
     "name": "stderr",
     "output_type": "stream",
     "text": [
      "  DEPRECATION: sgmllib3k is being installed using the legacy 'setup.py install' method, because it does not have a 'pyproject.toml' and the 'wheel' package is not installed. pip 23.1 will enforce this behaviour change. A possible replacement is to enable the '--use-pep517' option. Discussion can be found at https://github.com/pypa/pip/issues/8559\n",
      "\n",
      "[notice] A new release of pip is available: 23.0.1 -> 25.2\n",
      "[notice] To update, run: python.exe -m pip install --upgrade pip\n"
     ]
    }
   ],
   "source": [
    "pip install arxiv"
   ]
  },
  {
   "cell_type": "code",
   "execution_count": null,
   "metadata": {},
   "outputs": [
    {
     "name": "stdout",
     "output_type": "stream",
     "text": [
      "arxiv\n"
     ]
    }
   ],
   "source": [
    "api_wrapper_arxiv=ArxivAPIWrapper(top_k_results=2,doc_content_chars_max=500)\n",
    "arxiv=ArxivQueryRun(api_wrapper=api_wrapper_arxiv)\n",
    "print(arxiv.name)"
   ]
  },
  {
   "cell_type": "code",
   "execution_count": null,
   "metadata": {},
   "outputs": [
    {
     "data": {
      "text/plain": [
       "\"Published: 2024-07-22\\nTitle: Attention Is All You Need But You Don't Need All Of It For Inference of Large Language Models\\nAuthors: Georgy Tyukin, Gbetondji J-S Dovonon, Jean Kaddour, Pasquale Minervini\\nSummary: The inference demand for LLMs has skyrocketed in recent months, and serving\\nmodels with low latencies remains challenging due to the quadratic input length\\ncomplexity of the attention layers. In this work, we investigate the effect of\\ndropping MLP and attention layers at inference time o\""
      ]
     },
     "execution_count": 6,
     "metadata": {},
     "output_type": "execute_result"
    }
   ],
   "source": [
    "arxiv.invoke(\"Attention is all you need\")"
   ]
  },
  {
   "cell_type": "code",
   "execution_count": null,
   "metadata": {},
   "outputs": [
    {
     "name": "stdout",
     "output_type": "stream",
     "text": [
      "Collecting Wikipedia\n",
      "  Using cached wikipedia-1.4.0.tar.gz (27 kB)\n",
      "  Preparing metadata (setup.py): started\n",
      "  Preparing metadata (setup.py): finished with status 'done'\n",
      "Collecting beautifulsoup4\n",
      "  Downloading beautifulsoup4-4.14.2-py3-none-any.whl (106 kB)\n",
      "     ---------------------------------------- 0.0/106.4 kB ? eta -:--:--\n",
      "     ------------------------------------ - 102.4/106.4 kB 2.0 MB/s eta 0:00:01\n",
      "     -------------------------------------- 106.4/106.4 kB 1.2 MB/s eta 0:00:00\n",
      "Requirement already satisfied: requests<3.0.0,>=2.0.0 in c:\\users\\window 11\\desktop\\agentic ai\\venv\\lib\\site-packages (from Wikipedia) (2.32.5)\n",
      "Requirement already satisfied: charset_normalizer<4,>=2 in c:\\users\\window 11\\desktop\\agentic ai\\venv\\lib\\site-packages (from requests<3.0.0,>=2.0.0->Wikipedia) (3.4.3)\n",
      "Requirement already satisfied: urllib3<3,>=1.21.1 in c:\\users\\window 11\\desktop\\agentic ai\\venv\\lib\\site-packages (from requests<3.0.0,>=2.0.0->Wikipedia) (2.5.0)\n",
      "Requirement already satisfied: idna<4,>=2.5 in c:\\users\\window 11\\desktop\\agentic ai\\venv\\lib\\site-packages (from requests<3.0.0,>=2.0.0->Wikipedia) (3.10)\n",
      "Requirement already satisfied: certifi>=2017.4.17 in c:\\users\\window 11\\desktop\\agentic ai\\venv\\lib\\site-packages (from requests<3.0.0,>=2.0.0->Wikipedia) (2025.8.3)\n",
      "Collecting soupsieve>1.2\n",
      "  Using cached soupsieve-2.8-py3-none-any.whl (36 kB)\n",
      "Requirement already satisfied: typing-extensions>=4.0.0 in c:\\users\\window 11\\desktop\\agentic ai\\venv\\lib\\site-packages (from beautifulsoup4->Wikipedia) (4.15.0)\n",
      "Installing collected packages: soupsieve, beautifulsoup4, Wikipedia\n",
      "  Running setup.py install for Wikipedia: started\n",
      "  Running setup.py install for Wikipedia: finished with status 'done'\n",
      "Successfully installed Wikipedia-1.4.0 beautifulsoup4-4.14.2 soupsieve-2.8\n",
      "Note: you may need to restart the kernel to use updated packages.\n"
     ]
    },
    {
     "name": "stderr",
     "output_type": "stream",
     "text": [
      "  DEPRECATION: Wikipedia is being installed using the legacy 'setup.py install' method, because it does not have a 'pyproject.toml' and the 'wheel' package is not installed. pip 23.1 will enforce this behaviour change. A possible replacement is to enable the '--use-pep517' option. Discussion can be found at https://github.com/pypa/pip/issues/8559\n",
      "\n",
      "[notice] A new release of pip is available: 23.0.1 -> 25.2\n",
      "[notice] To update, run: python.exe -m pip install --upgrade pip\n"
     ]
    }
   ],
   "source": [
    "pip install Wikipedia"
   ]
  },
  {
   "cell_type": "code",
   "execution_count": null,
   "metadata": {},
   "outputs": [
    {
     "data": {
      "text/plain": [
       "'wikipedia'"
      ]
     },
     "execution_count": 8,
     "metadata": {},
     "output_type": "execute_result"
    }
   ],
   "source": [
    "api_wrapper_wiki=WikipediaAPIWrapper(top_k_results=1,doc_content_chars_max=500)\n",
    "wiki=WikipediaQueryRun(api_wrapper=api_wrapper_wiki)\n",
    "wiki.name"
   ]
  },
  {
   "cell_type": "code",
   "execution_count": null,
   "metadata": {},
   "outputs": [
    {
     "data": {
      "text/plain": [
       "'Page: Machine learning\\nSummary: Machine learning (ML) is a field of study in artificial intelligence concerned with the development and study of statistical algorithms that can learn from data and generalise to unseen data, and thus perform tasks without explicit instructions. Within a subdiscipline in machine learning, advances in the field of deep learning have allowed neural networks, a class of statistical algorithms, to surpass many previous machine learning approaches in performance.\\nML fi'"
      ]
     },
     "execution_count": 9,
     "metadata": {},
     "output_type": "execute_result"
    }
   ],
   "source": [
    "wiki.invoke(\"What is machine learning\")"
   ]
  },
  {
   "cell_type": "code",
   "execution_count": null,
   "metadata": {},
   "outputs": [],
   "source": [
    "from dotenv import load_dotenv\n",
    "load_dotenv()\n",
    "\n",
    "import os\n",
    "\n",
    "os.environ[\"TAVILY_API_KEY\"]=os.getenv(\"TAVILY_API_KEY\")\n",
    "os.environ[\"GROQ_API_KEY\"]=os.getenv(\"GROQ_API_KEY\")\n",
    "\n"
   ]
  },
  {
   "cell_type": "code",
   "execution_count": null,
   "metadata": {},
   "outputs": [
    {
     "name": "stderr",
     "output_type": "stream",
     "text": [
      "C:\\Users\\window 11\\AppData\\Local\\Temp\\ipykernel_17864\\3584238.py:4: LangChainDeprecationWarning: The class `TavilySearchResults` was deprecated in LangChain 0.3.25 and will be removed in 1.0. An updated version of the class exists in the :class:`~langchain-tavily package and should be used instead. To use it run `pip install -U :class:`~langchain-tavily` and import as `from :class:`~langchain_tavily import TavilySearch``.\n",
      "  tavily = TavilySearchResults()\n"
     ]
    }
   ],
   "source": [
    "### Tavily Search Tool\n",
    "from langchain_community.tools.tavily_search import TavilySearchResults\n",
    "\n",
    "tavily = TavilySearchResults()"
   ]
  },
  {
   "cell_type": "code",
   "execution_count": null,
   "metadata": {},
   "outputs": [
    {
     "data": {
      "text/plain": [
       "[{'title': 'AI Update, October 3, 2025: AI News and Views From the Past Week',\n",
       "  'url': 'https://www.marketingprofs.com/opinions/2025/53797/ai-update-october-3-2025-ai-news-and-views-from-the-past-week',\n",
       "  'content': 'Catch up on select AI news and developments from the past week or so: OpenAI launches Sora 2 with audio and likeness features.',\n",
       "  'score': 0.88178825},\n",
       " {'title': 'An update on Artificial Intelligence (A.I.) technology | Oct. 3 - WNDU',\n",
       "  'url': 'https://www.wndu.com/2025/10/03/an-update-artificial-intelligence-ai-technology-oct-3/',\n",
       "  'content': '# An update on Artificial Intelligence (A.I.) technology | Oct. 3\\n\\nSOUTH BEND, Ind. (WNDU) - The last two weeks in AI were big. Think faster tools, safer systems and giant partnerships that will shape what our phones, computers and workplaces can do.\\n\\nFirst, Google’s AI team tightened its safety rules for powerful models — basically better guardrails so advanced systems don’t mislead people or act unpredictably. [...] OpenAI’s CEO also met leaders in the Middle East about international collaboration. Bottom line, OpenAI is gearing up for much bigger, more capable models and is locking in global partners to do it.\\n\\nMicrosoft made its Copilot assistant more flexible by adding access to models beyond OpenAI’s.\\n\\nFor businesses, that means choosing the right AI “engine” for each task-speed, cost, or deep reasoning inside the same Microsoft tools they already use. [...] Stay up to date on local news with WNDU on-air and online. Be sure to download the 16 News Now App and follow our YouTube page as we continue to bring you the latest coverage on this developing story.\\n\\nCopyright 2025 WNDU. All rights reserved.\\n\\n#### Most Read\\n\\nJacqueline Bell was found stranded in the woods by a group of Good Samaritans.\\n\\n###### Missing Mishawaka woman found alive in woods near apartment complex\\n\\nRoy Lee Ward',\n",
       "  'score': 0.82994765},\n",
       " {'title': 'AI Today in 5: October 3, 2025, The What is Truth Edition | Thomas Fox',\n",
       "  'url': 'https://www.jdsupra.com/legalnews/ai-today-in-5-october-3-2025-the-what-74954/',\n",
       "  'content': 'JD Supra\\n\\n# AI Today in 5: October 3, 2025, The What is Truth Edition\\n\\nTop AI stories See more +\\n\\nTop AI stories See more +\\n\\nTop AI stories See more +\\n\\nTop AI stories See more +\\n\\nTop AI stories include:\\n\\nTop AI stories include:\\n\\nTop AI stories include:\\n\\nTop AI stories include:\\n\\n• How AI is transforming compliance. (SIA Partners): \\n\\n• How AI is transforming compliance. (SIA Partners): \\n\\n• How AI is transforming compliance. (SIA Partners): \\n\\n• How AI is transforming compliance. (SIA Partners): [...] • AI agents for tax. (PR Newswire): \\n\\n• AI agents for tax. (PR Newswire): \\n\\n• AI agents for tax. (PR Newswire): \\n\\n• Microsoft invests $33 billion in micro-clouds. (Bloomberg): \\n\\n• Microsoft invests $33 billion in micro-clouds. (Bloomberg): \\n\\n• Microsoft invests $33 billion in micro-clouds. (Bloomberg): \\n\\n• Microsoft invests $33 billion in micro-clouds. (Bloomberg): [...] • AI: What will become of the truth?. (FT): \\n\\n• AI: What will become of the truth?. (FT): \\n\\n• AI: What will become of the truth?. (FT): \\n\\n• AI: What will become of the truth?. (FT): \\n\\n• Overcoming roadblocks to AI in compliance. (SIA Partners): \\n\\n• Overcoming roadblocks to AI in compliance. (SIA Partners): \\n\\n• Overcoming roadblocks to AI in compliance. (SIA Partners): \\n\\n• Overcoming roadblocks to AI in compliance. (SIA Partners): \\n\\n• AI agents for tax. (PR Newswire):',\n",
       "  'score': 0.8296166},\n",
       " {'title': \"What's New in AI? Top Breakthroughs You Should Know About ...\",\n",
       "  'url': 'https://medium.com/@varunrao.aiml/whats-new-in-ai-top-breakthroughs-you-should-know-about-october-2025-7c267bbcecfb',\n",
       "  'content': '## 🛣️ The Road Ahead\\n\\nOctober 2025 will be remembered as an inflection point — when AI transitioned from impressive demos to practical tools that reshape entire industries.\\n\\n## The Opportunities 🌟\\n\\n## Important Questions 🤔\\n\\nThe speed of advancement raises crucial concerns:\\n\\nThese questions need answers now as technologies move from labs to everyday life.\\n\\n## 🎯 Your Action Plan\\n\\nWhat you can do right now: 💪\\n\\n## 1. Experiment 🔬 [...] October 2025 has been a landmark month for artificial intelligence, with groundbreaking announcements reshaping creativity, business, and technology. Whether you’re a developer, business leader, or tech enthusiast, these developments will impact your world sooner than you think.\\n\\nLet’s dive into the most significant AI breakthroughs that have everyone talking. ⚡\\n\\n## 🎯 OpenAI’s Game-Changing Announcements [...] Sign up\\n\\nSign in\\n\\nSign up\\n\\nSign in\\n\\n# What’s New in AI? Top Breakthroughs You Should Know About (October 2025) 🚀\\n\\nvarun rao\\n\\n--\\n\\nListen\\n\\nShare\\n\\nThe AI revolution isn’t coming — it’s already here, and it’s accelerating faster than ever.',\n",
       "  'score': 0.82186085},\n",
       " {'title': 'Disrupting malicious uses of AI: October 2025 | OpenAI',\n",
       "  'url': 'https://openai.com/global-affairs/disrupting-malicious-uses-of-ai-october-2025/',\n",
       "  'content': \"Discover how OpenAI is detecting and disrupting malicious uses of AI in our October 2025 report. Learn how we're countering misuse,\",\n",
       "  'score': 0.643173}]"
      ]
     },
     "execution_count": 13,
     "metadata": {},
     "output_type": "execute_result"
    }
   ],
   "source": [
    "tavily.invoke(\"Provide me the recent AI news for oct 3rd 2025\")"
   ]
  },
  {
   "cell_type": "code",
   "execution_count": null,
   "metadata": {},
   "outputs": [],
   "source": [
    "### Combine all the tools in the list\n",
    "\n",
    "tools=[arxiv,wiki,tavily]"
   ]
  },
  {
   "cell_type": "code",
   "execution_count": null,
   "metadata": {},
   "outputs": [],
   "source": [
    "## Initialize my LLM model\n",
    "\n",
    "from langchain_groq import ChatGroq\n",
    "\n",
    "llm=ChatGroq(model=\"llama-3.1-8b-instant\")\n",
    "\n",
    "llm_with_tools=llm.bind_tools(tools)"
   ]
  },
  {
   "cell_type": "code",
   "execution_count": null,
   "metadata": {},
   "outputs": [
    {
     "data": {
      "text/plain": [
       "AIMessage(content='', additional_kwargs={'tool_calls': [{'id': '2tk476vbx', 'function': {'arguments': '{\"query\":\"recent AI news\"}', 'name': 'tavily_search_results_json'}, 'type': 'function'}]}, response_metadata={'token_usage': {'completion_tokens': 20, 'prompt_tokens': 553, 'total_tokens': 573, 'completion_time': 0.023826574, 'prompt_time': 0.034049421, 'queue_time': 0.072652449, 'total_time': 0.057875995}, 'model_name': 'llama-3.1-8b-instant', 'system_fingerprint': 'fp_33e8adf159', 'service_tier': 'on_demand', 'finish_reason': 'tool_calls', 'logprobs': None}, id='run--77905af8-429d-4815-ade0-0ba713aeb263-0', tool_calls=[{'name': 'tavily_search_results_json', 'args': {'query': 'recent AI news'}, 'id': '2tk476vbx', 'type': 'tool_call'}], usage_metadata={'input_tokens': 553, 'output_tokens': 20, 'total_tokens': 573})"
      ]
     },
     "execution_count": 24,
     "metadata": {},
     "output_type": "execute_result"
    }
   ],
   "source": [
    "from pprint import pprint\n",
    "from langchain_core.messages import AIMessage, HumanMessage\n",
    "llm_with_tools.invoke([HumanMessage(content=f\"What is the recent AI News\")])"
   ]
  },
  {
   "cell_type": "code",
   "execution_count": null,
   "metadata": {},
   "outputs": [
    {
     "data": {
      "text/plain": [
       "[{'name': 'tavily_search_results_json',\n",
       "  'args': {'query': 'recent AI news'},\n",
       "  'id': '93xnn64qm',\n",
       "  'type': 'tool_call'}]"
      ]
     },
     "execution_count": 25,
     "metadata": {},
     "output_type": "execute_result"
    }
   ],
   "source": [
    "llm_with_tools.invoke([HumanMessage(content=f\"What is the recent AI News\")]).tool_calls"
   ]
  },
  {
   "cell_type": "code",
   "execution_count": null,
   "metadata": {},
   "outputs": [],
   "source": [
    "## State Schema\n",
    "from typing_extensions import TypedDict\n",
    "from langchain_core.messages import AnyMessage\n",
    "from typing import Annotated\n",
    "from langgraph.graph.message import add_messages\n",
    "class State(TypedDict):\n",
    "    messages:Annotated[list[AnyMessage],add_messages]"
   ]
  },
  {
   "cell_type": "code",
   "execution_count": null,
   "metadata": {},
   "outputs": [
    {
     "data": {
      "image/png": "[encoded data removed]",
      "text/plain": [
       "<IPython.core.display.Image object>"
      ]
     },
     "metadata": {},
     "output_type": "display_data"
    }
   ],
   "source": [
    "### Entire Chatbot With LangGraph\n",
    "from IPython.display import Image, display\n",
    "from langgraph.graph import StateGraph, START, END\n",
    "from langgraph.prebuilt import ToolNode\n",
    "from langgraph.prebuilt import tools_condition\n",
    "\n",
    "### Node definition\n",
    "def tool_calling_llm(state:State):\n",
    "    return {\"messages\":[llm_with_tools.invoke(state[\"messages\"])]}\n",
    "\n",
    "# Build graph\n",
    "builder = StateGraph(State)\n",
    "builder.add_node(\"tool_calling_llm\", tool_calling_llm)\n",
    "builder.add_node(\"tools\", ToolNode(tools))\n",
    "\n",
    "builder.add_edge(START, \"tool_calling_llm\")\n",
    "builder.add_conditional_edges(\n",
    "    \"tool_calling_llm\",\n",
    "    # If the latest message (result) from assistant is a tool call -> tools_condition routes to tools\n",
    "    # If the latest message (result) from assistant is a not a tool call -> tools_condition routes to END\n",
    "    tools_condition,\n",
    ")\n",
    "builder.add_edge(\"tools\", END)\n",
    "\n",
    "\n",
    "graph = builder.compile()\n",
    "\n",
    "# View\n",
    "display(Image(graph.get_graph().draw_mermaid_png()))\n"
   ]
  },
  {
   "cell_type": "code",
   "execution_count": null,
   "metadata": {},
   "outputs": [
    {
     "name": "stdout",
     "output_type": "stream",
     "text": [
      "================================\u001b[1m Human Message \u001b[0m=================================\n",
      "\n",
      "1706.03762\n",
      "==================================\u001b[1m Ai Message \u001b[0m==================================\n",
      "Tool Calls:\n",
      "  arxiv (k6js0nsdm)\n",
      " Call ID: k6js0nsdm\n",
      "  Args:\n",
      "    query: 1706.03762\n",
      "=================================\u001b[1m Tool Message \u001b[0m=================================\n",
      "Name: arxiv\n",
      "\n",
      "Published: 2023-08-02\n",
      "Title: Attention Is All You Need\n",
      "Authors: Ashish Vaswani, Noam Shazeer, Niki Parmar, Jakob Uszkoreit, Llion Jones, Aidan N. Gomez, Lukasz Kaiser, Illia Polosukhin\n",
      "Summary: The dominant sequence transduction models are based on complex recurrent or\n",
      "convolutional neural networks in an encoder-decoder configuration. The best\n",
      "performing models also connect the encoder and decoder through an attention\n",
      "mechanism. We propose a new simple network architecture, the Transformer, base\n"
     ]
    }
   ],
   "source": [
    "messages=graph.invoke({\"messages\":HumanMessage(content=\"1706.03762\")})\n",
    "for m in messages['messages']:\n",
    "    m.pretty_print()"
   ]
  },
  {
   "cell_type": "code",
   "execution_count": null,
   "metadata": {},
   "outputs": [
    {
     "name": "stdout",
     "output_type": "stream",
     "text": [
      "================================\u001b[1m Human Message \u001b[0m=================================\n",
      "\n",
      "Provide me the top 10 recent AI news for MArch 3rd 2025\n",
      "==================================\u001b[1m Ai Message \u001b[0m==================================\n",
      "Tool Calls:\n",
      "  tavily_search_results_json (3q0hkdvgw)\n",
      " Call ID: 3q0hkdvgw\n",
      "  Args:\n",
      "    query: AI news March 3rd 2025\n",
      "=================================\u001b[1m Tool Message \u001b[0m=================================\n",
      "Name: tavily_search_results_json\n",
      "\n",
      "[{\"title\": \"Weekly AI News: 3 March 2025 - AIforBusiness.net - YouTube\", \"url\": \"https://www.youtube.com/watch?v=kw21NJ7YmZM\", \"content\": \"This week’s AI update explores some of the most impactful developments shaping technology and society. OpenAI has unveiled GPT-4.5, a cutting-edge model with enhanced intuition and emotional intelligence. While its capabilities push AI closer to human-like perception, its high computational demands raise concerns about accessibility, particularly for smaller businesses. [...] A thought-provoking analysis in the Daily Maverick questions AI’s growing influence, warning that biases within AI systems could shape decision-making in unpredictable ways. As AI becomes more embedded in hiring, finance, and governance, are we truly in control?\\nGoogle’s decision to ease restrictions on AI use for military and surveillance purposes has ignited debate over the ethical boundaries of AI deployment. Should corporations define these limits, or should governments step in? [...] together welcome to this week's AI update where we break down the biggest stories in artificial intelligence fast simple and straight to the point let's dive in more powerful but also more demanding open AI has just launched GPT 4.5 a major upgrade that brings improvements in intuition emotional intelligence and even aesthetic judgment this marks a shift towards AI that isn't just analytical but can also mimic humanlike perception however this advancement comes at a cost GPT 4.5 is more\", \"score\": 0.93338853}, {\"title\": \"GPT 4.5 is out! — Weekly AI Newsletter (March 3rd 2025) - Medium\", \"url\": \"https://medium.com/nlplanet/gpt-4-5-is-out-weekly-ai-newsletter-march-3rd-2025-6b31dd83ca60\", \"content\": \"Sitemap\\n\\nOpen in app\\n\\nSign in\\n\\nSign in\\n\\n## Generative AI\\n\\n·\\n\\nExplanations of AI, machine learning, news, guides, courses, papers, and more.\\n\\n# GPT 4.5 is out! — Weekly AI Newsletter (March 3rd 2025)\\n\\n## Anthropic releases Claude 3.7 Sonnet, OpenAI expands Deep Research for Plus users, and Google launches new code assistant\\n\\nFabio Chiusano\\n\\n5 min readMar 3, 2025\\n\\n## 😎 News From The Web [...] When AI Thinks It Will Lose, It Sometimes Cheats, Study Finds. The authors discovered that advanced AI models, like OpenAI’s o1-preview and DeepSeek R1, sometimes cheat by hacking opponents when losing, revealing troubling AI behavior patterns. These models exploit cybersecurity loopholes due to reinforcement learning techniques, indicating potential real-world ethical risks. [...] OpenAI releases ‘largest, most knowledgable’ model GPT-4.5 with reduced hallucinations and high API price. OpenAI unveiled GPT-4.5, its latest large language model, featuring reduced hallucinations and enhanced conversational abilities. Initially available to ChatGPT Pro users, GPT-4.5 emphasizes unsupervised learning for pattern recognition and creativity. Despite improvements, the model’s high API cost and varying performance compared to rivals raise questions about its value in competitive\", \"score\": 0.91023487}, {\"title\": \"Daily AI Agent News - March 3, 2025 - AI Agent Store\", \"url\": \"https://aiagentstore.ai/ai-agent-news/daily/2025-03-04\", \"content\": \"March 4, 2025 — Today’s AI agent advancements highlighted OPPO's expanded ecosystem and TECNO's next-gen hardware, signaling accelerating adoption across industries. At MWC Barcelona 2025, OPPO announced AI Call Translator and AI VoiceScribe, aiming to integrate generative AI for 100 million users by year-end. Concurrently, TECNO debuted its AI Glasses, MEGABOOK S14 laptop, and CAMON 40 smartphone, emphasizing cross-device AI collaboration tailored for emerging markets. [...] AI Agent Store\\n\\n## AI Agent News Today\\nMonday, March 3, 2025 [...] IBM reinforced the 2025 \\\"year of the agent\\\" narrative, citing improved chain-of-thought reasoning and function-calling capabilities in today’s models as foundational for autonomous task execution. Meanwhile, MarTech analysts noted that 83% of businesses now use AI-driven hiring tools, with Salesforce and SAP rolling out specialized agents for customer engagement.\", \"score\": 0.898277}, {\"title\": \"AI Weekly Digest - March 3 2025 - LinkedIn\", \"url\": \"https://www.linkedin.com/pulse/ai-weekly-digest-march-3-2025-pa-media-ddmie\", \"content\": \"Mobile World Congress to be 'absolutely awash with AI'\\n\\nSTL Partners research director Amy Cameron said she expects this week's Mobile World Congress in Barcelona to be \\\"absolutely awash with AI\\\", adding: \\\"Within this I expect to hear a lot about activities supporting development of AI solutions for enterprise customers: Partnerships between telcos and lead AI tech platforms/players; Industry specific LLMs; Edge making a comeback with AI at the edge.”\\n\\nTo view or add a comment, sign in [...] Alibaba's Wan 2.1 now open source\\n\\nAlibaba has announced its video and image-generating AI model Wan 2.1 is now publicly available - or open source. Reports said the Chinese e-commerce leader's move was likely to increase its uptake and further intensify competition in AI. The move follows Chinese startup DeepSeek's market disrupting rollout of low-cost open-source models last month.\\n\\nLawsuit: Google AI Overviews 'eroding demand for original content' [...] New ChatGPT model 'dramatically reduces rate of hallucinations'\\n\\nOpenAI has launched GPT-4.5, an update to the model underpinning ChatGPT which it said dramatically reduces the rate of 'hallucinations', or inaccurate information generated in response to queries. It said the model is “at the frontier of what is possible in unsupervised learning”, and added that \\\"with every new order of magnitude of compute comes novel capabilities\\\".\", \"score\": 0.8834878}, {\"title\": \"AI round-up: Week of March 3, 2025 - Akhia\", \"url\": \"https://www.akhia.com/insights/benthinking/ai-round-up-week-of-march-03-2025\", \"content\": \"Story 2: AI is being tested on Super Mario Bros. (and doing pretty well) (TechCrunch)  \\nBUT, can it find those secret flutes in Super Mario Bros 3?\\n\\nStory 3: Microsoft unveils new voice-activated assistant for doctors. (CNBC)  \\nI’m not sure why it’s called Dragon. Makes me think of medieval medicine. Also, can we train it to say ‘Dammit, I’m a doctor, not an AI assistant!’\\n\\nStory 4: AI podcast hosts on the rise. (TechCrunch)  \\nAs in, you now have 400+ to choose from. [...] Story 2: I guess everything has a shelf life … even Google’s blue links (Yahoo! Tech)  \\nGoogle released an experimental version of its new AI-only search, meaning you won’t see the blue links when you search.\\n\\nLet that sink in. [...] Story 2: The author of last year’s California SB1047 bill has a new one to protect AI whistleblowers. (TechCrunch)\\n\\n## Final Note\\n\\nAs the goal posts continue to shift on achieving AGI (and what AGI is, exactly) the conversation continues to evolve. One conversation in particular is the one Ezra Klein had on his recent podcast with former Biden AI adviser, Ben Buchanan.\", \"score\": 0.8752871}]\n"
     ]
    }
   ],
   "source": [
    "messages=graph.invoke({\"messages\":HumanMessage(content=\"Provide me the top 10 recent AI news for MArch 3rd 2025\")})\n",
    "for m in messages['messages']:\n",
    "    m.pretty_print()"
   ]
  },
  {
   "cell_type": "code",
   "execution_count": null,
   "metadata": {},
   "outputs": [
    {
     "name": "stdout",
     "output_type": "stream",
     "text": [
      "================================\u001b[1m Human Message \u001b[0m=================================\n",
      "\n",
      "What is machine learning\n",
      "==================================\u001b[1m Ai Message \u001b[0m==================================\n",
      "\n",
      "<wikipedia>{\"query\": \"machine learning\"}</wikipedia>\n"
     ]
    }
   ],
   "source": [
    "messages=graph.invoke({\"messages\":HumanMessage(content=\"What is machine learning\")})\n",
    "for m in messages['messages']:\n",
    "    m.pretty_print()"
   ]
  },
  {
   "cell_type": "code",
   "execution_count": null,
   "metadata": {},
   "outputs": [],
   "source": []
  },
  {
   "cell_type": "code",
   "execution_count": null,
   "metadata": {},
   "outputs": [],
   "source": []
  },
  {
   "cell_type": "code",
   "execution_count": null,
   "metadata": {},
   "outputs": [],
   "source": []
  }
 ],
 "metadata": {
  "kernelspec": {
   "display_name": "venv",
   "language": "python",
   "name": "python3"
  },
  "language_info": {
   "codemirror_mode": {
    "name": "ipython",
    "version": 3
   },
   "file_extension": ".py",
   "mimetype": "text/x-python",
   "name": "python",
   "nbconvert_exporter": "python",
   "pygments_lexer": "ipython3",
   "version": "3.10.11"
  }
 },
 "nbformat": 4,
 "nbformat_minor": 2
}
